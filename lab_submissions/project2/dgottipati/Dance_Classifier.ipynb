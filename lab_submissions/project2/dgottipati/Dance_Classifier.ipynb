{
 "metadata": {
  "name": ""
 },
 "nbformat": 3,
 "nbformat_minor": 0,
 "worksheets": [
  {
   "cells": [
    {
     "cell_type": "raw",
     "metadata": {},
     "source": [
      "# TODO: \n",
      "# Do a frequency analysis of each data set\n",
      "# Combine the data sets\n",
      "# Note the top 200 common word occurences\n",
      "# Remove this top list of stop words\n",
      "# Try Bi-grams for classificiation"
     ]
    },
    {
     "cell_type": "code",
     "collapsed": false,
     "input": [
      "import nltk.classify.util\n",
      "from nltk.classify import NaiveBayesClassifier\n",
      "from nltk import tokenize\n",
      "import os\n",
      "from nltk.corpus import stopwords\n",
      "            \n",
      "from collections import Counter\n",
      "from itertools import chain"
     ],
     "language": "python",
     "metadata": {},
     "outputs": [],
     "prompt_number": 1
    },
    {
     "cell_type": "code",
     "collapsed": false,
     "input": [
      "nltk.download()"
     ],
     "language": "python",
     "metadata": {},
     "outputs": [
      {
       "output_type": "stream",
       "stream": "stdout",
       "text": [
        "showing info http://nltk.github.com/nltk_data/\n"
       ]
      },
      {
       "metadata": {},
       "output_type": "pyout",
       "prompt_number": 3,
       "text": [
        "True"
       ]
      }
     ],
     "prompt_number": 3
    },
    {
     "cell_type": "code",
     "collapsed": false,
     "input": [
      "def is_stop_word(word):\n",
      "    stop = stopwords.words('english')\n",
      "    if word in stop:\n",
      "        return True\n",
      "    else:\n",
      "        return False"
     ],
     "language": "python",
     "metadata": {},
     "outputs": [],
     "prompt_number": 2
    },
    {
     "cell_type": "code",
     "collapsed": false,
     "input": [
      "def munge_word(word):\n",
      "    munge_list = [ \".\", \":\", \"?\", \",\", \"'\",\"(\", \")\", \"),\",\"[\", \"]\" , \"\\\"\", \"-\"]\n",
      "    for l in munge_list:\n",
      "        if l in word:\n",
      "            word = word.strip(l)         \n",
      "    word = unicode(word, 'ascii', 'ignore')\n",
      "    return word"
     ],
     "language": "python",
     "metadata": {},
     "outputs": [],
     "prompt_number": 3
    },
    {
     "cell_type": "raw",
     "metadata": {},
     "source": [
      "This function loads the files from the disk and splits the words into tokens.\n",
      "    Input : \n",
      "            data_dir - The directory where your data files are\n",
      "            word_count - The max number of words to read from each file\n",
      "            debug - The debug boolean for the function.\n",
      "    Output:\n",
      "            A dictionary with each dance name as the key, and the associated words as a list"
     ]
    },
    {
     "cell_type": "code",
     "collapsed": false,
     "input": [
      "def load_data( data_dir, word_limit= 7000, debug=False ):\n",
      "    \n",
      "    dance_train_data = {}\n",
      "    \n",
      "    for dance_file in os.listdir( data_dir ):\n",
      "        dance_name_label = str.split(dance_file,\".\")[0]\n",
      "        dance_train_list = []\n",
      "        f = open(data_dir + dance_file, 'r')\n",
      "        if debug == True:\n",
      "            print \"Reading file %s\" %f\n",
      "        \n",
      "        i = 0\n",
      "        for line in f:\n",
      "            for word in line.split():\n",
      "                clean_word = munge_word(word)\n",
      "                #not_stop_word = is_stop_word(clean_word)\n",
      "                if (not is_stop_word(clean_word)) and (clean_word != \"\"):\n",
      "                    dance_train_list.append (clean_word)\n",
      "                i+=1\n",
      "                if i == word_limit:break\n",
      "            if i == word_limit:break\n",
      "        dance_train_data [ dance_name_label ] = list(set(dance_train_list))\n",
      "        f.close()\n",
      "        \n",
      "    if debug == True:\n",
      "        for key, value in dance_train_data.items():\n",
      "            print \"------------------------------------------------------------------------------------------------------------------\"\n",
      "            print (key, len(value))\n",
      "            print value\n",
      "        \n",
      "    return dance_train_data"
     ],
     "language": "python",
     "metadata": {},
     "outputs": [],
     "prompt_number": 4
    },
    {
     "cell_type": "code",
     "collapsed": false,
     "input": [
      "def remove_common_words(dance_data_dict):\n",
      "    temp_list =[]\n",
      "    for l in dance_data_dict.values():\n",
      "        temp_list.append(l)\n",
      "    \n",
      "    counts = Counter(chain(*map(set,temp_list)))\n",
      "    temp_list = [[i for i in sub_list if counts[i]==1] for sub_list in temp_list]\n",
      "    \n",
      "    i=0\n",
      "    for key in dance_data_dict.keys():\n",
      "    #print \"len = %d\" % len(dance_train_list[i])\n",
      "        dance_data_dict[key] = temp_list[i]\n",
      "        i+=1\n",
      "    return dance_data_dict "
     ],
     "language": "python",
     "metadata": {},
     "outputs": [],
     "prompt_number": 5
    },
    {
     "cell_type": "code",
     "collapsed": false,
     "input": [
      "dance_train_dir = \"/Users/deeps/ds_playground/class_stuff/dance_classifier/train/\"\n",
      "dance_train_dict = load_data(dance_train_dir, debug=False)\n",
      "dance_train_dict = remove_common_words(dance_train_dict)\n",
      "\n",
      "#print dance_train_dict"
     ],
     "language": "python",
     "metadata": {},
     "outputs": [],
     "prompt_number": 6
    },
    {
     "cell_type": "code",
     "collapsed": false,
     "input": [
      "dance_test_dir = \"/Users/deeps/ds_playground/class_stuff/dance_classifier/test/\"\n",
      "dance_test_dict = load_data(dance_test_dir, debug=False)\n",
      "dance_test_dict = remove_common_words(dance_test_dict)\n",
      "\n",
      "#print dance_test_dict"
     ],
     "language": "python",
     "metadata": {},
     "outputs": [],
     "prompt_number": 24
    },
    {
     "cell_type": "code",
     "collapsed": false,
     "input": [
      "def bag_of_words(words):\n",
      "    return dict([(word, True) for word in words])"
     ],
     "language": "python",
     "metadata": {},
     "outputs": [],
     "prompt_number": 19
    },
    {
     "cell_type": "code",
     "collapsed": false,
     "input": [
      "def create_features(dance_dict):\n",
      "    feature_list = []\n",
      "    for key, value in dance_dict.items():\n",
      "        feature_list += [(bag_of_words(value), key)]\n",
      "    return feature_list"
     ],
     "language": "python",
     "metadata": {},
     "outputs": [],
     "prompt_number": 9
    },
    {
     "cell_type": "code",
     "collapsed": false,
     "input": [
      "dance_train_feature_list = create_features(dance_train_dict)\n",
      "dance_test_feature_list = create_features(dance_test_dict)\n",
      "#print dance_train_feature_list\n",
      "#print \"-----------------------------------------------------------------------------------------------------------------------------\"\n",
      "#print dance_test_feature_list"
     ],
     "language": "python",
     "metadata": {},
     "outputs": [],
     "prompt_number": 36
    },
    {
     "cell_type": "code",
     "collapsed": false,
     "input": [
      "nb_cls = NaiveBayesClassifier.train(dance_train_feature_list)"
     ],
     "language": "python",
     "metadata": {},
     "outputs": [],
     "prompt_number": 21
    },
    {
     "cell_type": "code",
     "collapsed": false,
     "input": [
      "print 'accuracy:', nltk.classify.util.accuracy( nb_cls, dance_test_feature_list)"
     ],
     "language": "python",
     "metadata": {},
     "outputs": [
      {
       "output_type": "stream",
       "stream": "stdout",
       "text": [
        "accuracy: 1.0\n"
       ]
      }
     ],
     "prompt_number": 22
    },
    {
     "cell_type": "code",
     "collapsed": false,
     "input": [
      "nb_cls.show_most_informative_features()"
     ],
     "language": "python",
     "metadata": {},
     "outputs": [
      {
       "output_type": "stream",
       "stream": "stdout",
       "text": [
        "Most Informative Features\n"
       ]
      }
     ],
     "prompt_number": 23
    },
    {
     "cell_type": "code",
     "collapsed": false,
     "input": [
      "classify_hiphop = \"The older dance styles that were created in the 1970s include uprock, breaking, and the funk styles.\\\n",
      "Breaking was created in The Bronx, New York, incorporating dances that were popular in the 1960s and early 1970s in \\\n",
      "African-American and Latino communities\"\n",
      "\n",
      "classify_bellydance = \"In order to move a part of your body in one direction, first move it in the opposite direction. E.g. \\\n",
      "If you are trying to do a hip drop, first lift that hip slightly to do the drop. This give you the space your need to \\\n",
      "create the movement, which will help you create a bigger, fuller and more juicy movement.\""
     ],
     "language": "python",
     "metadata": {},
     "outputs": [],
     "prompt_number": 32
    },
    {
     "cell_type": "code",
     "collapsed": false,
     "input": [
      "print nb_cls.classify(bag_of_words(tokenize.word_tokenize(classify_hiphop)))\n",
      "print nb_cls.classify(bag_of_words(tokenize.word_tokenize(classify_bellydance)))"
     ],
     "language": "python",
     "metadata": {},
     "outputs": [
      {
       "output_type": "stream",
       "stream": "stdout",
       "text": [
        "hiphop\n",
        "bellydance\n"
       ]
      }
     ],
     "prompt_number": 33
    }
   ],
   "metadata": {}
  }
 ]
}