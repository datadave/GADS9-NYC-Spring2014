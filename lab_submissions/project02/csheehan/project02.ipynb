{
 "metadata": {
  "name": ""
 },
 "nbformat": 3,
 "nbformat_minor": 0,
 "worksheets": [
  {
   "cells": [
    {
     "cell_type": "code",
     "collapsed": false,
     "input": [
      "%pylab inline\n",
      "import numpy as np\n",
      "import pandas as pd\n",
      "import matplotlib.pyplot as plt"
     ],
     "language": "python",
     "metadata": {},
     "outputs": [
      {
       "output_type": "stream",
       "stream": "stdout",
       "text": [
        "Populating the interactive namespace from numpy and matplotlib\n"
       ]
      }
     ],
     "prompt_number": 17
    },
    {
     "cell_type": "heading",
     "level": 1,
     "metadata": {},
     "source": [
      "ACQUIRE:"
     ]
    },
    {
     "cell_type": "heading",
     "level": 2,
     "metadata": {},
     "source": [
      "Data was acquired during Project 1 scraping. (Still working on scraping box scores from 01/18 but proving to be a huge pain in the @$$ as the home team's stats table is always truncated by BeautifulSoup)"
     ]
    },
    {
     "cell_type": "code",
     "collapsed": false,
     "input": [
      "players = pd.read_csv('rosters_final.csv')"
     ],
     "language": "python",
     "metadata": {},
     "outputs": [],
     "prompt_number": 18
    },
    {
     "cell_type": "code",
     "collapsed": false,
     "input": [
      "teams = pd.read_csv('teams.csv')"
     ],
     "language": "python",
     "metadata": {},
     "outputs": [],
     "prompt_number": 19
    },
    {
     "cell_type": "code",
     "collapsed": false,
     "input": [
      "boxes = pd.read_csv('boxes.csv')"
     ],
     "language": "python",
     "metadata": {},
     "outputs": [],
     "prompt_number": 20
    },
    {
     "cell_type": "code",
     "collapsed": true,
     "input": [
      "players.head()"
     ],
     "language": "python",
     "metadata": {},
     "outputs": [
      {
       "html": [
        "<div style=\"max-height:1000px;max-width:1500px;overflow:auto;\">\n",
        "<table border=\"1\" class=\"dataframe\">\n",
        "  <thead>\n",
        "    <tr style=\"text-align: right;\">\n",
        "      <th></th>\n",
        "      <th>Team</th>\n",
        "      <th>Player</th>\n",
        "      <th>Class</th>\n",
        "      <th>Pos</th>\n",
        "      <th>Ht</th>\n",
        "    </tr>\n",
        "  </thead>\n",
        "  <tbody>\n",
        "    <tr>\n",
        "      <th>0</th>\n",
        "      <td> air-force</td>\n",
        "      <td>  DeLovell Earls</td>\n",
        "      <td> JR</td>\n",
        "      <td> F</td>\n",
        "      <td> 78</td>\n",
        "    </tr>\n",
        "    <tr>\n",
        "      <th>1</th>\n",
        "      <td> air-force</td>\n",
        "      <td>    Tre' Coggins</td>\n",
        "      <td> SO</td>\n",
        "      <td> G</td>\n",
        "      <td> 74</td>\n",
        "    </tr>\n",
        "    <tr>\n",
        "      <th>2</th>\n",
        "      <td> air-force</td>\n",
        "      <td>  Darrius Parker</td>\n",
        "      <td> FR</td>\n",
        "      <td> C</td>\n",
        "      <td> 79</td>\n",
        "    </tr>\n",
        "    <tr>\n",
        "      <th>3</th>\n",
        "      <td> air-force</td>\n",
        "      <td>  Nick Jorgensen</td>\n",
        "      <td> FR</td>\n",
        "      <td> F</td>\n",
        "      <td> 78</td>\n",
        "    </tr>\n",
        "    <tr>\n",
        "      <th>4</th>\n",
        "      <td> air-force</td>\n",
        "      <td> Marek Olesinski</td>\n",
        "      <td> JR</td>\n",
        "      <td> F</td>\n",
        "      <td> 81</td>\n",
        "    </tr>\n",
        "  </tbody>\n",
        "</table>\n",
        "<p>5 rows \u00d7 5 columns</p>\n",
        "</div>"
       ],
       "metadata": {},
       "output_type": "pyout",
       "prompt_number": 21,
       "text": [
        "        Team           Player Class Pos  Ht\n",
        "0  air-force   DeLovell Earls    JR   F  78\n",
        "1  air-force     Tre' Coggins    SO   G  74\n",
        "2  air-force   Darrius Parker    FR   C  79\n",
        "3  air-force   Nick Jorgensen    FR   F  78\n",
        "4  air-force  Marek Olesinski    JR   F  81\n",
        "\n",
        "[5 rows x 5 columns]"
       ]
      }
     ],
     "prompt_number": 21
    },
    {
     "cell_type": "code",
     "collapsed": true,
     "input": [
      "teams.head()"
     ],
     "language": "python",
     "metadata": {},
     "outputs": [
      {
       "html": [
        "<div style=\"max-height:1000px;max-width:1500px;overflow:auto;\">\n",
        "<table border=\"1\" class=\"dataframe\">\n",
        "  <thead>\n",
        "    <tr style=\"text-align: right;\">\n",
        "      <th></th>\n",
        "      <th>team</th>\n",
        "      <th>conf</th>\n",
        "    </tr>\n",
        "  </thead>\n",
        "  <tbody>\n",
        "    <tr>\n",
        "      <th>0</th>\n",
        "      <td>                     houston</td>\n",
        "      <td>       aac</td>\n",
        "    </tr>\n",
        "    <tr>\n",
        "      <th>1</th>\n",
        "      <td>            middle-tennessee</td>\n",
        "      <td>      cusa</td>\n",
        "    </tr>\n",
        "    <tr>\n",
        "      <th>2</th>\n",
        "      <td>                    delaware</td>\n",
        "      <td>  colonial</td>\n",
        "    </tr>\n",
        "    <tr>\n",
        "      <th>3</th>\n",
        "      <td>                  cincinnati</td>\n",
        "      <td>       aac</td>\n",
        "    </tr>\n",
        "    <tr>\n",
        "      <th>4</th>\n",
        "      <td> virginia-military-institute</td>\n",
        "      <td> big-south</td>\n",
        "    </tr>\n",
        "  </tbody>\n",
        "</table>\n",
        "<p>5 rows \u00d7 2 columns</p>\n",
        "</div>"
       ],
       "metadata": {},
       "output_type": "pyout",
       "prompt_number": 22,
       "text": [
        "                          team       conf\n",
        "0                      houston        aac\n",
        "1             middle-tennessee       cusa\n",
        "2                     delaware   colonial\n",
        "3                   cincinnati        aac\n",
        "4  virginia-military-institute  big-south\n",
        "\n",
        "[5 rows x 2 columns]"
       ]
      }
     ],
     "prompt_number": 22
    },
    {
     "cell_type": "code",
     "collapsed": false,
     "input": [
      "#df.rename(columns={'$a': 'a', '$b': 'b'}, inplace=True)\n",
      "teams.rename(columns={'team':'Team', 'conf': 'Conference'}, inplace=True)\n",
      "teams.head()"
     ],
     "language": "python",
     "metadata": {},
     "outputs": [
      {
       "html": [
        "<div style=\"max-height:1000px;max-width:1500px;overflow:auto;\">\n",
        "<table border=\"1\" class=\"dataframe\">\n",
        "  <thead>\n",
        "    <tr style=\"text-align: right;\">\n",
        "      <th></th>\n",
        "      <th>Team</th>\n",
        "      <th>Conference</th>\n",
        "    </tr>\n",
        "  </thead>\n",
        "  <tbody>\n",
        "    <tr>\n",
        "      <th>0</th>\n",
        "      <td>                     houston</td>\n",
        "      <td>       aac</td>\n",
        "    </tr>\n",
        "    <tr>\n",
        "      <th>1</th>\n",
        "      <td>            middle-tennessee</td>\n",
        "      <td>      cusa</td>\n",
        "    </tr>\n",
        "    <tr>\n",
        "      <th>2</th>\n",
        "      <td>                    delaware</td>\n",
        "      <td>  colonial</td>\n",
        "    </tr>\n",
        "    <tr>\n",
        "      <th>3</th>\n",
        "      <td>                  cincinnati</td>\n",
        "      <td>       aac</td>\n",
        "    </tr>\n",
        "    <tr>\n",
        "      <th>4</th>\n",
        "      <td> virginia-military-institute</td>\n",
        "      <td> big-south</td>\n",
        "    </tr>\n",
        "  </tbody>\n",
        "</table>\n",
        "<p>5 rows \u00d7 2 columns</p>\n",
        "</div>"
       ],
       "metadata": {},
       "output_type": "pyout",
       "prompt_number": 23,
       "text": [
        "                          Team Conference\n",
        "0                      houston        aac\n",
        "1             middle-tennessee       cusa\n",
        "2                     delaware   colonial\n",
        "3                   cincinnati        aac\n",
        "4  virginia-military-institute  big-south\n",
        "\n",
        "[5 rows x 2 columns]"
       ]
      }
     ],
     "prompt_number": 23
    },
    {
     "cell_type": "code",
     "collapsed": false,
     "input": [
      "boxes.head()"
     ],
     "language": "python",
     "metadata": {},
     "outputs": [
      {
       "html": [
        "<div style=\"max-height:1000px;max-width:1500px;overflow:auto;\">\n",
        "<table border=\"1\" class=\"dataframe\">\n",
        "  <thead>\n",
        "    <tr style=\"text-align: right;\">\n",
        "      <th></th>\n",
        "      <th>Team</th>\n",
        "      <th>Name</th>\n",
        "      <th>Starters</th>\n",
        "      <th>MP</th>\n",
        "      <th>FG</th>\n",
        "      <th>FGA</th>\n",
        "      <th>FG%</th>\n",
        "      <th>2P</th>\n",
        "      <th>2PA</th>\n",
        "      <th>2P%</th>\n",
        "      <th>3P</th>\n",
        "      <th>3PA</th>\n",
        "      <th>3P%</th>\n",
        "      <th>FT</th>\n",
        "      <th>FTA</th>\n",
        "      <th>FT%</th>\n",
        "      <th>ORB</th>\n",
        "      <th>DRB</th>\n",
        "      <th>TRB</th>\n",
        "      <th>AST</th>\n",
        "      <th></th>\n",
        "    </tr>\n",
        "  </thead>\n",
        "  <tbody>\n",
        "    <tr>\n",
        "      <th>0</th>\n",
        "      <td> 2013-11-08-air-force.txt</td>\n",
        "      <td> army</td>\n",
        "      <td> Kevin Ferguson</td>\n",
        "      <td> 29</td>\n",
        "      <td> 4</td>\n",
        "      <td>  7</td>\n",
        "      <td> 0.571</td>\n",
        "      <td> 4</td>\n",
        "      <td> 7</td>\n",
        "      <td> 0.571</td>\n",
        "      <td> 0</td>\n",
        "      <td> 0</td>\n",
        "      <td> 0.000</td>\n",
        "      <td> 0</td>\n",
        "      <td> 0</td>\n",
        "      <td> 0.0</td>\n",
        "      <td> 2</td>\n",
        "      <td> 3</td>\n",
        "      <td> 5</td>\n",
        "      <td> 0</td>\n",
        "      <td>...</td>\n",
        "    </tr>\n",
        "    <tr>\n",
        "      <th>1</th>\n",
        "      <td> 2013-11-08-air-force.txt</td>\n",
        "      <td> army</td>\n",
        "      <td>    Kyle Wilson</td>\n",
        "      <td> 27</td>\n",
        "      <td> 4</td>\n",
        "      <td> 16</td>\n",
        "      <td> 0.250</td>\n",
        "      <td> 3</td>\n",
        "      <td> 9</td>\n",
        "      <td> 0.333</td>\n",
        "      <td> 1</td>\n",
        "      <td> 7</td>\n",
        "      <td> 0.143</td>\n",
        "      <td> 1</td>\n",
        "      <td> 1</td>\n",
        "      <td> 1.0</td>\n",
        "      <td> 0</td>\n",
        "      <td> 1</td>\n",
        "      <td> 1</td>\n",
        "      <td> 3</td>\n",
        "      <td>...</td>\n",
        "    </tr>\n",
        "    <tr>\n",
        "      <th>2</th>\n",
        "      <td> 2013-11-08-air-force.txt</td>\n",
        "      <td> army</td>\n",
        "      <td>      Dylan Cox</td>\n",
        "      <td> 25</td>\n",
        "      <td> 1</td>\n",
        "      <td>  2</td>\n",
        "      <td> 0.500</td>\n",
        "      <td> 1</td>\n",
        "      <td> 1</td>\n",
        "      <td> 1.000</td>\n",
        "      <td> 0</td>\n",
        "      <td> 1</td>\n",
        "      <td> 0.000</td>\n",
        "      <td> 2</td>\n",
        "      <td> 4</td>\n",
        "      <td> 0.5</td>\n",
        "      <td> 1</td>\n",
        "      <td> 0</td>\n",
        "      <td> 1</td>\n",
        "      <td> 0</td>\n",
        "      <td>...</td>\n",
        "    </tr>\n",
        "    <tr>\n",
        "      <th>3</th>\n",
        "      <td> 2013-11-08-air-force.txt</td>\n",
        "      <td> army</td>\n",
        "      <td>   Tanner Plomb</td>\n",
        "      <td> 15</td>\n",
        "      <td> 1</td>\n",
        "      <td>  6</td>\n",
        "      <td> 0.167</td>\n",
        "      <td> 0</td>\n",
        "      <td> 1</td>\n",
        "      <td> 0.000</td>\n",
        "      <td> 1</td>\n",
        "      <td> 5</td>\n",
        "      <td> 0.200</td>\n",
        "      <td> 2</td>\n",
        "      <td> 2</td>\n",
        "      <td> 1.0</td>\n",
        "      <td> 2</td>\n",
        "      <td> 3</td>\n",
        "      <td> 5</td>\n",
        "      <td> 3</td>\n",
        "      <td>...</td>\n",
        "    </tr>\n",
        "    <tr>\n",
        "      <th>4</th>\n",
        "      <td> 2013-11-08-air-force.txt</td>\n",
        "      <td> army</td>\n",
        "      <td>   Josh Herbeck</td>\n",
        "      <td> 11</td>\n",
        "      <td> 1</td>\n",
        "      <td>  5</td>\n",
        "      <td> 0.200</td>\n",
        "      <td> 0</td>\n",
        "      <td> 0</td>\n",
        "      <td> 0.000</td>\n",
        "      <td> 1</td>\n",
        "      <td> 5</td>\n",
        "      <td> 0.200</td>\n",
        "      <td> 0</td>\n",
        "      <td> 0</td>\n",
        "      <td> 0.0</td>\n",
        "      <td> 1</td>\n",
        "      <td> 1</td>\n",
        "      <td> 2</td>\n",
        "      <td> 1</td>\n",
        "      <td>...</td>\n",
        "    </tr>\n",
        "  </tbody>\n",
        "</table>\n",
        "<p>5 rows \u00d7 25 columns</p>\n",
        "</div>"
       ],
       "metadata": {},
       "output_type": "pyout",
       "prompt_number": 24,
       "text": [
        "                       Team  Name        Starters  MP  FG  FGA    FG%  2P  \\\n",
        "0  2013-11-08-air-force.txt  army  Kevin Ferguson  29   4    7  0.571   4   \n",
        "1  2013-11-08-air-force.txt  army     Kyle Wilson  27   4   16  0.250   3   \n",
        "2  2013-11-08-air-force.txt  army       Dylan Cox  25   1    2  0.500   1   \n",
        "3  2013-11-08-air-force.txt  army    Tanner Plomb  15   1    6  0.167   0   \n",
        "4  2013-11-08-air-force.txt  army    Josh Herbeck  11   1    5  0.200   0   \n",
        "\n",
        "   2PA    2P%  3P  3PA    3P%  FT  FTA  FT%  ORB  DRB  TRB  AST      \n",
        "0    7  0.571   0    0  0.000   0    0  0.0    2    3    5    0 ...  \n",
        "1    9  0.333   1    7  0.143   1    1  1.0    0    1    1    3 ...  \n",
        "2    1  1.000   0    1  0.000   2    4  0.5    1    0    1    0 ...  \n",
        "3    1  0.000   1    5  0.200   2    2  1.0    2    3    5    3 ...  \n",
        "4    0  0.000   1    5  0.200   0    0  0.0    1    1    2    1 ...  \n",
        "\n",
        "[5 rows x 25 columns]"
       ]
      }
     ],
     "prompt_number": 24
    },
    {
     "cell_type": "code",
     "collapsed": false,
     "input": [
      "boxes.info() #plenty of blank values to fill in"
     ],
     "language": "python",
     "metadata": {},
     "outputs": [
      {
       "output_type": "stream",
       "stream": "stdout",
       "text": [
        "<class 'pandas.core.frame.DataFrame'>\n",
        "Int64Index: 113043 entries, 0 to 113042\n",
        "Data columns (total 25 columns):\n",
        "Team        113042 non-null object\n",
        "Name        113042 non-null object\n",
        "Starters    113041 non-null object\n",
        "MP          113041 non-null float64\n",
        "FG          113040 non-null float64\n",
        "FGA         113039 non-null float64\n",
        "FG%         113039 non-null float64\n",
        "2P          113037 non-null float64\n",
        "2PA         113036 non-null float64\n",
        "2P%         113036 non-null float64\n",
        "3P          113036 non-null float64\n",
        "3PA         113035 non-null float64\n",
        "3P%         113034 non-null float64\n",
        "FT          113032 non-null float64\n",
        "FTA         113031 non-null float64\n",
        "FT%         113026 non-null float64\n",
        "ORB         113019 non-null float64\n",
        "DRB         113006 non-null float64\n",
        "TRB         112997 non-null float64\n",
        "AST         112982 non-null float64\n",
        "STL         112977 non-null float64\n",
        "BLK         112971 non-null float64\n",
        "TOV         112964 non-null float64\n",
        "PF          112956 non-null float64\n",
        "PTS         112953 non-null float64\n",
        "dtypes: float64(22), object(3)"
       ]
      }
     ],
     "prompt_number": 25
    },
    {
     "cell_type": "heading",
     "level": 1,
     "metadata": {},
     "source": [
      "CLEAN:"
     ]
    },
    {
     "cell_type": "heading",
     "level": 3,
     "metadata": {},
     "source": [
      "Clean up positions (Move \"W\" -> \"G-F\")"
     ]
    },
    {
     "cell_type": "code",
     "collapsed": true,
     "input": [
      "players.groupby('Pos').count()"
     ],
     "language": "python",
     "metadata": {},
     "outputs": [
      {
       "html": [
        "<div style=\"max-height:1000px;max-width:1500px;overflow:auto;\">\n",
        "<table border=\"1\" class=\"dataframe\">\n",
        "  <thead>\n",
        "    <tr style=\"text-align: right;\">\n",
        "      <th></th>\n",
        "      <th>Team</th>\n",
        "      <th>Player</th>\n",
        "      <th>Class</th>\n",
        "      <th>Pos</th>\n",
        "      <th>Ht</th>\n",
        "    </tr>\n",
        "    <tr>\n",
        "      <th>Pos</th>\n",
        "      <th></th>\n",
        "      <th></th>\n",
        "      <th></th>\n",
        "      <th></th>\n",
        "      <th></th>\n",
        "    </tr>\n",
        "  </thead>\n",
        "  <tbody>\n",
        "    <tr>\n",
        "      <th>C</th>\n",
        "      <td>  290</td>\n",
        "      <td>  290</td>\n",
        "      <td>  290</td>\n",
        "      <td>  290</td>\n",
        "      <td>  290</td>\n",
        "    </tr>\n",
        "    <tr>\n",
        "      <th>C-F</th>\n",
        "      <td>    8</td>\n",
        "      <td>    8</td>\n",
        "      <td>    8</td>\n",
        "      <td>    8</td>\n",
        "      <td>    8</td>\n",
        "    </tr>\n",
        "    <tr>\n",
        "      <th>F</th>\n",
        "      <td> 1424</td>\n",
        "      <td> 1424</td>\n",
        "      <td> 1424</td>\n",
        "      <td> 1424</td>\n",
        "      <td> 1424</td>\n",
        "    </tr>\n",
        "    <tr>\n",
        "      <th>F-C</th>\n",
        "      <td>   79</td>\n",
        "      <td>   79</td>\n",
        "      <td>   79</td>\n",
        "      <td>   79</td>\n",
        "      <td>   79</td>\n",
        "    </tr>\n",
        "    <tr>\n",
        "      <th>F-G</th>\n",
        "      <td>   10</td>\n",
        "      <td>   10</td>\n",
        "      <td>   10</td>\n",
        "      <td>   10</td>\n",
        "      <td>   10</td>\n",
        "    </tr>\n",
        "    <tr>\n",
        "      <th>G</th>\n",
        "      <td> 2137</td>\n",
        "      <td> 2137</td>\n",
        "      <td> 2137</td>\n",
        "      <td> 2137</td>\n",
        "      <td> 2137</td>\n",
        "    </tr>\n",
        "    <tr>\n",
        "      <th>G-F</th>\n",
        "      <td>  165</td>\n",
        "      <td>  165</td>\n",
        "      <td>  165</td>\n",
        "      <td>  165</td>\n",
        "      <td>  165</td>\n",
        "    </tr>\n",
        "    <tr>\n",
        "      <th>W</th>\n",
        "      <td>    2</td>\n",
        "      <td>    2</td>\n",
        "      <td>    2</td>\n",
        "      <td>    2</td>\n",
        "      <td>    2</td>\n",
        "    </tr>\n",
        "  </tbody>\n",
        "</table>\n",
        "<p>8 rows \u00d7 5 columns</p>\n",
        "</div>"
       ],
       "metadata": {},
       "output_type": "pyout",
       "prompt_number": 26,
       "text": [
        "     Team  Player  Class   Pos    Ht\n",
        "Pos                                 \n",
        "C     290     290    290   290   290\n",
        "C-F     8       8      8     8     8\n",
        "F    1424    1424   1424  1424  1424\n",
        "F-C    79      79     79    79    79\n",
        "F-G    10      10     10    10    10\n",
        "G    2137    2137   2137  2137  2137\n",
        "G-F   165     165    165   165   165\n",
        "W       2       2      2     2     2\n",
        "\n",
        "[8 rows x 5 columns]"
       ]
      }
     ],
     "prompt_number": 26
    },
    {
     "cell_type": "code",
     "collapsed": false,
     "input": [
      "pos = []\n",
      "for n in arange(0,len(players)):\n",
      "    pos.append('')\n",
      "players['Position'] = pos\n",
      "\n",
      "players.loc[:,'Position'][players.Pos == 'W'] = 'G-F'\n",
      "players.loc[:,'Position'][players.Pos != 'W'] = players.Pos\n",
      "players.groupby('Pos').count()"
     ],
     "language": "python",
     "metadata": {},
     "outputs": [
      {
       "html": [
        "<div style=\"max-height:1000px;max-width:1500px;overflow:auto;\">\n",
        "<table border=\"1\" class=\"dataframe\">\n",
        "  <thead>\n",
        "    <tr style=\"text-align: right;\">\n",
        "      <th></th>\n",
        "      <th>Team</th>\n",
        "      <th>Player</th>\n",
        "      <th>Class</th>\n",
        "      <th>Pos</th>\n",
        "      <th>Ht</th>\n",
        "      <th>Position</th>\n",
        "    </tr>\n",
        "    <tr>\n",
        "      <th>Pos</th>\n",
        "      <th></th>\n",
        "      <th></th>\n",
        "      <th></th>\n",
        "      <th></th>\n",
        "      <th></th>\n",
        "      <th></th>\n",
        "    </tr>\n",
        "  </thead>\n",
        "  <tbody>\n",
        "    <tr>\n",
        "      <th>C</th>\n",
        "      <td>  290</td>\n",
        "      <td>  290</td>\n",
        "      <td>  290</td>\n",
        "      <td>  290</td>\n",
        "      <td>  290</td>\n",
        "      <td>  290</td>\n",
        "    </tr>\n",
        "    <tr>\n",
        "      <th>C-F</th>\n",
        "      <td>    8</td>\n",
        "      <td>    8</td>\n",
        "      <td>    8</td>\n",
        "      <td>    8</td>\n",
        "      <td>    8</td>\n",
        "      <td>    8</td>\n",
        "    </tr>\n",
        "    <tr>\n",
        "      <th>F</th>\n",
        "      <td> 1424</td>\n",
        "      <td> 1424</td>\n",
        "      <td> 1424</td>\n",
        "      <td> 1424</td>\n",
        "      <td> 1424</td>\n",
        "      <td> 1424</td>\n",
        "    </tr>\n",
        "    <tr>\n",
        "      <th>F-C</th>\n",
        "      <td>   79</td>\n",
        "      <td>   79</td>\n",
        "      <td>   79</td>\n",
        "      <td>   79</td>\n",
        "      <td>   79</td>\n",
        "      <td>   79</td>\n",
        "    </tr>\n",
        "    <tr>\n",
        "      <th>F-G</th>\n",
        "      <td>   10</td>\n",
        "      <td>   10</td>\n",
        "      <td>   10</td>\n",
        "      <td>   10</td>\n",
        "      <td>   10</td>\n",
        "      <td>   10</td>\n",
        "    </tr>\n",
        "    <tr>\n",
        "      <th>G</th>\n",
        "      <td> 2137</td>\n",
        "      <td> 2137</td>\n",
        "      <td> 2137</td>\n",
        "      <td> 2137</td>\n",
        "      <td> 2137</td>\n",
        "      <td> 2137</td>\n",
        "    </tr>\n",
        "    <tr>\n",
        "      <th>G-F</th>\n",
        "      <td>  165</td>\n",
        "      <td>  165</td>\n",
        "      <td>  165</td>\n",
        "      <td>  165</td>\n",
        "      <td>  165</td>\n",
        "      <td>  165</td>\n",
        "    </tr>\n",
        "    <tr>\n",
        "      <th>W</th>\n",
        "      <td>    2</td>\n",
        "      <td>    2</td>\n",
        "      <td>    2</td>\n",
        "      <td>    2</td>\n",
        "      <td>    2</td>\n",
        "      <td>    2</td>\n",
        "    </tr>\n",
        "  </tbody>\n",
        "</table>\n",
        "<p>8 rows \u00d7 6 columns</p>\n",
        "</div>"
       ],
       "metadata": {},
       "output_type": "pyout",
       "prompt_number": 27,
       "text": [
        "     Team  Player  Class   Pos    Ht  Position\n",
        "Pos                                           \n",
        "C     290     290    290   290   290       290\n",
        "C-F     8       8      8     8     8         8\n",
        "F    1424    1424   1424  1424  1424      1424\n",
        "F-C    79      79     79    79    79        79\n",
        "F-G    10      10     10    10    10        10\n",
        "G    2137    2137   2137  2137  2137      2137\n",
        "G-F   165     165    165   165   165       165\n",
        "W       2       2      2     2     2         2\n",
        "\n",
        "[8 rows x 6 columns]"
       ]
      }
     ],
     "prompt_number": 27
    },
    {
     "cell_type": "heading",
     "level": 3,
     "metadata": {},
     "source": [
      "Merge class years to all upper case and two letters"
     ]
    },
    {
     "cell_type": "code",
     "collapsed": false,
     "input": [
      "players.groupby('Class').count()"
     ],
     "language": "python",
     "metadata": {},
     "outputs": [
      {
       "html": [
        "<div style=\"max-height:1000px;max-width:1500px;overflow:auto;\">\n",
        "<table border=\"1\" class=\"dataframe\">\n",
        "  <thead>\n",
        "    <tr style=\"text-align: right;\">\n",
        "      <th></th>\n",
        "      <th>Team</th>\n",
        "      <th>Player</th>\n",
        "      <th>Class</th>\n",
        "      <th>Pos</th>\n",
        "      <th>Ht</th>\n",
        "      <th>Position</th>\n",
        "    </tr>\n",
        "    <tr>\n",
        "      <th>Class</th>\n",
        "      <th></th>\n",
        "      <th></th>\n",
        "      <th></th>\n",
        "      <th></th>\n",
        "      <th></th>\n",
        "      <th></th>\n",
        "    </tr>\n",
        "  </thead>\n",
        "  <tbody>\n",
        "    <tr>\n",
        "      <th>F</th>\n",
        "      <td>    2</td>\n",
        "      <td>    2</td>\n",
        "      <td>    2</td>\n",
        "      <td>    2</td>\n",
        "      <td>    2</td>\n",
        "      <td>    2</td>\n",
        "    </tr>\n",
        "    <tr>\n",
        "      <th>FR</th>\n",
        "      <td> 1090</td>\n",
        "      <td> 1090</td>\n",
        "      <td> 1090</td>\n",
        "      <td> 1090</td>\n",
        "      <td> 1090</td>\n",
        "      <td> 1090</td>\n",
        "    </tr>\n",
        "    <tr>\n",
        "      <th>GR</th>\n",
        "      <td>   24</td>\n",
        "      <td>   24</td>\n",
        "      <td>   24</td>\n",
        "      <td>   24</td>\n",
        "      <td>   24</td>\n",
        "      <td>   24</td>\n",
        "    </tr>\n",
        "    <tr>\n",
        "      <th>JR</th>\n",
        "      <td> 1072</td>\n",
        "      <td> 1072</td>\n",
        "      <td> 1072</td>\n",
        "      <td> 1072</td>\n",
        "      <td> 1072</td>\n",
        "      <td> 1072</td>\n",
        "    </tr>\n",
        "    <tr>\n",
        "      <th>SO</th>\n",
        "      <td>  971</td>\n",
        "      <td>  971</td>\n",
        "      <td>  971</td>\n",
        "      <td>  971</td>\n",
        "      <td>  971</td>\n",
        "      <td>  971</td>\n",
        "    </tr>\n",
        "    <tr>\n",
        "      <th>SR</th>\n",
        "      <td>  954</td>\n",
        "      <td>  954</td>\n",
        "      <td>  954</td>\n",
        "      <td>  954</td>\n",
        "      <td>  954</td>\n",
        "      <td>  954</td>\n",
        "    </tr>\n",
        "    <tr>\n",
        "      <th>So</th>\n",
        "      <td>    2</td>\n",
        "      <td>    2</td>\n",
        "      <td>    2</td>\n",
        "      <td>    2</td>\n",
        "      <td>    2</td>\n",
        "      <td>    2</td>\n",
        "    </tr>\n",
        "  </tbody>\n",
        "</table>\n",
        "<p>7 rows \u00d7 6 columns</p>\n",
        "</div>"
       ],
       "metadata": {},
       "output_type": "pyout",
       "prompt_number": 28,
       "text": [
        "       Team  Player  Class   Pos    Ht  Position\n",
        "Class                                           \n",
        "F         2       2      2     2     2         2\n",
        "FR     1090    1090   1090  1090  1090      1090\n",
        "GR       24      24     24    24    24        24\n",
        "JR     1072    1072   1072  1072  1072      1072\n",
        "SO      971     971    971   971   971       971\n",
        "SR      954     954    954   954   954       954\n",
        "So        2       2      2     2     2         2\n",
        "\n",
        "[7 rows x 6 columns]"
       ]
      }
     ],
     "prompt_number": 28
    },
    {
     "cell_type": "code",
     "collapsed": false,
     "input": [
      "yr = []\n",
      "for n in arange(0,len(players)):\n",
      "    yr.append('')\n",
      "players['ClassYear'] = yr\n",
      "\n",
      "players.loc[:,'ClassYear'] = players.Class\n",
      "players.loc[:,'ClassYear'][players.ClassYear == 'So'] = 'SO'\n",
      "players.loc[:,'ClassYear'][players.ClassYear == 'F'] = 'FR'\n",
      "players.groupby('ClassYear').count()"
     ],
     "language": "python",
     "metadata": {},
     "outputs": [
      {
       "html": [
        "<div style=\"max-height:1000px;max-width:1500px;overflow:auto;\">\n",
        "<table border=\"1\" class=\"dataframe\">\n",
        "  <thead>\n",
        "    <tr style=\"text-align: right;\">\n",
        "      <th></th>\n",
        "      <th>Team</th>\n",
        "      <th>Player</th>\n",
        "      <th>Class</th>\n",
        "      <th>Pos</th>\n",
        "      <th>Ht</th>\n",
        "      <th>Position</th>\n",
        "      <th>ClassYear</th>\n",
        "    </tr>\n",
        "    <tr>\n",
        "      <th>ClassYear</th>\n",
        "      <th></th>\n",
        "      <th></th>\n",
        "      <th></th>\n",
        "      <th></th>\n",
        "      <th></th>\n",
        "      <th></th>\n",
        "      <th></th>\n",
        "    </tr>\n",
        "  </thead>\n",
        "  <tbody>\n",
        "    <tr>\n",
        "      <th>FR</th>\n",
        "      <td> 1092</td>\n",
        "      <td> 1092</td>\n",
        "      <td> 1092</td>\n",
        "      <td> 1092</td>\n",
        "      <td> 1092</td>\n",
        "      <td> 1092</td>\n",
        "      <td> 1092</td>\n",
        "    </tr>\n",
        "    <tr>\n",
        "      <th>GR</th>\n",
        "      <td>   24</td>\n",
        "      <td>   24</td>\n",
        "      <td>   24</td>\n",
        "      <td>   24</td>\n",
        "      <td>   24</td>\n",
        "      <td>   24</td>\n",
        "      <td>   24</td>\n",
        "    </tr>\n",
        "    <tr>\n",
        "      <th>JR</th>\n",
        "      <td> 1072</td>\n",
        "      <td> 1072</td>\n",
        "      <td> 1072</td>\n",
        "      <td> 1072</td>\n",
        "      <td> 1072</td>\n",
        "      <td> 1072</td>\n",
        "      <td> 1072</td>\n",
        "    </tr>\n",
        "    <tr>\n",
        "      <th>SO</th>\n",
        "      <td>  973</td>\n",
        "      <td>  973</td>\n",
        "      <td>  973</td>\n",
        "      <td>  973</td>\n",
        "      <td>  973</td>\n",
        "      <td>  973</td>\n",
        "      <td>  973</td>\n",
        "    </tr>\n",
        "    <tr>\n",
        "      <th>SR</th>\n",
        "      <td>  954</td>\n",
        "      <td>  954</td>\n",
        "      <td>  954</td>\n",
        "      <td>  954</td>\n",
        "      <td>  954</td>\n",
        "      <td>  954</td>\n",
        "      <td>  954</td>\n",
        "    </tr>\n",
        "  </tbody>\n",
        "</table>\n",
        "<p>5 rows \u00d7 7 columns</p>\n",
        "</div>"
       ],
       "metadata": {},
       "output_type": "pyout",
       "prompt_number": 29,
       "text": [
        "           Team  Player  Class   Pos    Ht  Position  ClassYear\n",
        "ClassYear                                                      \n",
        "FR         1092    1092   1092  1092  1092      1092       1092\n",
        "GR           24      24     24    24    24        24         24\n",
        "JR         1072    1072   1072  1072  1072      1072       1072\n",
        "SO          973     973    973   973   973       973        973\n",
        "SR          954     954    954   954   954       954        954\n",
        "\n",
        "[5 rows x 7 columns]"
       ]
      }
     ],
     "prompt_number": 29
    },
    {
     "cell_type": "code",
     "collapsed": true,
     "input": [
      "#Parse out Positions into individual BOOL fields \n",
      "positions = set()\n",
      "for p in players.Position:\n",
      "    positions.update(pos for pos in p.split('-'))\n",
      "    \n",
      "for pos in positions:\n",
      "    players[pos] = [pos in player.split('-') for player in players.Pos]\n",
      "    \n",
      "players.groupby('Position').count()"
     ],
     "language": "python",
     "metadata": {},
     "outputs": [
      {
       "html": [
        "<div style=\"max-height:1000px;max-width:1500px;overflow:auto;\">\n",
        "<table border=\"1\" class=\"dataframe\">\n",
        "  <thead>\n",
        "    <tr style=\"text-align: right;\">\n",
        "      <th></th>\n",
        "      <th>Team</th>\n",
        "      <th>Player</th>\n",
        "      <th>Class</th>\n",
        "      <th>Pos</th>\n",
        "      <th>Ht</th>\n",
        "      <th>Position</th>\n",
        "      <th>ClassYear</th>\n",
        "      <th>C</th>\n",
        "      <th>G</th>\n",
        "      <th>F</th>\n",
        "    </tr>\n",
        "    <tr>\n",
        "      <th>Position</th>\n",
        "      <th></th>\n",
        "      <th></th>\n",
        "      <th></th>\n",
        "      <th></th>\n",
        "      <th></th>\n",
        "      <th></th>\n",
        "      <th></th>\n",
        "      <th></th>\n",
        "      <th></th>\n",
        "      <th></th>\n",
        "    </tr>\n",
        "  </thead>\n",
        "  <tbody>\n",
        "    <tr>\n",
        "      <th>C</th>\n",
        "      <td>  290</td>\n",
        "      <td>  290</td>\n",
        "      <td>  290</td>\n",
        "      <td>  290</td>\n",
        "      <td>  290</td>\n",
        "      <td>  290</td>\n",
        "      <td>  290</td>\n",
        "      <td>  290</td>\n",
        "      <td>  290</td>\n",
        "      <td>  290</td>\n",
        "    </tr>\n",
        "    <tr>\n",
        "      <th>C-F</th>\n",
        "      <td>    8</td>\n",
        "      <td>    8</td>\n",
        "      <td>    8</td>\n",
        "      <td>    8</td>\n",
        "      <td>    8</td>\n",
        "      <td>    8</td>\n",
        "      <td>    8</td>\n",
        "      <td>    8</td>\n",
        "      <td>    8</td>\n",
        "      <td>    8</td>\n",
        "    </tr>\n",
        "    <tr>\n",
        "      <th>F</th>\n",
        "      <td> 1424</td>\n",
        "      <td> 1424</td>\n",
        "      <td> 1424</td>\n",
        "      <td> 1424</td>\n",
        "      <td> 1424</td>\n",
        "      <td> 1424</td>\n",
        "      <td> 1424</td>\n",
        "      <td> 1424</td>\n",
        "      <td> 1424</td>\n",
        "      <td> 1424</td>\n",
        "    </tr>\n",
        "    <tr>\n",
        "      <th>F-C</th>\n",
        "      <td>   79</td>\n",
        "      <td>   79</td>\n",
        "      <td>   79</td>\n",
        "      <td>   79</td>\n",
        "      <td>   79</td>\n",
        "      <td>   79</td>\n",
        "      <td>   79</td>\n",
        "      <td>   79</td>\n",
        "      <td>   79</td>\n",
        "      <td>   79</td>\n",
        "    </tr>\n",
        "    <tr>\n",
        "      <th>F-G</th>\n",
        "      <td>   10</td>\n",
        "      <td>   10</td>\n",
        "      <td>   10</td>\n",
        "      <td>   10</td>\n",
        "      <td>   10</td>\n",
        "      <td>   10</td>\n",
        "      <td>   10</td>\n",
        "      <td>   10</td>\n",
        "      <td>   10</td>\n",
        "      <td>   10</td>\n",
        "    </tr>\n",
        "    <tr>\n",
        "      <th>G</th>\n",
        "      <td> 2137</td>\n",
        "      <td> 2137</td>\n",
        "      <td> 2137</td>\n",
        "      <td> 2137</td>\n",
        "      <td> 2137</td>\n",
        "      <td> 2137</td>\n",
        "      <td> 2137</td>\n",
        "      <td> 2137</td>\n",
        "      <td> 2137</td>\n",
        "      <td> 2137</td>\n",
        "    </tr>\n",
        "    <tr>\n",
        "      <th>G-F</th>\n",
        "      <td>  167</td>\n",
        "      <td>  167</td>\n",
        "      <td>  167</td>\n",
        "      <td>  167</td>\n",
        "      <td>  167</td>\n",
        "      <td>  167</td>\n",
        "      <td>  167</td>\n",
        "      <td>  167</td>\n",
        "      <td>  167</td>\n",
        "      <td>  167</td>\n",
        "    </tr>\n",
        "  </tbody>\n",
        "</table>\n",
        "<p>7 rows \u00d7 10 columns</p>\n",
        "</div>"
       ],
       "metadata": {},
       "output_type": "pyout",
       "prompt_number": 30,
       "text": [
        "          Team  Player  Class   Pos    Ht  Position  ClassYear     C     G  \\\n",
        "Position                                                                     \n",
        "C          290     290    290   290   290       290        290   290   290   \n",
        "C-F          8       8      8     8     8         8          8     8     8   \n",
        "F         1424    1424   1424  1424  1424      1424       1424  1424  1424   \n",
        "F-C         79      79     79    79    79        79         79    79    79   \n",
        "F-G         10      10     10    10    10        10         10    10    10   \n",
        "G         2137    2137   2137  2137  2137      2137       2137  2137  2137   \n",
        "G-F        167     167    167   167   167       167        167   167   167   \n",
        "\n",
        "             F  \n",
        "Position        \n",
        "C          290  \n",
        "C-F          8  \n",
        "F         1424  \n",
        "F-C         79  \n",
        "F-G         10  \n",
        "G         2137  \n",
        "G-F        167  \n",
        "\n",
        "[7 rows x 10 columns]"
       ]
      }
     ],
     "prompt_number": 30
    },
    {
     "cell_type": "code",
     "collapsed": false,
     "input": [
      "#Parse out ClassYears into individual BOOL fields \n",
      "class_years = set()\n",
      "for p in players.ClassYear:\n",
      "    class_years.update(cy for cy in p.split('-'))\n",
      "    \n",
      "for cy in class_years:\n",
      "    players[cy] = [cy in player.split('-') for player in players.ClassYear]\n",
      "    \n",
      "players.groupby('ClassYear').count()"
     ],
     "language": "python",
     "metadata": {},
     "outputs": [
      {
       "html": [
        "<div style=\"max-height:1000px;max-width:1500px;overflow:auto;\">\n",
        "<table border=\"1\" class=\"dataframe\">\n",
        "  <thead>\n",
        "    <tr style=\"text-align: right;\">\n",
        "      <th></th>\n",
        "      <th>Team</th>\n",
        "      <th>Player</th>\n",
        "      <th>Class</th>\n",
        "      <th>Pos</th>\n",
        "      <th>Ht</th>\n",
        "      <th>Position</th>\n",
        "      <th>ClassYear</th>\n",
        "      <th>C</th>\n",
        "      <th>G</th>\n",
        "      <th>F</th>\n",
        "      <th>SR</th>\n",
        "      <th>FR</th>\n",
        "      <th>SO</th>\n",
        "      <th>GR</th>\n",
        "      <th>JR</th>\n",
        "    </tr>\n",
        "    <tr>\n",
        "      <th>ClassYear</th>\n",
        "      <th></th>\n",
        "      <th></th>\n",
        "      <th></th>\n",
        "      <th></th>\n",
        "      <th></th>\n",
        "      <th></th>\n",
        "      <th></th>\n",
        "      <th></th>\n",
        "      <th></th>\n",
        "      <th></th>\n",
        "      <th></th>\n",
        "      <th></th>\n",
        "      <th></th>\n",
        "      <th></th>\n",
        "      <th></th>\n",
        "    </tr>\n",
        "  </thead>\n",
        "  <tbody>\n",
        "    <tr>\n",
        "      <th>FR</th>\n",
        "      <td> 1092</td>\n",
        "      <td> 1092</td>\n",
        "      <td> 1092</td>\n",
        "      <td> 1092</td>\n",
        "      <td> 1092</td>\n",
        "      <td> 1092</td>\n",
        "      <td> 1092</td>\n",
        "      <td> 1092</td>\n",
        "      <td> 1092</td>\n",
        "      <td> 1092</td>\n",
        "      <td> 1092</td>\n",
        "      <td> 1092</td>\n",
        "      <td> 1092</td>\n",
        "      <td> 1092</td>\n",
        "      <td> 1092</td>\n",
        "    </tr>\n",
        "    <tr>\n",
        "      <th>GR</th>\n",
        "      <td>   24</td>\n",
        "      <td>   24</td>\n",
        "      <td>   24</td>\n",
        "      <td>   24</td>\n",
        "      <td>   24</td>\n",
        "      <td>   24</td>\n",
        "      <td>   24</td>\n",
        "      <td>   24</td>\n",
        "      <td>   24</td>\n",
        "      <td>   24</td>\n",
        "      <td>   24</td>\n",
        "      <td>   24</td>\n",
        "      <td>   24</td>\n",
        "      <td>   24</td>\n",
        "      <td>   24</td>\n",
        "    </tr>\n",
        "    <tr>\n",
        "      <th>JR</th>\n",
        "      <td> 1072</td>\n",
        "      <td> 1072</td>\n",
        "      <td> 1072</td>\n",
        "      <td> 1072</td>\n",
        "      <td> 1072</td>\n",
        "      <td> 1072</td>\n",
        "      <td> 1072</td>\n",
        "      <td> 1072</td>\n",
        "      <td> 1072</td>\n",
        "      <td> 1072</td>\n",
        "      <td> 1072</td>\n",
        "      <td> 1072</td>\n",
        "      <td> 1072</td>\n",
        "      <td> 1072</td>\n",
        "      <td> 1072</td>\n",
        "    </tr>\n",
        "    <tr>\n",
        "      <th>SO</th>\n",
        "      <td>  973</td>\n",
        "      <td>  973</td>\n",
        "      <td>  973</td>\n",
        "      <td>  973</td>\n",
        "      <td>  973</td>\n",
        "      <td>  973</td>\n",
        "      <td>  973</td>\n",
        "      <td>  973</td>\n",
        "      <td>  973</td>\n",
        "      <td>  973</td>\n",
        "      <td>  973</td>\n",
        "      <td>  973</td>\n",
        "      <td>  973</td>\n",
        "      <td>  973</td>\n",
        "      <td>  973</td>\n",
        "    </tr>\n",
        "    <tr>\n",
        "      <th>SR</th>\n",
        "      <td>  954</td>\n",
        "      <td>  954</td>\n",
        "      <td>  954</td>\n",
        "      <td>  954</td>\n",
        "      <td>  954</td>\n",
        "      <td>  954</td>\n",
        "      <td>  954</td>\n",
        "      <td>  954</td>\n",
        "      <td>  954</td>\n",
        "      <td>  954</td>\n",
        "      <td>  954</td>\n",
        "      <td>  954</td>\n",
        "      <td>  954</td>\n",
        "      <td>  954</td>\n",
        "      <td>  954</td>\n",
        "    </tr>\n",
        "  </tbody>\n",
        "</table>\n",
        "<p>5 rows \u00d7 15 columns</p>\n",
        "</div>"
       ],
       "metadata": {},
       "output_type": "pyout",
       "prompt_number": 31,
       "text": [
        "           Team  Player  Class   Pos    Ht  Position  ClassYear     C     G  \\\n",
        "ClassYear                                                                     \n",
        "FR         1092    1092   1092  1092  1092      1092       1092  1092  1092   \n",
        "GR           24      24     24    24    24        24         24    24    24   \n",
        "JR         1072    1072   1072  1072  1072      1072       1072  1072  1072   \n",
        "SO          973     973    973   973   973       973        973   973   973   \n",
        "SR          954     954    954   954   954       954        954   954   954   \n",
        "\n",
        "              F    SR    FR    SO    GR    JR  \n",
        "ClassYear                                      \n",
        "FR         1092  1092  1092  1092  1092  1092  \n",
        "GR           24    24    24    24    24    24  \n",
        "JR         1072  1072  1072  1072  1072  1072  \n",
        "SO          973   973   973   973   973   973  \n",
        "SR          954   954   954   954   954   954  \n",
        "\n",
        "[5 rows x 15 columns]"
       ]
      }
     ],
     "prompt_number": 31
    },
    {
     "cell_type": "code",
     "collapsed": true,
     "input": [
      "players[players.Position=='C-F'].head(5)"
     ],
     "language": "python",
     "metadata": {},
     "outputs": [
      {
       "html": [
        "<div style=\"max-height:1000px;max-width:1500px;overflow:auto;\">\n",
        "<table border=\"1\" class=\"dataframe\">\n",
        "  <thead>\n",
        "    <tr style=\"text-align: right;\">\n",
        "      <th></th>\n",
        "      <th>Team</th>\n",
        "      <th>Player</th>\n",
        "      <th>Class</th>\n",
        "      <th>Pos</th>\n",
        "      <th>Ht</th>\n",
        "      <th>Position</th>\n",
        "      <th>ClassYear</th>\n",
        "      <th>C</th>\n",
        "      <th>G</th>\n",
        "      <th>F</th>\n",
        "      <th>SR</th>\n",
        "      <th>FR</th>\n",
        "      <th>SO</th>\n",
        "      <th>GR</th>\n",
        "      <th>JR</th>\n",
        "    </tr>\n",
        "  </thead>\n",
        "  <tbody>\n",
        "    <tr>\n",
        "      <th>187 </th>\n",
        "      <td>        austin-peay</td>\n",
        "      <td>    Chris Horton</td>\n",
        "      <td> SO</td>\n",
        "      <td> C-F</td>\n",
        "      <td> 80</td>\n",
        "      <td> C-F</td>\n",
        "      <td> SO</td>\n",
        "      <td> True</td>\n",
        "      <td> False</td>\n",
        "      <td> True</td>\n",
        "      <td> False</td>\n",
        "      <td> False</td>\n",
        "      <td>  True</td>\n",
        "      <td> False</td>\n",
        "      <td> False</td>\n",
        "    </tr>\n",
        "    <tr>\n",
        "      <th>367 </th>\n",
        "      <td>             butler</td>\n",
        "      <td>     Nolan Berry</td>\n",
        "      <td> FR</td>\n",
        "      <td> C-F</td>\n",
        "      <td> 82</td>\n",
        "      <td> C-F</td>\n",
        "      <td> FR</td>\n",
        "      <td> True</td>\n",
        "      <td> False</td>\n",
        "      <td> True</td>\n",
        "      <td> False</td>\n",
        "      <td>  True</td>\n",
        "      <td> False</td>\n",
        "      <td> False</td>\n",
        "      <td> False</td>\n",
        "    </tr>\n",
        "    <tr>\n",
        "      <th>1125</th>\n",
        "      <td>       fresno-state</td>\n",
        "      <td> Tanner Giddings</td>\n",
        "      <td> SO</td>\n",
        "      <td> C-F</td>\n",
        "      <td> 82</td>\n",
        "      <td> C-F</td>\n",
        "      <td> SO</td>\n",
        "      <td> True</td>\n",
        "      <td> False</td>\n",
        "      <td> True</td>\n",
        "      <td> False</td>\n",
        "      <td> False</td>\n",
        "      <td>  True</td>\n",
        "      <td> False</td>\n",
        "      <td> False</td>\n",
        "    </tr>\n",
        "    <tr>\n",
        "      <th>1586</th>\n",
        "      <td> jacksonville-state</td>\n",
        "      <td>    Jamal Hunter</td>\n",
        "      <td> JR</td>\n",
        "      <td> C-F</td>\n",
        "      <td> 80</td>\n",
        "      <td> C-F</td>\n",
        "      <td> JR</td>\n",
        "      <td> True</td>\n",
        "      <td> False</td>\n",
        "      <td> True</td>\n",
        "      <td> False</td>\n",
        "      <td> False</td>\n",
        "      <td> False</td>\n",
        "      <td> False</td>\n",
        "      <td>  True</td>\n",
        "    </tr>\n",
        "    <tr>\n",
        "      <th>1703</th>\n",
        "      <td>             lehigh</td>\n",
        "      <td>     Tim Kempton</td>\n",
        "      <td> FR</td>\n",
        "      <td> C-F</td>\n",
        "      <td> 82</td>\n",
        "      <td> C-F</td>\n",
        "      <td> FR</td>\n",
        "      <td> True</td>\n",
        "      <td> False</td>\n",
        "      <td> True</td>\n",
        "      <td> False</td>\n",
        "      <td>  True</td>\n",
        "      <td> False</td>\n",
        "      <td> False</td>\n",
        "      <td> False</td>\n",
        "    </tr>\n",
        "  </tbody>\n",
        "</table>\n",
        "<p>5 rows \u00d7 15 columns</p>\n",
        "</div>"
       ],
       "metadata": {},
       "output_type": "pyout",
       "prompt_number": 32,
       "text": [
        "                    Team           Player Class  Pos  Ht Position ClassYear  \\\n",
        "187          austin-peay     Chris Horton    SO  C-F  80      C-F        SO   \n",
        "367               butler      Nolan Berry    FR  C-F  82      C-F        FR   \n",
        "1125        fresno-state  Tanner Giddings    SO  C-F  82      C-F        SO   \n",
        "1586  jacksonville-state     Jamal Hunter    JR  C-F  80      C-F        JR   \n",
        "1703              lehigh      Tim Kempton    FR  C-F  82      C-F        FR   \n",
        "\n",
        "         C      G     F     SR     FR     SO     GR     JR  \n",
        "187   True  False  True  False  False   True  False  False  \n",
        "367   True  False  True  False   True  False  False  False  \n",
        "1125  True  False  True  False  False   True  False  False  \n",
        "1586  True  False  True  False  False  False  False   True  \n",
        "1703  True  False  True  False   True  False  False  False  \n",
        "\n",
        "[5 rows x 15 columns]"
       ]
      }
     ],
     "prompt_number": 32
    },
    {
     "cell_type": "heading",
     "level": 4,
     "metadata": {},
     "source": [
      "Found some box score records with players named \"Team\" or \"Team Team\". These records will all be removed as team-stats with for particular player"
     ]
    },
    {
     "cell_type": "code",
     "collapsed": false,
     "input": [
      "boxes.info()"
     ],
     "language": "python",
     "metadata": {},
     "outputs": [
      {
       "output_type": "stream",
       "stream": "stdout",
       "text": [
        "<class 'pandas.core.frame.DataFrame'>\n",
        "Int64Index: 113043 entries, 0 to 113042\n",
        "Data columns (total 25 columns):\n",
        "Team        113042 non-null object\n",
        "Name        113042 non-null object\n",
        "Starters    113041 non-null object\n",
        "MP          113041 non-null float64\n",
        "FG          113040 non-null float64\n",
        "FGA         113039 non-null float64\n",
        "FG%         113039 non-null float64\n",
        "2P          113037 non-null float64\n",
        "2PA         113036 non-null float64\n",
        "2P%         113036 non-null float64\n",
        "3P          113036 non-null float64\n",
        "3PA         113035 non-null float64\n",
        "3P%         113034 non-null float64\n",
        "FT          113032 non-null float64\n",
        "FTA         113031 non-null float64\n",
        "FT%         113026 non-null float64\n",
        "ORB         113019 non-null float64\n",
        "DRB         113006 non-null float64\n",
        "TRB         112997 non-null float64\n",
        "AST         112982 non-null float64\n",
        "STL         112977 non-null float64\n",
        "BLK         112971 non-null float64\n",
        "TOV         112964 non-null float64\n",
        "PF          112956 non-null float64\n",
        "PTS         112953 non-null float64\n",
        "dtypes: float64(22), object(3)"
       ]
      }
     ],
     "prompt_number": 33
    },
    {
     "cell_type": "code",
     "collapsed": false,
     "input": [
      "boxes = boxes[(boxes.Starters != ' Team')]\n",
      "boxes = boxes[(boxes.Starters != 'Team Team')]"
     ],
     "language": "python",
     "metadata": {},
     "outputs": [],
     "prompt_number": 34
    },
    {
     "cell_type": "heading",
     "level": 4,
     "metadata": {},
     "source": [
      "Fix NaN records, verifying % columns before setting to zero."
     ]
    },
    {
     "cell_type": "code",
     "collapsed": true,
     "input": [
      "# Glance through % columns and check that all NaN\n",
      "boxes[boxes['2P%'].isnull()].sort('2PA', ascending=True)\n",
      "boxes[boxes['3P%'].isnull()].sort('3PA', ascending=True)\n",
      "boxes[boxes['FT%'].isnull()].sort('FTA', ascending=True)\n",
      "\n",
      "#Record 101239 has 1 3P but NaN 3P% (s/b 4 3PA)\n",
      "boxes.loc[101239, '3PA'] = 4"
     ],
     "language": "python",
     "metadata": {},
     "outputs": [],
     "prompt_number": 35
    },
    {
     "cell_type": "code",
     "collapsed": false,
     "input": [
      "#One record is NaN across the board. Omit from records.\n",
      "boxes = boxes[boxes.Team.isnull() == False]"
     ],
     "language": "python",
     "metadata": {},
     "outputs": [],
     "prompt_number": 36
    },
    {
     "cell_type": "code",
     "collapsed": false,
     "input": [
      "#One record has blank Player Name? Omit that from records\n",
      "boxes = boxes[boxes.Starters.isnull() == False]"
     ],
     "language": "python",
     "metadata": {},
     "outputs": [],
     "prompt_number": 37
    },
    {
     "cell_type": "code",
     "collapsed": false,
     "input": [
      "columns = boxes.columns\n",
      "print columns"
     ],
     "language": "python",
     "metadata": {},
     "outputs": [
      {
       "output_type": "stream",
       "stream": "stdout",
       "text": [
        "Index([u'Team', u'Name', u'Starters', u'MP', u'FG', u'FGA', u'FG%', u'2P', u'2PA', u'2P%', u'3P', u'3PA', u'3P%', u'FT', u'FTA', u'FT%', u'ORB', u'DRB', u'TRB', u'AST', u'STL', u'BLK', u'TOV', u'PF', u'PTS'], dtype='object')\n"
       ]
      }
     ],
     "prompt_number": 38
    },
    {
     "cell_type": "code",
     "collapsed": true,
     "input": [
      "#Since %s have checked out, populate all NaN records with zero.\n",
      "for cat in columns:\n",
      "    boxes.loc[boxes[cat].isnull(), cat] = 0"
     ],
     "language": "python",
     "metadata": {},
     "outputs": [],
     "prompt_number": 39
    },
    {
     "cell_type": "code",
     "collapsed": false,
     "input": [
      "boxes.rename(columns={'Team':'GameDate', 'Name': 'Team', 'Starters' : 'Player'}, inplace=True)\n",
      "boxes.head()"
     ],
     "language": "python",
     "metadata": {},
     "outputs": [
      {
       "html": [
        "<div style=\"max-height:1000px;max-width:1500px;overflow:auto;\">\n",
        "<table border=\"1\" class=\"dataframe\">\n",
        "  <thead>\n",
        "    <tr style=\"text-align: right;\">\n",
        "      <th></th>\n",
        "      <th>GameDate</th>\n",
        "      <th>Team</th>\n",
        "      <th>Player</th>\n",
        "      <th>MP</th>\n",
        "      <th>FG</th>\n",
        "      <th>FGA</th>\n",
        "      <th>FG%</th>\n",
        "      <th>2P</th>\n",
        "      <th>2PA</th>\n",
        "      <th>2P%</th>\n",
        "      <th>3P</th>\n",
        "      <th>3PA</th>\n",
        "      <th>3P%</th>\n",
        "      <th>FT</th>\n",
        "      <th>FTA</th>\n",
        "      <th>FT%</th>\n",
        "      <th>ORB</th>\n",
        "      <th>DRB</th>\n",
        "      <th>TRB</th>\n",
        "      <th>AST</th>\n",
        "      <th></th>\n",
        "    </tr>\n",
        "  </thead>\n",
        "  <tbody>\n",
        "    <tr>\n",
        "      <th>0</th>\n",
        "      <td> 2013-11-08-air-force.txt</td>\n",
        "      <td> army</td>\n",
        "      <td> Kevin Ferguson</td>\n",
        "      <td> 29</td>\n",
        "      <td> 4</td>\n",
        "      <td>  7</td>\n",
        "      <td> 0.571</td>\n",
        "      <td> 4</td>\n",
        "      <td> 7</td>\n",
        "      <td> 0.571</td>\n",
        "      <td> 0</td>\n",
        "      <td> 0</td>\n",
        "      <td> 0.000</td>\n",
        "      <td> 0</td>\n",
        "      <td> 0</td>\n",
        "      <td> 0.0</td>\n",
        "      <td> 2</td>\n",
        "      <td> 3</td>\n",
        "      <td> 5</td>\n",
        "      <td> 0</td>\n",
        "      <td>...</td>\n",
        "    </tr>\n",
        "    <tr>\n",
        "      <th>1</th>\n",
        "      <td> 2013-11-08-air-force.txt</td>\n",
        "      <td> army</td>\n",
        "      <td>    Kyle Wilson</td>\n",
        "      <td> 27</td>\n",
        "      <td> 4</td>\n",
        "      <td> 16</td>\n",
        "      <td> 0.250</td>\n",
        "      <td> 3</td>\n",
        "      <td> 9</td>\n",
        "      <td> 0.333</td>\n",
        "      <td> 1</td>\n",
        "      <td> 7</td>\n",
        "      <td> 0.143</td>\n",
        "      <td> 1</td>\n",
        "      <td> 1</td>\n",
        "      <td> 1.0</td>\n",
        "      <td> 0</td>\n",
        "      <td> 1</td>\n",
        "      <td> 1</td>\n",
        "      <td> 3</td>\n",
        "      <td>...</td>\n",
        "    </tr>\n",
        "    <tr>\n",
        "      <th>2</th>\n",
        "      <td> 2013-11-08-air-force.txt</td>\n",
        "      <td> army</td>\n",
        "      <td>      Dylan Cox</td>\n",
        "      <td> 25</td>\n",
        "      <td> 1</td>\n",
        "      <td>  2</td>\n",
        "      <td> 0.500</td>\n",
        "      <td> 1</td>\n",
        "      <td> 1</td>\n",
        "      <td> 1.000</td>\n",
        "      <td> 0</td>\n",
        "      <td> 1</td>\n",
        "      <td> 0.000</td>\n",
        "      <td> 2</td>\n",
        "      <td> 4</td>\n",
        "      <td> 0.5</td>\n",
        "      <td> 1</td>\n",
        "      <td> 0</td>\n",
        "      <td> 1</td>\n",
        "      <td> 0</td>\n",
        "      <td>...</td>\n",
        "    </tr>\n",
        "    <tr>\n",
        "      <th>3</th>\n",
        "      <td> 2013-11-08-air-force.txt</td>\n",
        "      <td> army</td>\n",
        "      <td>   Tanner Plomb</td>\n",
        "      <td> 15</td>\n",
        "      <td> 1</td>\n",
        "      <td>  6</td>\n",
        "      <td> 0.167</td>\n",
        "      <td> 0</td>\n",
        "      <td> 1</td>\n",
        "      <td> 0.000</td>\n",
        "      <td> 1</td>\n",
        "      <td> 5</td>\n",
        "      <td> 0.200</td>\n",
        "      <td> 2</td>\n",
        "      <td> 2</td>\n",
        "      <td> 1.0</td>\n",
        "      <td> 2</td>\n",
        "      <td> 3</td>\n",
        "      <td> 5</td>\n",
        "      <td> 3</td>\n",
        "      <td>...</td>\n",
        "    </tr>\n",
        "    <tr>\n",
        "      <th>4</th>\n",
        "      <td> 2013-11-08-air-force.txt</td>\n",
        "      <td> army</td>\n",
        "      <td>   Josh Herbeck</td>\n",
        "      <td> 11</td>\n",
        "      <td> 1</td>\n",
        "      <td>  5</td>\n",
        "      <td> 0.200</td>\n",
        "      <td> 0</td>\n",
        "      <td> 0</td>\n",
        "      <td> 0.000</td>\n",
        "      <td> 1</td>\n",
        "      <td> 5</td>\n",
        "      <td> 0.200</td>\n",
        "      <td> 0</td>\n",
        "      <td> 0</td>\n",
        "      <td> 0.0</td>\n",
        "      <td> 1</td>\n",
        "      <td> 1</td>\n",
        "      <td> 2</td>\n",
        "      <td> 1</td>\n",
        "      <td>...</td>\n",
        "    </tr>\n",
        "  </tbody>\n",
        "</table>\n",
        "<p>5 rows \u00d7 25 columns</p>\n",
        "</div>"
       ],
       "metadata": {},
       "output_type": "pyout",
       "prompt_number": 40,
       "text": [
        "                   GameDate  Team          Player  MP  FG  FGA    FG%  2P  \\\n",
        "0  2013-11-08-air-force.txt  army  Kevin Ferguson  29   4    7  0.571   4   \n",
        "1  2013-11-08-air-force.txt  army     Kyle Wilson  27   4   16  0.250   3   \n",
        "2  2013-11-08-air-force.txt  army       Dylan Cox  25   1    2  0.500   1   \n",
        "3  2013-11-08-air-force.txt  army    Tanner Plomb  15   1    6  0.167   0   \n",
        "4  2013-11-08-air-force.txt  army    Josh Herbeck  11   1    5  0.200   0   \n",
        "\n",
        "   2PA    2P%  3P  3PA    3P%  FT  FTA  FT%  ORB  DRB  TRB  AST      \n",
        "0    7  0.571   0    0  0.000   0    0  0.0    2    3    5    0 ...  \n",
        "1    9  0.333   1    7  0.143   1    1  1.0    0    1    1    3 ...  \n",
        "2    1  1.000   0    1  0.000   2    4  0.5    1    0    1    0 ...  \n",
        "3    1  0.000   1    5  0.200   2    2  1.0    2    3    5    3 ...  \n",
        "4    0  0.000   1    5  0.200   0    0  0.0    1    1    2    1 ...  \n",
        "\n",
        "[5 rows x 25 columns]"
       ]
      }
     ],
     "prompt_number": 40
    },
    {
     "cell_type": "heading",
     "level": 2,
     "metadata": {},
     "source": [
      "Merge DataFrames"
     ]
    },
    {
     "cell_type": "code",
     "collapsed": false,
     "input": [
      "tms_players = pd.merge(players, teams, how='inner', on='Team', left_on=None, right_on=None,\n",
      "      left_index=False, right_index=False, sort=True)\n",
      "tms_players.head(5)"
     ],
     "language": "python",
     "metadata": {},
     "outputs": [
      {
       "html": [
        "<div style=\"max-height:1000px;max-width:1500px;overflow:auto;\">\n",
        "<table border=\"1\" class=\"dataframe\">\n",
        "  <thead>\n",
        "    <tr style=\"text-align: right;\">\n",
        "      <th></th>\n",
        "      <th>Team</th>\n",
        "      <th>Player</th>\n",
        "      <th>Class</th>\n",
        "      <th>Pos</th>\n",
        "      <th>Ht</th>\n",
        "      <th>Position</th>\n",
        "      <th>ClassYear</th>\n",
        "      <th>C</th>\n",
        "      <th>G</th>\n",
        "      <th>F</th>\n",
        "      <th>SR</th>\n",
        "      <th>FR</th>\n",
        "      <th>SO</th>\n",
        "      <th>GR</th>\n",
        "      <th>JR</th>\n",
        "      <th>Conference</th>\n",
        "    </tr>\n",
        "  </thead>\n",
        "  <tbody>\n",
        "    <tr>\n",
        "      <th>0</th>\n",
        "      <td> air-force</td>\n",
        "      <td>  DeLovell Earls</td>\n",
        "      <td> JR</td>\n",
        "      <td> F</td>\n",
        "      <td> 78</td>\n",
        "      <td> F</td>\n",
        "      <td> JR</td>\n",
        "      <td> False</td>\n",
        "      <td> False</td>\n",
        "      <td>  True</td>\n",
        "      <td> False</td>\n",
        "      <td> False</td>\n",
        "      <td> False</td>\n",
        "      <td> False</td>\n",
        "      <td>  True</td>\n",
        "      <td> mwc</td>\n",
        "    </tr>\n",
        "    <tr>\n",
        "      <th>1</th>\n",
        "      <td> air-force</td>\n",
        "      <td>    Tre' Coggins</td>\n",
        "      <td> SO</td>\n",
        "      <td> G</td>\n",
        "      <td> 74</td>\n",
        "      <td> G</td>\n",
        "      <td> SO</td>\n",
        "      <td> False</td>\n",
        "      <td>  True</td>\n",
        "      <td> False</td>\n",
        "      <td> False</td>\n",
        "      <td> False</td>\n",
        "      <td>  True</td>\n",
        "      <td> False</td>\n",
        "      <td> False</td>\n",
        "      <td> mwc</td>\n",
        "    </tr>\n",
        "    <tr>\n",
        "      <th>2</th>\n",
        "      <td> air-force</td>\n",
        "      <td>  Darrius Parker</td>\n",
        "      <td> FR</td>\n",
        "      <td> C</td>\n",
        "      <td> 79</td>\n",
        "      <td> C</td>\n",
        "      <td> FR</td>\n",
        "      <td>  True</td>\n",
        "      <td> False</td>\n",
        "      <td> False</td>\n",
        "      <td> False</td>\n",
        "      <td>  True</td>\n",
        "      <td> False</td>\n",
        "      <td> False</td>\n",
        "      <td> False</td>\n",
        "      <td> mwc</td>\n",
        "    </tr>\n",
        "    <tr>\n",
        "      <th>3</th>\n",
        "      <td> air-force</td>\n",
        "      <td>  Nick Jorgensen</td>\n",
        "      <td> FR</td>\n",
        "      <td> F</td>\n",
        "      <td> 78</td>\n",
        "      <td> F</td>\n",
        "      <td> FR</td>\n",
        "      <td> False</td>\n",
        "      <td> False</td>\n",
        "      <td>  True</td>\n",
        "      <td> False</td>\n",
        "      <td>  True</td>\n",
        "      <td> False</td>\n",
        "      <td> False</td>\n",
        "      <td> False</td>\n",
        "      <td> mwc</td>\n",
        "    </tr>\n",
        "    <tr>\n",
        "      <th>4</th>\n",
        "      <td> air-force</td>\n",
        "      <td> Marek Olesinski</td>\n",
        "      <td> JR</td>\n",
        "      <td> F</td>\n",
        "      <td> 81</td>\n",
        "      <td> F</td>\n",
        "      <td> JR</td>\n",
        "      <td> False</td>\n",
        "      <td> False</td>\n",
        "      <td>  True</td>\n",
        "      <td> False</td>\n",
        "      <td> False</td>\n",
        "      <td> False</td>\n",
        "      <td> False</td>\n",
        "      <td>  True</td>\n",
        "      <td> mwc</td>\n",
        "    </tr>\n",
        "  </tbody>\n",
        "</table>\n",
        "<p>5 rows \u00d7 16 columns</p>\n",
        "</div>"
       ],
       "metadata": {},
       "output_type": "pyout",
       "prompt_number": 41,
       "text": [
        "        Team           Player Class Pos  Ht Position ClassYear      C      G  \\\n",
        "0  air-force   DeLovell Earls    JR   F  78        F        JR  False  False   \n",
        "1  air-force     Tre' Coggins    SO   G  74        G        SO  False   True   \n",
        "2  air-force   Darrius Parker    FR   C  79        C        FR   True  False   \n",
        "3  air-force   Nick Jorgensen    FR   F  78        F        FR  False  False   \n",
        "4  air-force  Marek Olesinski    JR   F  81        F        JR  False  False   \n",
        "\n",
        "       F     SR     FR     SO     GR     JR Conference  \n",
        "0   True  False  False  False  False   True        mwc  \n",
        "1  False  False  False   True  False  False        mwc  \n",
        "2  False  False   True  False  False  False        mwc  \n",
        "3   True  False   True  False  False  False        mwc  \n",
        "4   True  False  False  False  False   True        mwc  \n",
        "\n",
        "[5 rows x 16 columns]"
       ]
      }
     ],
     "prompt_number": 41
    },
    {
     "cell_type": "code",
     "collapsed": false,
     "input": [
      "tm_gm_p = pd.merge(tms_players,boxes, how='inner', on=['Team', 'Player'])"
     ],
     "language": "python",
     "metadata": {},
     "outputs": [],
     "prompt_number": 42
    },
    {
     "cell_type": "code",
     "collapsed": false,
     "input": [
      "#Remove Unnecessary Columns from this DF\n",
      "tm_gm_p = tm_gm_p.drop('Class',1)\n",
      "tm_gm_p = tm_gm_p.drop('ClassYear',1)\n",
      "tm_gm_p = tm_gm_p.drop('Pos',1)"
     ],
     "language": "python",
     "metadata": {},
     "outputs": [],
     "prompt_number": 43
    },
    {
     "cell_type": "code",
     "collapsed": true,
     "input": [
      "pd.set_option('display.max_columns', 40)\n",
      "tm_gm_p.head()"
     ],
     "language": "python",
     "metadata": {},
     "outputs": [
      {
       "html": [
        "<div style=\"max-height:1000px;max-width:1500px;overflow:auto;\">\n",
        "<table border=\"1\" class=\"dataframe\">\n",
        "  <thead>\n",
        "    <tr style=\"text-align: right;\">\n",
        "      <th></th>\n",
        "      <th>Team</th>\n",
        "      <th>Player</th>\n",
        "      <th>Ht</th>\n",
        "      <th>Position</th>\n",
        "      <th>C</th>\n",
        "      <th>G</th>\n",
        "      <th>F</th>\n",
        "      <th>SR</th>\n",
        "      <th>FR</th>\n",
        "      <th>SO</th>\n",
        "      <th>GR</th>\n",
        "      <th>JR</th>\n",
        "      <th>Conference</th>\n",
        "      <th>GameDate</th>\n",
        "      <th>MP</th>\n",
        "      <th>FG</th>\n",
        "      <th>FGA</th>\n",
        "      <th>FG%</th>\n",
        "      <th>2P</th>\n",
        "      <th>2PA</th>\n",
        "      <th>2P%</th>\n",
        "      <th>3P</th>\n",
        "      <th>3PA</th>\n",
        "      <th>3P%</th>\n",
        "      <th>FT</th>\n",
        "      <th>FTA</th>\n",
        "      <th>FT%</th>\n",
        "      <th>ORB</th>\n",
        "      <th>DRB</th>\n",
        "      <th>TRB</th>\n",
        "      <th>AST</th>\n",
        "      <th>STL</th>\n",
        "      <th>BLK</th>\n",
        "      <th>TOV</th>\n",
        "      <th>PF</th>\n",
        "      <th>PTS</th>\n",
        "    </tr>\n",
        "  </thead>\n",
        "  <tbody>\n",
        "    <tr>\n",
        "      <th>0</th>\n",
        "      <td> air-force</td>\n",
        "      <td> DeLovell Earls</td>\n",
        "      <td> 78</td>\n",
        "      <td> F</td>\n",
        "      <td> False</td>\n",
        "      <td> False</td>\n",
        "      <td> True</td>\n",
        "      <td> False</td>\n",
        "      <td> False</td>\n",
        "      <td> False</td>\n",
        "      <td> False</td>\n",
        "      <td> True</td>\n",
        "      <td> mwc</td>\n",
        "      <td> 2013-12-21-california-davis.txt</td>\n",
        "      <td>  3</td>\n",
        "      <td> 0</td>\n",
        "      <td> 1</td>\n",
        "      <td> 0.000</td>\n",
        "      <td> 0</td>\n",
        "      <td> 1</td>\n",
        "      <td> 0.0</td>\n",
        "      <td> 0</td>\n",
        "      <td> 0</td>\n",
        "      <td> 0</td>\n",
        "      <td> 0</td>\n",
        "      <td> 0</td>\n",
        "      <td> 0.00</td>\n",
        "      <td> 0</td>\n",
        "      <td> 0</td>\n",
        "      <td> 0</td>\n",
        "      <td> 0</td>\n",
        "      <td> 0</td>\n",
        "      <td> 0</td>\n",
        "      <td> 0</td>\n",
        "      <td> 0</td>\n",
        "      <td> 0</td>\n",
        "    </tr>\n",
        "    <tr>\n",
        "      <th>1</th>\n",
        "      <td> air-force</td>\n",
        "      <td> DeLovell Earls</td>\n",
        "      <td> 78</td>\n",
        "      <td> F</td>\n",
        "      <td> False</td>\n",
        "      <td> False</td>\n",
        "      <td> True</td>\n",
        "      <td> False</td>\n",
        "      <td> False</td>\n",
        "      <td> False</td>\n",
        "      <td> False</td>\n",
        "      <td> True</td>\n",
        "      <td> mwc</td>\n",
        "      <td>        2014-01-01-air-force.txt</td>\n",
        "      <td> 25</td>\n",
        "      <td> 0</td>\n",
        "      <td> 4</td>\n",
        "      <td> 0.000</td>\n",
        "      <td> 0</td>\n",
        "      <td> 2</td>\n",
        "      <td> 0.0</td>\n",
        "      <td> 0</td>\n",
        "      <td> 2</td>\n",
        "      <td> 0</td>\n",
        "      <td> 3</td>\n",
        "      <td> 4</td>\n",
        "      <td> 0.75</td>\n",
        "      <td> 1</td>\n",
        "      <td> 1</td>\n",
        "      <td> 2</td>\n",
        "      <td> 3</td>\n",
        "      <td> 2</td>\n",
        "      <td> 1</td>\n",
        "      <td> 3</td>\n",
        "      <td> 2</td>\n",
        "      <td> 3</td>\n",
        "    </tr>\n",
        "    <tr>\n",
        "      <th>2</th>\n",
        "      <td> air-force</td>\n",
        "      <td> DeLovell Earls</td>\n",
        "      <td> 78</td>\n",
        "      <td> F</td>\n",
        "      <td> False</td>\n",
        "      <td> False</td>\n",
        "      <td> True</td>\n",
        "      <td> False</td>\n",
        "      <td> False</td>\n",
        "      <td> False</td>\n",
        "      <td> False</td>\n",
        "      <td> True</td>\n",
        "      <td> mwc</td>\n",
        "      <td> 2014-01-04-nevada-las-vegas.txt</td>\n",
        "      <td> 17</td>\n",
        "      <td> 1</td>\n",
        "      <td> 4</td>\n",
        "      <td> 0.250</td>\n",
        "      <td> 1</td>\n",
        "      <td> 2</td>\n",
        "      <td> 0.5</td>\n",
        "      <td> 0</td>\n",
        "      <td> 2</td>\n",
        "      <td> 0</td>\n",
        "      <td> 2</td>\n",
        "      <td> 4</td>\n",
        "      <td> 0.50</td>\n",
        "      <td> 1</td>\n",
        "      <td> 0</td>\n",
        "      <td> 1</td>\n",
        "      <td> 2</td>\n",
        "      <td> 0</td>\n",
        "      <td> 0</td>\n",
        "      <td> 0</td>\n",
        "      <td> 4</td>\n",
        "      <td> 4</td>\n",
        "    </tr>\n",
        "    <tr>\n",
        "      <th>3</th>\n",
        "      <td> air-force</td>\n",
        "      <td> DeLovell Earls</td>\n",
        "      <td> 78</td>\n",
        "      <td> F</td>\n",
        "      <td> False</td>\n",
        "      <td> False</td>\n",
        "      <td> True</td>\n",
        "      <td> False</td>\n",
        "      <td> False</td>\n",
        "      <td> False</td>\n",
        "      <td> False</td>\n",
        "      <td> True</td>\n",
        "      <td> mwc</td>\n",
        "      <td>     2014-01-08-fresno-state.txt</td>\n",
        "      <td> 10</td>\n",
        "      <td> 0</td>\n",
        "      <td> 1</td>\n",
        "      <td> 0.000</td>\n",
        "      <td> 0</td>\n",
        "      <td> 1</td>\n",
        "      <td> 0.0</td>\n",
        "      <td> 0</td>\n",
        "      <td> 0</td>\n",
        "      <td> 0</td>\n",
        "      <td> 0</td>\n",
        "      <td> 0</td>\n",
        "      <td> 0.00</td>\n",
        "      <td> 0</td>\n",
        "      <td> 3</td>\n",
        "      <td> 3</td>\n",
        "      <td> 1</td>\n",
        "      <td> 1</td>\n",
        "      <td> 0</td>\n",
        "      <td> 3</td>\n",
        "      <td> 2</td>\n",
        "      <td> 0</td>\n",
        "    </tr>\n",
        "    <tr>\n",
        "      <th>4</th>\n",
        "      <td> air-force</td>\n",
        "      <td> DeLovell Earls</td>\n",
        "      <td> 78</td>\n",
        "      <td> F</td>\n",
        "      <td> False</td>\n",
        "      <td> False</td>\n",
        "      <td> True</td>\n",
        "      <td> False</td>\n",
        "      <td> False</td>\n",
        "      <td> False</td>\n",
        "      <td> False</td>\n",
        "      <td> True</td>\n",
        "      <td> mwc</td>\n",
        "      <td>        2014-01-12-air-force.txt</td>\n",
        "      <td> 14</td>\n",
        "      <td> 2</td>\n",
        "      <td> 6</td>\n",
        "      <td> 0.333</td>\n",
        "      <td> 2</td>\n",
        "      <td> 5</td>\n",
        "      <td> 0.4</td>\n",
        "      <td> 0</td>\n",
        "      <td> 1</td>\n",
        "      <td> 0</td>\n",
        "      <td> 2</td>\n",
        "      <td> 4</td>\n",
        "      <td> 0.50</td>\n",
        "      <td> 0</td>\n",
        "      <td> 0</td>\n",
        "      <td> 0</td>\n",
        "      <td> 1</td>\n",
        "      <td> 1</td>\n",
        "      <td> 0</td>\n",
        "      <td> 0</td>\n",
        "      <td> 4</td>\n",
        "      <td> 6</td>\n",
        "    </tr>\n",
        "  </tbody>\n",
        "</table>\n",
        "<p>5 rows \u00d7 36 columns</p>\n",
        "</div>"
       ],
       "metadata": {},
       "output_type": "pyout",
       "prompt_number": 44,
       "text": [
        "        Team          Player  Ht Position      C      G     F     SR     FR  \\\n",
        "0  air-force  DeLovell Earls  78        F  False  False  True  False  False   \n",
        "1  air-force  DeLovell Earls  78        F  False  False  True  False  False   \n",
        "2  air-force  DeLovell Earls  78        F  False  False  True  False  False   \n",
        "3  air-force  DeLovell Earls  78        F  False  False  True  False  False   \n",
        "4  air-force  DeLovell Earls  78        F  False  False  True  False  False   \n",
        "\n",
        "      SO     GR    JR Conference                         GameDate  MP  FG  \\\n",
        "0  False  False  True        mwc  2013-12-21-california-davis.txt   3   0   \n",
        "1  False  False  True        mwc         2014-01-01-air-force.txt  25   0   \n",
        "2  False  False  True        mwc  2014-01-04-nevada-las-vegas.txt  17   1   \n",
        "3  False  False  True        mwc      2014-01-08-fresno-state.txt  10   0   \n",
        "4  False  False  True        mwc         2014-01-12-air-force.txt  14   2   \n",
        "\n",
        "   FGA    FG%  2P  2PA  2P%  3P  3PA  3P%  FT  FTA   FT%  ORB  DRB  TRB  AST  \\\n",
        "0    1  0.000   0    1  0.0   0    0    0   0    0  0.00    0    0    0    0   \n",
        "1    4  0.000   0    2  0.0   0    2    0   3    4  0.75    1    1    2    3   \n",
        "2    4  0.250   1    2  0.5   0    2    0   2    4  0.50    1    0    1    2   \n",
        "3    1  0.000   0    1  0.0   0    0    0   0    0  0.00    0    3    3    1   \n",
        "4    6  0.333   2    5  0.4   0    1    0   2    4  0.50    0    0    0    1   \n",
        "\n",
        "   STL  BLK  TOV  PF  PTS  \n",
        "0    0    0    0   0    0  \n",
        "1    2    1    3   2    3  \n",
        "2    0    0    0   4    4  \n",
        "3    1    0    3   2    0  \n",
        "4    1    0    0   4    6  \n",
        "\n",
        "[5 rows x 36 columns]"
       ]
      }
     ],
     "prompt_number": 44
    },
    {
     "cell_type": "code",
     "collapsed": true,
     "input": [
      "tm_gm_p['Major']=False\n",
      "\n",
      "majors = ['acc', 'big-ten', 'big-12', 'pac-12', 'sec']\n",
      "for m in majors:\n",
      "    tm_gm_p.loc[:,'Major'][tm_gm_p.Conference == m]  =True\n",
      "\n",
      "tm_gm_p.describe()\n",
      "# Based on the table below, ~22% of player-game records are from a Major conference"
     ],
     "language": "python",
     "metadata": {},
     "outputs": [
      {
       "html": [
        "<div style=\"max-height:1000px;max-width:1500px;overflow:auto;\">\n",
        "<table border=\"1\" class=\"dataframe\">\n",
        "  <thead>\n",
        "    <tr style=\"text-align: right;\">\n",
        "      <th></th>\n",
        "      <th>Ht</th>\n",
        "      <th>C</th>\n",
        "      <th>G</th>\n",
        "      <th>F</th>\n",
        "      <th>SR</th>\n",
        "      <th>FR</th>\n",
        "      <th>SO</th>\n",
        "      <th>GR</th>\n",
        "      <th>JR</th>\n",
        "      <th>MP</th>\n",
        "      <th>FG</th>\n",
        "      <th>FGA</th>\n",
        "      <th>FG%</th>\n",
        "      <th>2P</th>\n",
        "      <th>2PA</th>\n",
        "      <th>2P%</th>\n",
        "      <th>3P</th>\n",
        "      <th>3PA</th>\n",
        "      <th>3P%</th>\n",
        "      <th>FT</th>\n",
        "      <th>FTA</th>\n",
        "      <th>FT%</th>\n",
        "      <th>ORB</th>\n",
        "      <th>DRB</th>\n",
        "      <th>TRB</th>\n",
        "      <th>AST</th>\n",
        "      <th>STL</th>\n",
        "      <th>BLK</th>\n",
        "      <th>TOV</th>\n",
        "      <th>PF</th>\n",
        "      <th>PTS</th>\n",
        "      <th>Major</th>\n",
        "    </tr>\n",
        "  </thead>\n",
        "  <tbody>\n",
        "    <tr>\n",
        "      <th>count</th>\n",
        "      <td> 90240.000000</td>\n",
        "      <td>      90240</td>\n",
        "      <td>     90240</td>\n",
        "      <td>     90240</td>\n",
        "      <td>     90240</td>\n",
        "      <td>     90240</td>\n",
        "      <td>     90240</td>\n",
        "      <td>       90240</td>\n",
        "      <td>     90240</td>\n",
        "      <td> 90240.000000</td>\n",
        "      <td> 90240.000000</td>\n",
        "      <td> 90240.000000</td>\n",
        "      <td> 90240.000000</td>\n",
        "      <td> 90240.000000</td>\n",
        "      <td> 90240.000000</td>\n",
        "      <td> 90240.000000</td>\n",
        "      <td> 90240.000000</td>\n",
        "      <td> 90240.000000</td>\n",
        "      <td> 90240.000000</td>\n",
        "      <td> 90240.000000</td>\n",
        "      <td> 90240.000000</td>\n",
        "      <td> 90240.000000</td>\n",
        "      <td> 90240.000000</td>\n",
        "      <td> 90240.000000</td>\n",
        "      <td> 90240.000000</td>\n",
        "      <td> 90240.000000</td>\n",
        "      <td> 90240.000000</td>\n",
        "      <td> 90240.000000</td>\n",
        "      <td> 90240.000000</td>\n",
        "      <td> 90240.000000</td>\n",
        "      <td> 90240.000000</td>\n",
        "      <td>     90240</td>\n",
        "    </tr>\n",
        "    <tr>\n",
        "      <th>mean</th>\n",
        "      <td>    77.073626</td>\n",
        "      <td> 0.09327349</td>\n",
        "      <td> 0.5431516</td>\n",
        "      <td> 0.4291777</td>\n",
        "      <td>  0.253535</td>\n",
        "      <td> 0.2351175</td>\n",
        "      <td> 0.2365581</td>\n",
        "      <td> 0.006560284</td>\n",
        "      <td> 0.2682292</td>\n",
        "      <td>    19.852194</td>\n",
        "      <td>     2.420290</td>\n",
        "      <td>     5.438364</td>\n",
        "      <td>     0.372162</td>\n",
        "      <td>     1.800720</td>\n",
        "      <td>     3.654588</td>\n",
        "      <td>     0.377954</td>\n",
        "      <td>     0.619570</td>\n",
        "      <td>     1.783766</td>\n",
        "      <td>     0.170753</td>\n",
        "      <td>     1.557314</td>\n",
        "      <td>     2.227671</td>\n",
        "      <td>     0.374206</td>\n",
        "      <td>     0.926950</td>\n",
        "      <td>     2.213132</td>\n",
        "      <td>     3.139605</td>\n",
        "      <td>     1.257336</td>\n",
        "      <td>     0.605508</td>\n",
        "      <td>     0.368251</td>\n",
        "      <td>     1.172728</td>\n",
        "      <td>     1.872728</td>\n",
        "      <td>     7.012445</td>\n",
        "      <td>  0.218074</td>\n",
        "    </tr>\n",
        "    <tr>\n",
        "      <th>std</th>\n",
        "      <td>     3.490446</td>\n",
        "      <td>  0.2908169</td>\n",
        "      <td> 0.4981372</td>\n",
        "      <td> 0.4949615</td>\n",
        "      <td> 0.4350369</td>\n",
        "      <td> 0.4240746</td>\n",
        "      <td>  0.424971</td>\n",
        "      <td>  0.08072991</td>\n",
        "      <td>   0.44304</td>\n",
        "      <td>    11.435787</td>\n",
        "      <td>     2.400702</td>\n",
        "      <td>     4.542185</td>\n",
        "      <td>     0.295265</td>\n",
        "      <td>     2.044267</td>\n",
        "      <td>     3.504414</td>\n",
        "      <td>     0.340274</td>\n",
        "      <td>     1.111678</td>\n",
        "      <td>     2.363633</td>\n",
        "      <td>     0.282291</td>\n",
        "      <td>     2.227225</td>\n",
        "      <td>     2.863753</td>\n",
        "      <td>     0.405979</td>\n",
        "      <td>     1.301766</td>\n",
        "      <td>     2.198864</td>\n",
        "      <td>     2.963598</td>\n",
        "      <td>     1.717392</td>\n",
        "      <td>     0.924465</td>\n",
        "      <td>     0.823109</td>\n",
        "      <td>     1.309947</td>\n",
        "      <td>     1.456131</td>\n",
        "      <td>     6.747498</td>\n",
        "      <td> 0.4129402</td>\n",
        "    </tr>\n",
        "    <tr>\n",
        "      <th>min</th>\n",
        "      <td>    62.000000</td>\n",
        "      <td>      False</td>\n",
        "      <td>     False</td>\n",
        "      <td>     False</td>\n",
        "      <td>     False</td>\n",
        "      <td>     False</td>\n",
        "      <td>     False</td>\n",
        "      <td>       False</td>\n",
        "      <td>     False</td>\n",
        "      <td>     0.000000</td>\n",
        "      <td>     0.000000</td>\n",
        "      <td>     0.000000</td>\n",
        "      <td>     0.000000</td>\n",
        "      <td>     0.000000</td>\n",
        "      <td>     0.000000</td>\n",
        "      <td>     0.000000</td>\n",
        "      <td>     0.000000</td>\n",
        "      <td>     0.000000</td>\n",
        "      <td>     0.000000</td>\n",
        "      <td>     0.000000</td>\n",
        "      <td>     0.000000</td>\n",
        "      <td>     0.000000</td>\n",
        "      <td>     0.000000</td>\n",
        "      <td>     0.000000</td>\n",
        "      <td>     0.000000</td>\n",
        "      <td>     0.000000</td>\n",
        "      <td>     0.000000</td>\n",
        "      <td>     0.000000</td>\n",
        "      <td>     0.000000</td>\n",
        "      <td>     0.000000</td>\n",
        "      <td>     0.000000</td>\n",
        "      <td>     False</td>\n",
        "    </tr>\n",
        "    <tr>\n",
        "      <th>25%</th>\n",
        "      <td>    75.000000</td>\n",
        "      <td>          0</td>\n",
        "      <td>         0</td>\n",
        "      <td>         0</td>\n",
        "      <td>         0</td>\n",
        "      <td>         0</td>\n",
        "      <td>         0</td>\n",
        "      <td>           0</td>\n",
        "      <td>         0</td>\n",
        "      <td>    10.000000</td>\n",
        "      <td>     0.000000</td>\n",
        "      <td>     2.000000</td>\n",
        "      <td>     0.000000</td>\n",
        "      <td>     0.000000</td>\n",
        "      <td>     1.000000</td>\n",
        "      <td>     0.000000</td>\n",
        "      <td>     0.000000</td>\n",
        "      <td>     0.000000</td>\n",
        "      <td>     0.000000</td>\n",
        "      <td>     0.000000</td>\n",
        "      <td>     0.000000</td>\n",
        "      <td>     0.000000</td>\n",
        "      <td>     0.000000</td>\n",
        "      <td>     0.000000</td>\n",
        "      <td>     1.000000</td>\n",
        "      <td>     0.000000</td>\n",
        "      <td>     0.000000</td>\n",
        "      <td>     0.000000</td>\n",
        "      <td>     0.000000</td>\n",
        "      <td>     1.000000</td>\n",
        "      <td>     2.000000</td>\n",
        "      <td>         0</td>\n",
        "    </tr>\n",
        "    <tr>\n",
        "      <th>50%</th>\n",
        "      <td>    77.000000</td>\n",
        "      <td>          0</td>\n",
        "      <td>         1</td>\n",
        "      <td>         0</td>\n",
        "      <td>         0</td>\n",
        "      <td>         0</td>\n",
        "      <td>         0</td>\n",
        "      <td>           0</td>\n",
        "      <td>         0</td>\n",
        "      <td>    20.000000</td>\n",
        "      <td>     2.000000</td>\n",
        "      <td>     5.000000</td>\n",
        "      <td>     0.385000</td>\n",
        "      <td>     1.000000</td>\n",
        "      <td>     3.000000</td>\n",
        "      <td>     0.400000</td>\n",
        "      <td>     0.000000</td>\n",
        "      <td>     1.000000</td>\n",
        "      <td>     0.000000</td>\n",
        "      <td>     1.000000</td>\n",
        "      <td>     2.000000</td>\n",
        "      <td>     0.250000</td>\n",
        "      <td>     0.000000</td>\n",
        "      <td>     2.000000</td>\n",
        "      <td>     2.000000</td>\n",
        "      <td>     1.000000</td>\n",
        "      <td>     0.000000</td>\n",
        "      <td>     0.000000</td>\n",
        "      <td>     1.000000</td>\n",
        "      <td>     2.000000</td>\n",
        "      <td>     5.000000</td>\n",
        "      <td>         0</td>\n",
        "    </tr>\n",
        "    <tr>\n",
        "      <th>75%</th>\n",
        "      <td>    80.000000</td>\n",
        "      <td>          0</td>\n",
        "      <td>         1</td>\n",
        "      <td>         1</td>\n",
        "      <td>         1</td>\n",
        "      <td>         0</td>\n",
        "      <td>         0</td>\n",
        "      <td>           0</td>\n",
        "      <td>         1</td>\n",
        "      <td>    29.000000</td>\n",
        "      <td>     4.000000</td>\n",
        "      <td>     8.000000</td>\n",
        "      <td>     0.556000</td>\n",
        "      <td>     3.000000</td>\n",
        "      <td>     6.000000</td>\n",
        "      <td>     0.625000</td>\n",
        "      <td>     1.000000</td>\n",
        "      <td>     3.000000</td>\n",
        "      <td>     0.333000</td>\n",
        "      <td>     2.000000</td>\n",
        "      <td>     4.000000</td>\n",
        "      <td>     0.750000</td>\n",
        "      <td>     1.000000</td>\n",
        "      <td>     3.000000</td>\n",
        "      <td>     5.000000</td>\n",
        "      <td>     2.000000</td>\n",
        "      <td>     1.000000</td>\n",
        "      <td>     0.000000</td>\n",
        "      <td>     2.000000</td>\n",
        "      <td>     3.000000</td>\n",
        "      <td>    11.000000</td>\n",
        "      <td>         0</td>\n",
        "    </tr>\n",
        "    <tr>\n",
        "      <th>max</th>\n",
        "      <td>    90.000000</td>\n",
        "      <td>       True</td>\n",
        "      <td>      True</td>\n",
        "      <td>      True</td>\n",
        "      <td>      True</td>\n",
        "      <td>      True</td>\n",
        "      <td>      True</td>\n",
        "      <td>        True</td>\n",
        "      <td>      True</td>\n",
        "      <td>    59.000000</td>\n",
        "      <td>    20.000000</td>\n",
        "      <td>    34.000000</td>\n",
        "      <td>     1.000000</td>\n",
        "      <td>    18.000000</td>\n",
        "      <td>    26.000000</td>\n",
        "      <td>     1.000000</td>\n",
        "      <td>    12.000000</td>\n",
        "      <td>    23.000000</td>\n",
        "      <td>     1.000000</td>\n",
        "      <td>    21.000000</td>\n",
        "      <td>    25.000000</td>\n",
        "      <td>     1.000000</td>\n",
        "      <td>    12.000000</td>\n",
        "      <td>    19.000000</td>\n",
        "      <td>    25.000000</td>\n",
        "      <td>    16.000000</td>\n",
        "      <td>     9.000000</td>\n",
        "      <td>    11.000000</td>\n",
        "      <td>    11.000000</td>\n",
        "      <td>     6.000000</td>\n",
        "      <td>    48.000000</td>\n",
        "      <td>      True</td>\n",
        "    </tr>\n",
        "  </tbody>\n",
        "</table>\n",
        "<p>8 rows \u00d7 32 columns</p>\n",
        "</div>"
       ],
       "metadata": {},
       "output_type": "pyout",
       "prompt_number": 45,
       "text": [
        "                 Ht           C          G          F         SR         FR  \\\n",
        "count  90240.000000       90240      90240      90240      90240      90240   \n",
        "mean      77.073626  0.09327349  0.5431516  0.4291777   0.253535  0.2351175   \n",
        "std        3.490446   0.2908169  0.4981372  0.4949615  0.4350369  0.4240746   \n",
        "min       62.000000       False      False      False      False      False   \n",
        "25%       75.000000           0          0          0          0          0   \n",
        "50%       77.000000           0          1          0          0          0   \n",
        "75%       80.000000           0          1          1          1          0   \n",
        "max       90.000000        True       True       True       True       True   \n",
        "\n",
        "              SO           GR         JR            MP            FG  \\\n",
        "count      90240        90240      90240  90240.000000  90240.000000   \n",
        "mean   0.2365581  0.006560284  0.2682292     19.852194      2.420290   \n",
        "std     0.424971   0.08072991    0.44304     11.435787      2.400702   \n",
        "min        False        False      False      0.000000      0.000000   \n",
        "25%            0            0          0     10.000000      0.000000   \n",
        "50%            0            0          0     20.000000      2.000000   \n",
        "75%            0            0          1     29.000000      4.000000   \n",
        "max         True         True       True     59.000000     20.000000   \n",
        "\n",
        "                FGA           FG%            2P           2PA           2P%  \\\n",
        "count  90240.000000  90240.000000  90240.000000  90240.000000  90240.000000   \n",
        "mean       5.438364      0.372162      1.800720      3.654588      0.377954   \n",
        "std        4.542185      0.295265      2.044267      3.504414      0.340274   \n",
        "min        0.000000      0.000000      0.000000      0.000000      0.000000   \n",
        "25%        2.000000      0.000000      0.000000      1.000000      0.000000   \n",
        "50%        5.000000      0.385000      1.000000      3.000000      0.400000   \n",
        "75%        8.000000      0.556000      3.000000      6.000000      0.625000   \n",
        "max       34.000000      1.000000     18.000000     26.000000      1.000000   \n",
        "\n",
        "                 3P           3PA           3P%            FT           FTA  \\\n",
        "count  90240.000000  90240.000000  90240.000000  90240.000000  90240.000000   \n",
        "mean       0.619570      1.783766      0.170753      1.557314      2.227671   \n",
        "std        1.111678      2.363633      0.282291      2.227225      2.863753   \n",
        "min        0.000000      0.000000      0.000000      0.000000      0.000000   \n",
        "25%        0.000000      0.000000      0.000000      0.000000      0.000000   \n",
        "50%        0.000000      1.000000      0.000000      1.000000      2.000000   \n",
        "75%        1.000000      3.000000      0.333000      2.000000      4.000000   \n",
        "max       12.000000     23.000000      1.000000     21.000000     25.000000   \n",
        "\n",
        "                FT%           ORB           DRB           TRB           AST  \\\n",
        "count  90240.000000  90240.000000  90240.000000  90240.000000  90240.000000   \n",
        "mean       0.374206      0.926950      2.213132      3.139605      1.257336   \n",
        "std        0.405979      1.301766      2.198864      2.963598      1.717392   \n",
        "min        0.000000      0.000000      0.000000      0.000000      0.000000   \n",
        "25%        0.000000      0.000000      0.000000      1.000000      0.000000   \n",
        "50%        0.250000      0.000000      2.000000      2.000000      1.000000   \n",
        "75%        0.750000      1.000000      3.000000      5.000000      2.000000   \n",
        "max        1.000000     12.000000     19.000000     25.000000     16.000000   \n",
        "\n",
        "                STL           BLK           TOV            PF           PTS  \\\n",
        "count  90240.000000  90240.000000  90240.000000  90240.000000  90240.000000   \n",
        "mean       0.605508      0.368251      1.172728      1.872728      7.012445   \n",
        "std        0.924465      0.823109      1.309947      1.456131      6.747498   \n",
        "min        0.000000      0.000000      0.000000      0.000000      0.000000   \n",
        "25%        0.000000      0.000000      0.000000      1.000000      2.000000   \n",
        "50%        0.000000      0.000000      1.000000      2.000000      5.000000   \n",
        "75%        1.000000      0.000000      2.000000      3.000000     11.000000   \n",
        "max        9.000000     11.000000     11.000000      6.000000     48.000000   \n",
        "\n",
        "           Major  \n",
        "count      90240  \n",
        "mean    0.218074  \n",
        "std    0.4129402  \n",
        "min        False  \n",
        "25%            0  \n",
        "50%            0  \n",
        "75%            0  \n",
        "max         True  \n",
        "\n",
        "[8 rows x 32 columns]"
       ]
      }
     ],
     "prompt_number": 45
    },
    {
     "cell_type": "heading",
     "level": 1,
     "metadata": {},
     "source": [
      "CLEAN SOME MORE (Fine-Tuning Features):"
     ]
    },
    {
     "cell_type": "raw",
     "metadata": {},
     "source": [
      "-Transform classYear groupings into Boolean UpperClassman field"
     ]
    },
    {
     "cell_type": "code",
     "collapsed": false,
     "input": [
      "tm_gm_p['UpperClass'] = False"
     ],
     "language": "python",
     "metadata": {},
     "outputs": [],
     "prompt_number": 115
    },
    {
     "cell_type": "code",
     "collapsed": false,
     "input": [
      "#players.loc[:,'Position'][players.Pos == 'W'] = 'G-F'\n",
      "tm_gm_p.loc[:,'UpperClass'][(tm_gm_p.SR==True)] = True\n",
      "tm_gm_p.loc[:,'UpperClass'][(tm_gm_p.JR==True)] = True\n",
      "tm_gm_p.loc[:,'UpperClass'][(tm_gm_p.GR==True)] = True"
     ],
     "language": "python",
     "metadata": {},
     "outputs": [],
     "prompt_number": 122
    },
    {
     "cell_type": "code",
     "collapsed": false,
     "input": [
      "tm_gm_p.groupby('Major').UpperClass.mean()\n",
      "# 10% more Mid-Major player-game records are for Upper Classmen (one/two and done players go to Majors)"
     ],
     "language": "python",
     "metadata": {},
     "outputs": [
      {
       "metadata": {},
       "output_type": "pyout",
       "prompt_number": 125,
       "text": [
        "Major\n",
        "False    0.552444\n",
        "True     0.441842\n",
        "Name: UpperClass, dtype: float64"
       ]
      }
     ],
     "prompt_number": 125
    },
    {
     "cell_type": "code",
     "collapsed": true,
     "input": [
      "#MPL returning error for Major== True, so graphing hists with pandas\n",
      "tm_gm_p.hist('UpperClass')\n",
      "tm_gm_p[tm_gm_p.Major == True].hist('UpperClass')\n",
      "tm_gm_p[tm_gm_p.Major == False].hist('UpperClass')\n"
     ],
     "language": "python",
     "metadata": {},
     "outputs": [
      {
       "metadata": {},
       "output_type": "pyout",
       "prompt_number": 126,
       "text": [
        "array([[<matplotlib.axes.AxesSubplot object at 0xea54510>]], dtype=object)"
       ]
      },
      {
       "metadata": {},
       "output_type": "display_data",
       "png": "[encoded data removed]",
       "text": [
        "<matplotlib.figure.Figure at 0x1a516f50>"
       ]
      },
      {
       "metadata": {},
       "output_type": "display_data",
       "png": "[encoded data removed]",
       "text": [
        "<matplotlib.figure.Figure at 0x162c19d0>"
       ]
      },
      {
       "metadata": {},
       "output_type": "display_data",
       "png": "[encoded data removed]",
       "text": [
        "<matplotlib.figure.Figure at 0xea45710>"
       ]
      }
     ],
     "prompt_number": 126
    },
    {
     "cell_type": "code",
     "collapsed": true,
     "input": [
      "cats_updated = ['Ht','C','G','UpperClass','2P','2PA','3PA','ORB','DRB','TRB','BLK','TOV','PF']\n",
      "\n",
      "#Run regression with all quantitative stat categories\n",
      "f_score, p_score = f_regression(tm_gm_p[cats_updated].values, tm_gm_p['Major'].values)\n",
      "#print 'F-score_all: ', f_score\n",
      "#print 'p-score_all: ', p_score\n",
      "\n",
      "#print all p-scores\n",
      "for i, p in enumerate(p_score):\n",
      "    print \"p-score_%s: \" % cats_updated[i], p\n",
      "\n",
      "print \" \"\n",
      "sig_c = []\n",
      "#print just significant p-scores ( < 0.05)\n",
      "for i, p in enumerate(p_score):\n",
      "    if p < 0.05:\n",
      "        sig_c.append(cats_updated[i])\n",
      "        print \"p-score_%s: \" % cats_updated[i], p\n",
      "\n",
      "print ','.join(sig_c)"
     ],
     "language": "python",
     "metadata": {},
     "outputs": [
      {
       "output_type": "stream",
       "stream": "stdout",
       "text": [
        "p-score_Ht:  8.0021673743e-202\n",
        "p-score_C:  0.0389841085108\n",
        "p-score_G:  1.32772077901e-17\n",
        "p-score_UpperClass:  5.64017232904e-167\n",
        "p-score_2P:  0.00465524932617\n",
        "p-score_2PA:  0.0118194922258\n",
        "p-score_3PA:  0.0139658224418\n",
        "p-score_ORB:  0.0108153322106\n",
        "p-score_DRB:  6.98356176681e-06\n",
        "p-score_TRB:  9.28108945336e-06\n",
        "p-score_BLK:  2.68936019889e-13\n",
        "p-score_TOV:  4.64660434768e-15\n",
        "p-score_PF:  3.27476035736e-18\n",
        " \n",
        "p-score_Ht:  8.0021673743e-202\n",
        "p-score_C:  0.0389841085108\n",
        "p-score_G:  1.32772077901e-17\n",
        "p-score_UpperClass:  5.64017232904e-167\n",
        "p-score_2P:  0.00465524932617\n",
        "p-score_2PA:  0.0118194922258\n",
        "p-score_3PA:  0.0139658224418\n",
        "p-score_ORB:  0.0108153322106\n",
        "p-score_DRB:  6.98356176681e-06\n",
        "p-score_TRB:  9.28108945336e-06\n",
        "p-score_BLK:  2.68936019889e-13\n",
        "p-score_TOV:  4.64660434768e-15\n",
        "p-score_PF:  3.27476035736e-18\n",
        "Ht,C,G,UpperClass,2P,2PA,3PA,ORB,DRB,TRB,BLK,TOV,PF\n"
       ]
      }
     ],
     "prompt_number": 130
    },
    {
     "cell_type": "raw",
     "metadata": {},
     "source": [
      "-Transform all counting stat categories to Per40 (40min/game)"
     ]
    },
    {
     "cell_type": "code",
     "collapsed": false,
     "input": [
      "per40_col = ['Major', 'UpperClass','Ht','C','G','MP','FG','FGA','FG%','2P','2PA','2P%',\n",
      "             '3P','3PA','3P%','FT','FTA','FT%','ORB','DRB','TRB','AST','STL','BLK','TOV','PF','PTS']\n",
      "per40 = tm_gm_p[per40_col]"
     ],
     "language": "python",
     "metadata": {},
     "outputs": [],
     "prompt_number": 191
    },
    {
     "cell_type": "code",
     "collapsed": true,
     "input": [
      "per40_col_omit = ['Major', 'UpperClass', 'Ht','C','G','MP','FG%','2P%','3P%','FT%']\n",
      "#for c in per40.columns:\n",
      "col = ['FG']\n",
      "for c in per40.columns:\n",
      "    if c not in per40_col_omit:\n",
      "        def calc_per40(row):\n",
      "            return (row['MP']/40) * row[c]\n",
      "        per40[c] = per40.apply(calc_per40, axis=1)\n",
      " \n",
      "per40.head()"
     ],
     "language": "python",
     "metadata": {},
     "outputs": [
      {
       "html": [
        "<div style=\"max-height:1000px;max-width:1500px;overflow:auto;\">\n",
        "<table border=\"1\" class=\"dataframe\">\n",
        "  <thead>\n",
        "    <tr style=\"text-align: right;\">\n",
        "      <th></th>\n",
        "      <th>Major</th>\n",
        "      <th>UpperClass</th>\n",
        "      <th>Ht</th>\n",
        "      <th>C</th>\n",
        "      <th>G</th>\n",
        "      <th>MP</th>\n",
        "      <th>FG</th>\n",
        "      <th>FGA</th>\n",
        "      <th>FG%</th>\n",
        "      <th>2P</th>\n",
        "      <th>2PA</th>\n",
        "      <th>2P%</th>\n",
        "      <th>3P</th>\n",
        "      <th>3PA</th>\n",
        "      <th>3P%</th>\n",
        "      <th>FT</th>\n",
        "      <th>FTA</th>\n",
        "      <th>FT%</th>\n",
        "      <th>ORB</th>\n",
        "      <th>DRB</th>\n",
        "      <th>TRB</th>\n",
        "      <th>AST</th>\n",
        "      <th>STL</th>\n",
        "      <th>BLK</th>\n",
        "      <th>TOV</th>\n",
        "      <th>PF</th>\n",
        "      <th>PTS</th>\n",
        "    </tr>\n",
        "  </thead>\n",
        "  <tbody>\n",
        "    <tr>\n",
        "      <th>0</th>\n",
        "      <td> False</td>\n",
        "      <td> True</td>\n",
        "      <td> 78</td>\n",
        "      <td> False</td>\n",
        "      <td> False</td>\n",
        "      <td>  3</td>\n",
        "      <td> 0.000</td>\n",
        "      <td> 0.075</td>\n",
        "      <td> 0.000</td>\n",
        "      <td> 0.000</td>\n",
        "      <td> 0.075</td>\n",
        "      <td> 0.0</td>\n",
        "      <td> 0</td>\n",
        "      <td> 0.00</td>\n",
        "      <td> 0</td>\n",
        "      <td> 0.000</td>\n",
        "      <td> 0.0</td>\n",
        "      <td> 0.00</td>\n",
        "      <td> 0.000</td>\n",
        "      <td> 0.000</td>\n",
        "      <td> 0.000</td>\n",
        "      <td> 0.000</td>\n",
        "      <td> 0.00</td>\n",
        "      <td> 0.000</td>\n",
        "      <td> 0.000</td>\n",
        "      <td> 0.00</td>\n",
        "      <td> 0.000</td>\n",
        "    </tr>\n",
        "    <tr>\n",
        "      <th>1</th>\n",
        "      <td> False</td>\n",
        "      <td> True</td>\n",
        "      <td> 78</td>\n",
        "      <td> False</td>\n",
        "      <td> False</td>\n",
        "      <td> 25</td>\n",
        "      <td> 0.000</td>\n",
        "      <td> 2.500</td>\n",
        "      <td> 0.000</td>\n",
        "      <td> 0.000</td>\n",
        "      <td> 1.250</td>\n",
        "      <td> 0.0</td>\n",
        "      <td> 0</td>\n",
        "      <td> 1.25</td>\n",
        "      <td> 0</td>\n",
        "      <td> 1.875</td>\n",
        "      <td> 2.5</td>\n",
        "      <td> 0.75</td>\n",
        "      <td> 0.625</td>\n",
        "      <td> 0.625</td>\n",
        "      <td> 1.250</td>\n",
        "      <td> 1.875</td>\n",
        "      <td> 1.25</td>\n",
        "      <td> 0.625</td>\n",
        "      <td> 1.875</td>\n",
        "      <td> 1.25</td>\n",
        "      <td> 1.875</td>\n",
        "    </tr>\n",
        "    <tr>\n",
        "      <th>2</th>\n",
        "      <td> False</td>\n",
        "      <td> True</td>\n",
        "      <td> 78</td>\n",
        "      <td> False</td>\n",
        "      <td> False</td>\n",
        "      <td> 17</td>\n",
        "      <td> 0.425</td>\n",
        "      <td> 1.700</td>\n",
        "      <td> 0.250</td>\n",
        "      <td> 0.425</td>\n",
        "      <td> 0.850</td>\n",
        "      <td> 0.5</td>\n",
        "      <td> 0</td>\n",
        "      <td> 0.85</td>\n",
        "      <td> 0</td>\n",
        "      <td> 0.850</td>\n",
        "      <td> 1.7</td>\n",
        "      <td> 0.50</td>\n",
        "      <td> 0.425</td>\n",
        "      <td> 0.000</td>\n",
        "      <td> 0.425</td>\n",
        "      <td> 0.850</td>\n",
        "      <td> 0.00</td>\n",
        "      <td> 0.000</td>\n",
        "      <td> 0.000</td>\n",
        "      <td> 1.70</td>\n",
        "      <td> 1.700</td>\n",
        "    </tr>\n",
        "    <tr>\n",
        "      <th>3</th>\n",
        "      <td> False</td>\n",
        "      <td> True</td>\n",
        "      <td> 78</td>\n",
        "      <td> False</td>\n",
        "      <td> False</td>\n",
        "      <td> 10</td>\n",
        "      <td> 0.000</td>\n",
        "      <td> 0.250</td>\n",
        "      <td> 0.000</td>\n",
        "      <td> 0.000</td>\n",
        "      <td> 0.250</td>\n",
        "      <td> 0.0</td>\n",
        "      <td> 0</td>\n",
        "      <td> 0.00</td>\n",
        "      <td> 0</td>\n",
        "      <td> 0.000</td>\n",
        "      <td> 0.0</td>\n",
        "      <td> 0.00</td>\n",
        "      <td> 0.000</td>\n",
        "      <td> 0.750</td>\n",
        "      <td> 0.750</td>\n",
        "      <td> 0.250</td>\n",
        "      <td> 0.25</td>\n",
        "      <td> 0.000</td>\n",
        "      <td> 0.750</td>\n",
        "      <td> 0.50</td>\n",
        "      <td> 0.000</td>\n",
        "    </tr>\n",
        "    <tr>\n",
        "      <th>4</th>\n",
        "      <td> False</td>\n",
        "      <td> True</td>\n",
        "      <td> 78</td>\n",
        "      <td> False</td>\n",
        "      <td> False</td>\n",
        "      <td> 14</td>\n",
        "      <td> 0.700</td>\n",
        "      <td> 2.100</td>\n",
        "      <td> 0.333</td>\n",
        "      <td> 0.700</td>\n",
        "      <td> 1.750</td>\n",
        "      <td> 0.4</td>\n",
        "      <td> 0</td>\n",
        "      <td> 0.35</td>\n",
        "      <td> 0</td>\n",
        "      <td> 0.700</td>\n",
        "      <td> 1.4</td>\n",
        "      <td> 0.50</td>\n",
        "      <td> 0.000</td>\n",
        "      <td> 0.000</td>\n",
        "      <td> 0.000</td>\n",
        "      <td> 0.350</td>\n",
        "      <td> 0.35</td>\n",
        "      <td> 0.000</td>\n",
        "      <td> 0.000</td>\n",
        "      <td> 1.40</td>\n",
        "      <td> 2.100</td>\n",
        "    </tr>\n",
        "  </tbody>\n",
        "</table>\n",
        "<p>5 rows \u00d7 27 columns</p>\n",
        "</div>"
       ],
       "metadata": {},
       "output_type": "pyout",
       "prompt_number": 193,
       "text": [
        "   Major UpperClass  Ht      C      G  MP     FG    FGA    FG%     2P    2PA  \\\n",
        "0  False       True  78  False  False   3  0.000  0.075  0.000  0.000  0.075   \n",
        "1  False       True  78  False  False  25  0.000  2.500  0.000  0.000  1.250   \n",
        "2  False       True  78  False  False  17  0.425  1.700  0.250  0.425  0.850   \n",
        "3  False       True  78  False  False  10  0.000  0.250  0.000  0.000  0.250   \n",
        "4  False       True  78  False  False  14  0.700  2.100  0.333  0.700  1.750   \n",
        "\n",
        "   2P%  3P   3PA  3P%     FT  FTA   FT%    ORB    DRB    TRB    AST   STL  \\\n",
        "0  0.0   0  0.00    0  0.000  0.0  0.00  0.000  0.000  0.000  0.000  0.00   \n",
        "1  0.0   0  1.25    0  1.875  2.5  0.75  0.625  0.625  1.250  1.875  1.25   \n",
        "2  0.5   0  0.85    0  0.850  1.7  0.50  0.425  0.000  0.425  0.850  0.00   \n",
        "3  0.0   0  0.00    0  0.000  0.0  0.00  0.000  0.750  0.750  0.250  0.25   \n",
        "4  0.4   0  0.35    0  0.700  1.4  0.50  0.000  0.000  0.000  0.350  0.35   \n",
        "\n",
        "     BLK    TOV    PF    PTS  \n",
        "0  0.000  0.000  0.00  0.000  \n",
        "1  0.625  1.875  1.25  1.875  \n",
        "2  0.000  0.000  1.70  1.700  \n",
        "3  0.000  0.750  0.50  0.000  \n",
        "4  0.000  0.000  1.40  2.100  \n",
        "\n",
        "[5 rows x 27 columns]"
       ]
      }
     ],
     "prompt_number": 193
    },
    {
     "cell_type": "code",
     "collapsed": true,
     "input": [
      "#cats_updated = ['Ht','C','G','UpperClass','2P','2PA','3PA','ORB','DRB','TRB','BLK','TOV','PF']\n",
      "\n",
      "#Run regression with all quantitative stat categories\n",
      "f_score, p_score = f_regression(per40[cats_updated].values, per40['Major'].values)\n",
      "#print 'F-score_all: ', f_score\n",
      "#print 'p-score_all: ', p_score\n",
      "\n",
      "#print all p-scores\n",
      "for i, p in enumerate(p_score):\n",
      "    print \"p-score_%s: \" % cats_updated[i], p\n",
      "\n",
      "print \" \"\n",
      "sig_c = []\n",
      "#print just significant p-scores ( < 0.05)\n",
      "for i, p in enumerate(p_score):\n",
      "    if p < 0.05:\n",
      "        sig_c.append(cats_updated[i])\n",
      "        print \"p-score_%s: \" % cats_updated[i], p\n",
      "\n",
      "print ','.join(sig_c)\n",
      "# Technically ORB moved to insignificant, but close enough to include in concert with the other features."
     ],
     "language": "python",
     "metadata": {},
     "outputs": [
      {
       "output_type": "stream",
       "stream": "stdout",
       "text": [
        "p-score_Ht:  8.0021673743e-202\n",
        "p-score_C:  0.0389841085108\n",
        "p-score_G:  1.32772077901e-17\n",
        "p-score_UpperClass:  5.64017232904e-167\n",
        "p-score_2P:  0.00350878177211\n",
        "p-score_2PA:  0.00359460127803\n",
        "p-score_3PA:  0.0418155126349\n",
        "p-score_ORB:  0.0510568548689\n",
        "p-score_DRB:  1.74096929184e-05\n",
        "p-score_TRB:  8.19646220143e-05\n",
        "p-score_BLK:  6.08991081518e-11\n",
        "p-score_TOV:  3.35192793836e-07\n",
        "p-score_PF:  3.50750580652e-10\n",
        " \n",
        "p-score_Ht:  8.0021673743e-202\n",
        "p-score_C:  0.0389841085108\n",
        "p-score_G:  1.32772077901e-17\n",
        "p-score_UpperClass:  5.64017232904e-167\n",
        "p-score_2P:  0.00350878177211\n",
        "p-score_2PA:  0.00359460127803\n",
        "p-score_3PA:  0.0418155126349\n",
        "p-score_DRB:  1.74096929184e-05\n",
        "p-score_TRB:  8.19646220143e-05\n",
        "p-score_BLK:  6.08991081518e-11\n",
        "p-score_TOV:  3.35192793836e-07\n",
        "p-score_PF:  3.50750580652e-10\n",
        "Ht,C,G,UpperClass,2P,2PA,3PA,DRB,TRB,BLK,TOV,PF\n"
       ]
      }
     ],
     "prompt_number": 196
    },
    {
     "cell_type": "code",
     "collapsed": false,
     "input": [],
     "language": "python",
     "metadata": {},
     "outputs": []
    },
    {
     "cell_type": "code",
     "collapsed": false,
     "input": [],
     "language": "python",
     "metadata": {},
     "outputs": []
    },
    {
     "cell_type": "heading",
     "level": 1,
     "metadata": {},
     "source": [
      "EXPLORE:"
     ]
    },
    {
     "cell_type": "code",
     "collapsed": false,
     "input": [
      "print tm_gm_p.groupby('Major').Ht.min()"
     ],
     "language": "python",
     "metadata": {},
     "outputs": []
    },
    {
     "cell_type": "code",
     "collapsed": false,
     "input": [
      "tm_gm_p.groupby('Major').mean()\n",
      "#check out areas where, on average, majors and mid-majors differentiate themselves"
     ],
     "language": "python",
     "metadata": {},
     "outputs": []
    },
    {
     "cell_type": "code",
     "collapsed": false,
     "input": [
      "fig,ax1 = plt.subplots(1,1)\n",
      "ax1.hist(tm_gm_p.Ht,bins=np.arange(tm_gm_p.Ht.min()-1,tm_gm_p.Ht.max()+1),color='#B8D12A', lw=0.5)\n",
      "ax1.set_title('Frequency of Height')\n",
      "ax1.set_xlabel('Height (Inches)')"
     ],
     "language": "python",
     "metadata": {},
     "outputs": []
    },
    {
     "cell_type": "code",
     "collapsed": false,
     "input": [
      "fig,ax1 = plt.subplots(1,1)\n",
      "ax1.hist(tm_gm_p[tm_gm_p.Major == False].Ht,bins=np.arange(tm_gm_p.Ht.min()-1,tm_gm_p.Ht.max()+1),color='#B8D12A', lw=0.5)\n",
      "ax1.set_title('Frequency of Height: Mid-Majors')\n",
      "ax1.set_xlabel('Height (Inches)')"
     ],
     "language": "python",
     "metadata": {},
     "outputs": []
    },
    {
     "cell_type": "code",
     "collapsed": true,
     "input": [
      "#MPL returning error for Major== True, so graphing hists with pandas\n",
      "tm_gm_p.hist('Ht', bins=tm_gm_p.Ht.max()-tm_gm_p.Ht.min())\n",
      "tm_gm_p[tm_gm_p.Major == True].hist('Ht', bins=tm_gm_p[tm_gm_p.Major == True].Ht.max()-tm_gm_p[tm_gm_p.Major == True].Ht.min())\n",
      "tm_gm_p[tm_gm_p.Major == False].hist('Ht', bins=tm_gm_p[tm_gm_p.Major == False].Ht.max()-tm_gm_p[tm_gm_p.Major == False].Ht.min())\n"
     ],
     "language": "python",
     "metadata": {},
     "outputs": []
    },
    {
     "cell_type": "code",
     "collapsed": true,
     "input": [
      "#scatter plots of height vs points for each observation, by Major/MidMajor\n",
      "\n",
      "fig, axes = plt.subplots(nrows=1, ncols=2, figsize=(10,4), tight_layout=True)\n",
      "bins = np.arange(tm_gm_p.Ht.min(),tm_gm_p.Ht.max())\n",
      "\n",
      "fig.suptitle('Mid-Major vs. Major Pts/Height Distribution', y=1.1)\n",
      "majors =  tm_gm_p.Major.unique()\n",
      "majors.sort()\n",
      "#conferences = conferences[:4]\n",
      "for ax, mj in zip(axes.ravel(), majors): # Each of 32 axes gets a conference\n",
      "    ax.scatter(tm_gm_p[tm_gm_p.Major == mj].Ht, tm_gm_p[tm_gm_p.Major == mj].PTS, lw=0, color='#B8D12A', alpha=.5)\n",
      "    \n",
      "    ax.axis([tm_gm_p['Ht'].min(),tm_gm_p['Ht'].max(),0,tm_gm_p['PTS'].max()])\n",
      "    ax.set_xlabel(\"Height (Inches)\")\n",
      "    ax.set_ylabel(\"Points\")\n",
      "    ax.annotate(\"Major = %s\" % mj, xy=(65,40),fontsize=12)    \n"
     ],
     "language": "python",
     "metadata": {},
     "outputs": []
    },
    {
     "cell_type": "code",
     "collapsed": false,
     "input": [
      "#scatter plots of height vs points for each observation, by Major/MidMajor\n",
      "\n",
      "fig, axes = plt.subplots(nrows=1, ncols=2, figsize=(10,4), tight_layout=True)\n",
      "bins = np.arange(tm_gm_p.Ht.min(),tm_gm_p.Ht.max())\n",
      "\n",
      "fig.suptitle('Mid-Major vs. Major Pts/Rebounds Distribution', y=1.1)\n",
      "majors =  tm_gm_p.Major.unique()\n",
      "majors.sort()\n",
      "#conferences = conferences[:4]\n",
      "for ax, mj in zip(axes.ravel(), majors): # Each of 32 axes gets a conference\n",
      "    ax.scatter(tm_gm_p[tm_gm_p.Major == mj].Ht, tm_gm_p[tm_gm_p.Major == mj].TRB, lw=0, color='#B8D12A', alpha=.5)\n",
      "    \n",
      "    ax.axis([tm_gm_p['Ht'].min(),tm_gm_p['Ht'].max(),0,tm_gm_p['TRB'].max()])\n",
      "    ax.set_xlabel(\"Height (Inches)\")\n",
      "    ax.set_ylabel(\"Total Rebounds\")\n",
      "    ax.annotate(\"Major = %s\" % mj, xy=(65,20),fontsize=12)    \n"
     ],
     "language": "python",
     "metadata": {},
     "outputs": []
    },
    {
     "cell_type": "heading",
     "level": 3,
     "metadata": {},
     "source": [
      "Linear Regression Classification"
     ]
    },
    {
     "cell_type": "markdown",
     "metadata": {},
     "source": [
      "Check p-scores of all stats categories vs Major:"
     ]
    },
    {
     "cell_type": "code",
     "collapsed": false,
     "input": [
      "from sklearn.feature_selection import f_regression\n",
      "from sklearn.cross_validation import train_test_split\n",
      "from sklearn.linear_model import LinearRegression\n",
      "from sklearn import metrics\n",
      "#from sklearn.metrics import mean_squared_error, mean_absolute_error"
     ],
     "language": "python",
     "metadata": {},
     "outputs": [],
     "prompt_number": 46
    },
    {
     "cell_type": "code",
     "collapsed": false,
     "input": [
      "#swoop city on the performance measure function from logreg lesson \n",
      "\n",
      "def measure_performance(X,y,clf, show_accuracy=True, show_classification_report=False, show_confusion_matrix=False):\n",
      "    y_pred=clf.predict(X)\n",
      "    ret = []\n",
      "    if show_accuracy:\n",
      "        #print \"Accuracy:{0:.3f}\".format(metrics.accuracy_score(y,y_pred)),\"\\n\"\n",
      "        ret.append(metrics.accuracy_score(y,y_pred))\n",
      "\n",
      "    if show_classification_report:\n",
      "        print \"Classification report\"\n",
      "        print metrics.classification_report(y,y_pred),\"\\n\"\n",
      "        \n",
      "    if show_confusion_matrix:\n",
      "        #print \"Confusion matrix\"\n",
      "        ret.append(metrics.confusion_matrix(y,y_pred))\n",
      "    return ret"
     ],
     "language": "python",
     "metadata": {},
     "outputs": [],
     "prompt_number": 215
    },
    {
     "cell_type": "code",
     "collapsed": false,
     "input": [
      "cols"
     ],
     "language": "python",
     "metadata": {},
     "outputs": []
    },
    {
     "cell_type": "code",
     "collapsed": true,
     "input": [
      "#Run regression for each stat individually\n",
      "cols = tm_gm_p.columns\n",
      "cols_omit = ['Team', 'Player', 'Position', 'Conference', 'GameDate', 'Major']"
     ],
     "language": "python",
     "metadata": {},
     "outputs": [],
     "prompt_number": 134
    },
    {
     "cell_type": "code",
     "collapsed": false,
     "input": [
      "for c in cols:\n",
      "    if c not in cols_omit:\n",
      "        f_score, p_score = f_regression(tm_gm_p[[c]].values, tm_gm_p['Major'].values)\n",
      "        #all5_age_f, all5_age_p= f_regression(r_train[['first_class', 'second_class', 'third_class','sex','fare']].values, r_train['age'].values)\n",
      "        print 'F-score_%s: ' % c, f_score\n",
      "        print 'p-score_%s: ' % c, p_score\n",
      "        print \" \""
     ],
     "language": "python",
     "metadata": {},
     "outputs": [
      {
       "output_type": "stream",
       "stream": "stdout",
       "text": [
        "F-score_Ht:  [ 923.50685387]\n",
        "p-score_Ht:  [  8.00216737e-202]\n",
        " \n",
        "F-score_C:  [ 4.26168412]\n",
        "p-score_C:  [ 0.03898411]\n",
        " \n",
        "F-score_G:  [ 72.9829356]\n",
        "p-score_G:  [  1.32772078e-17]\n",
        " \n",
        "F-score_F:  [ 1.50056439]\n",
        "p-score_F:  [ 0.22058774]\n",
        " \n",
        "F-score_SR:  [ 467.9095206]\n",
        "p-score_SR:  [  1.67615905e-103]\n",
        " \n",
        "F-score_FR:  [ 265.01671451]\n",
        "p-score_FR:  [  1.68270057e-59]\n",
        " \n",
        "F-score_SO:  [ 258.75353356]\n",
        "p-score_SO:  [  3.86583425e-58]\n",
        " \n",
        "F-score_GR:  [ 168.57283961]\n",
        "p-score_GR:  [  1.64222454e-38]\n",
        " \n",
        "F-score_JR:  [ 147.75083377]\n",
        "p-score_JR:  [  5.71728043e-34]\n",
        " \n",
        "F-score_MP:  [ 0.30336352]\n",
        "p-score_MP:  [ 0.5817828]\n",
        " \n",
        "F-score_FG:  [ 2.53462694]\n",
        "p-score_FG:  [ 0.11137671]\n",
        " \n",
        "F-score_FGA:  [ 0.43925029]\n",
        "p-score_FGA:  [ 0.50748622]\n",
        " \n",
        "F-score_FG%:  [ 0.35720756]\n",
        "p-score_FG%:  [ 0.55006269]\n",
        " \n",
        "F-score_2P: "
       ]
      },
      {
       "output_type": "stream",
       "stream": "stdout",
       "text": [
        " [ 8.00912515]\n",
        "p-score_2P:  [ 0.00465525]\n",
        " \n",
        "F-score_2PA:  [ 6.33800462]\n",
        "p-score_2PA:  [ 0.01181949]\n",
        " \n",
        "F-score_2P%:  [ 0.99715213]\n",
        "p-score_2P%:  [ 0.31800327]\n",
        " \n",
        "F-score_3P:  [ 3.11851905]\n",
        "p-score_3P:  [ 0.07741049]\n",
        " \n",
        "F-score_3PA:  [ 6.0426943]\n",
        "p-score_3PA:  [ 0.01396582]\n",
        " \n",
        "F-score_3P%:  [ 0.11148334]\n",
        "p-score_3P%:  [ 0.73846243]\n",
        " \n",
        "F-score_FT:  [ 3.16646351]\n",
        "p-score_FT:  [ 0.0751684]\n",
        " \n",
        "F-score_FTA:  [ 2.2653562]\n",
        "p-score_FTA:  [ 0.13229929]\n",
        " \n",
        "F-score_FT%:  [ 1.40125286]\n",
        "p-score_FT%:  [ 0.23651703]\n",
        " \n",
        "F-score_ORB:  [ 6.49568025]\n",
        "p-score_ORB:  [ 0.01081533]\n",
        " \n",
        "F-score_DRB:  [ 20.20010634]\n",
        "p-score_DRB:  [  6.98356177e-06]\n",
        " \n",
        "F-score_TRB:  [ 19.6562068]\n",
        "p-score_TRB:  [  9.28108945e-06]\n",
        " \n",
        "F-score_AST:  [ 3.61217109]\n",
        "p-score_AST:  [ 0.05736138]\n",
        " \n",
        "F-score_STL:  [ 2.16626851]\n",
        "p-score_STL:  [ 0.14107166]\n",
        " \n",
        "F-score_BLK: "
       ]
      },
      {
       "output_type": "stream",
       "stream": "stdout",
       "text": [
        " [ 53.43906726]\n",
        "p-score_BLK:  [  2.68936020e-13]\n",
        " \n",
        "F-score_TOV:  [ 61.4261047]\n",
        "p-score_TOV:  [  4.64660435e-15]\n",
        " \n",
        "F-score_PF:  [ 75.74859681]\n",
        "p-score_PF:  [  3.27476036e-18]\n",
        " \n",
        "F-score_PTS:  [ 2.09369363]\n",
        "p-score_PTS:  [ 0.14791156]\n",
        " \n"
       ]
      }
     ],
     "prompt_number": 49
    },
    {
     "cell_type": "code",
     "collapsed": true,
     "input": [
      "cols_graph = []\n",
      "for c in cols:\n",
      "    if c not in cols_omit:\n",
      "        cols_graph.append(c)"
     ],
     "language": "python",
     "metadata": {},
     "outputs": [],
     "prompt_number": 135
    },
    {
     "cell_type": "code",
     "collapsed": false,
     "input": [
      "#Run regression with all quantitative stat categories\n",
      "f_score, p_score = f_regression(tm_gm_p[['Ht','C','G','F','SR','FR','SO','GR','JR','UpperClass', 'MP','FG','FGA','FG%','2P','2PA','2P%','3P','3PA','3P%','FT','FTA','FT%','ORB','DRB','TRB','AST','STL','BLK','TOV','PF','PTS']].values, tm_gm_p['Major'].values)\n",
      "#print 'F-score_all: ', f_score\n",
      "#print 'p-score_all: ', p_score\n",
      "\n",
      "#print all p-scores\n",
      "for i, p in enumerate(p_score):\n",
      "    print \"p-score_%s: \" % cols_graph[i], p\n",
      "\n",
      "print \" \"\n",
      "sig_c = []\n",
      "#print just significant p-scores ( < 0.05)\n",
      "for i, p in enumerate(p_score):\n",
      "    if p < 0.05:\n",
      "        sig_c.append(cols_graph[i])\n",
      "        print \"p-score_%s: \" % cols_graph[i], p\n",
      "\n",
      "print ','.join(sig_c)"
     ],
     "language": "python",
     "metadata": {},
     "outputs": [
      {
       "output_type": "stream",
       "stream": "stdout",
       "text": [
        "p-score_Ht:  8.0021673743e-202\n",
        "p-score_C:  0.0389841085108\n",
        "p-score_G:  1.32772077901e-17\n",
        "p-score_F:  0.220587739737\n",
        "p-score_SR:  1.67615904588e-103\n",
        "p-score_FR:  1.68270057482e-59\n",
        "p-score_SO:  3.86583424742e-58\n",
        "p-score_GR:  1.64222454388e-38\n",
        "p-score_JR:  5.71728042621e-34\n",
        "p-score_MP:  5.64017232904e-167\n",
        "p-score_FG:  0.581782804958\n",
        "p-score_FGA:  0.111376709686\n",
        "p-score_FG%:  0.507486222708\n",
        "p-score_2P:  0.550062690556\n",
        "p-score_2PA:  0.00465524932617\n",
        "p-score_2P%:  0.0118194922258\n",
        "p-score_3P:  0.318003269095\n",
        "p-score_3PA:  0.0774104857323\n",
        "p-score_3P%:  0.0139658224418\n",
        "p-score_FT:  0.738462433675\n",
        "p-score_FTA:  0.075168403734\n",
        "p-score_FT%:  0.132299291331\n",
        "p-score_ORB:  0.236517032591\n",
        "p-score_DRB:  0.0108153322106\n",
        "p-score_TRB:  6.98356176681e-06\n",
        "p-score_AST:  9.28108945336e-06\n",
        "p-score_STL:  0.0573613771277\n",
        "p-score_BLK:  0.141071657189\n",
        "p-score_TOV:  2.68936019889e-13\n",
        "p-score_PF:  4.64660434768e-15\n",
        "p-score_PTS:  3.27476035734e-18\n",
        "p-score_UpperClass:  0.147911562594\n",
        " \n",
        "p-score_Ht:  8.0021673743e-202\n",
        "p-score_C:  0.0389841085108\n",
        "p-score_G:  1.32772077901e-17\n",
        "p-score_SR:  1.67615904588e-103\n",
        "p-score_FR:  1.68270057482e-59\n",
        "p-score_SO:  3.86583424742e-58\n",
        "p-score_GR:  1.64222454388e-38\n",
        "p-score_JR:  5.71728042621e-34\n",
        "p-score_MP:  5.64017232904e-167\n",
        "p-score_2PA:  0.00465524932617\n",
        "p-score_2P%:  0.0118194922258\n",
        "p-score_3P%:  0.0139658224418\n",
        "p-score_DRB:  0.0108153322106\n",
        "p-score_TRB:  6.98356176681e-06\n",
        "p-score_AST:  9.28108945336e-06\n",
        "p-score_TOV:  2.68936019889e-13\n",
        "p-score_PF:  4.64660434768e-15\n",
        "p-score_PTS:  3.27476035734e-18\n",
        "Ht,C,G,SR,FR,SO,GR,JR,MP,2PA,2P%,3P%,DRB,TRB,AST,TOV,PF,PTS\n"
       ]
      }
     ],
     "prompt_number": 136
    },
    {
     "cell_type": "code",
     "collapsed": false,
     "input": [
      "#Run Regression with just those categories with significant p-scores\n",
      "f_score, p_score = f_regression(tm_gm_p[['Ht','C','G','SR','FR','SO','GR','JR','2P','2PA','3PA','ORB','DRB','TRB','BLK','TOV','PF']].values, tm_gm_p['Major'].values)\n",
      "\n",
      "#print all p-scores\n",
      "for i, p in enumerate(p_score):\n",
      "    print \"p-score_%s: \" % cols_graph[i], p"
     ],
     "language": "python",
     "metadata": {},
     "outputs": [
      {
       "output_type": "stream",
       "stream": "stdout",
       "text": [
        "p-score_Ht:  8.0021673743e-202\n",
        "p-score_C:  0.0389841085108\n",
        "p-score_G:  1.32772077901e-17\n",
        "p-score_F:  1.67615904588e-103\n",
        "p-score_SR:  1.68270057482e-59\n",
        "p-score_FR:  3.86583424742e-58\n",
        "p-score_SO:  1.64222454388e-38\n",
        "p-score_GR:  5.71728042621e-34\n",
        "p-score_JR:  0.00465524932617\n",
        "p-score_MP:  0.0118194922258\n",
        "p-score_FG:  0.0139658224418\n",
        "p-score_FGA:  0.0108153322106\n",
        "p-score_FG%:  6.98356176681e-06\n",
        "p-score_2P:  9.28108945336e-06\n",
        "p-score_2PA:  2.68936019889e-13\n",
        "p-score_2P%:  4.64660434768e-15\n",
        "p-score_3P:  3.27476035736e-18\n"
       ]
      }
     ],
     "prompt_number": 52
    },
    {
     "cell_type": "code",
     "collapsed": true,
     "input": [
      "X_train, X_test, y_train, y_test = train_test_split(tm_gm_p[['Ht','C','G','SR','FR','SO','GR','JR','2P','2PA','3PA','ORB','DRB','TRB','BLK','TOV','PF']].values, tm_gm_p['Major'].values, test_size=0.25)\n",
      "print len(X_train)\n",
      "print len(X_test)\n",
      "print len(y_train)\n",
      "print len(y_test)"
     ],
     "language": "python",
     "metadata": {},
     "outputs": [
      {
       "output_type": "stream",
       "stream": "stdout",
       "text": [
        "67680\n",
        "22560\n",
        "67680\n",
        "22560\n"
       ]
      }
     ],
     "prompt_number": 53
    },
    {
     "cell_type": "code",
     "collapsed": false,
     "input": [
      "linfit = LinearRegression()\n",
      "linfit.fit(X_train, y_train)\n",
      "score = linfit.score(X_train, y_train)\n",
      "print \"Intercept: \",linfit.intercept_\n",
      "print \"R^2: \", round(score, 4)\n",
      "\n",
      "for i, coef in enumerate(linfit.coef_):\n",
      "    print sig_c[i],\": \",coef\n",
      "\n",
      "# R^2 is \"not great\".\n",
      "\n",
      "#NOTES ABOUT BELOW COEFFICIENTS:\n",
      "#Positive Ht Coefficient makes sense (more height => better chance of Major = True)\n",
      "    #because Major Conference have a mean height of 1\" more than Mid-Majors\n",
      "#Same as above for other 'positive' categories (ORB, DRB) but weirdly not for TRB (which is ORB+DRB)\n",
      "    #and negative coefficients for 'negative' categories (PF, TOV)"
     ],
     "language": "python",
     "metadata": {},
     "outputs": [
      {
       "output_type": "stream",
       "stream": "stdout",
       "text": [
        "Intercept:  70045404817.2\n",
        "R^2:  0.0314\n",
        "Ht :  0.0248745755152\n",
        "C :  -0.0629281116344\n",
        "G :  0.0817056779163\n",
        "SR :  -70045404818.9\n",
        "FR :  -70045404818.8\n",
        "SO :  -70045404818.9\n",
        "GR :  -70045404818.7\n",
        "JR :  -70045404818.9\n",
        "2P :  -0.00109551879966\n",
        "2PA :  0.00500637926237\n",
        "3PA :  0.00374589571857\n",
        "ORB :  0.0582646702634\n",
        "DRB :  0.0651572805383\n",
        "TRB :  -0.0636261118363\n",
        "BLK :  0.00224190510465\n",
        "TOV :  -0.0051668165643\n",
        "PF :  -0.010636830046\n"
       ]
      }
     ],
     "prompt_number": 54
    },
    {
     "cell_type": "code",
     "collapsed": false,
     "input": [
      "y_train_predict = linfit.predict(X_train)\n",
      "y_predict = []\n",
      "for y in y_train_predict:\n",
      "    y_predict.append((y >=0.5))\n",
      "\n",
      "#print y_predict\n",
      "\n",
      "print \"Accuracy:{0:.3f}\".format(metrics.accuracy_score(y_train,y_predict))\n",
      "#This is the same issue I had with the BadBuy classifier:\n",
      "#  All but 90 are being assigned False and the accuracy ~= the % of observations that are True  (see below DF)"
     ],
     "language": "python",
     "metadata": {},
     "outputs": [
      {
       "output_type": "stream",
       "stream": "stdout",
       "text": [
        "Accuracy:0.782\n"
       ]
      }
     ],
     "prompt_number": 55
    },
    {
     "cell_type": "code",
     "collapsed": true,
     "input": [
      "df = pd.DataFrame(y_predict)\n",
      "#df.rename(columns={0:'Major_Pred'}, inplace=True)\n",
      "#df[df[0]].describe()\n",
      "df.describe()"
     ],
     "language": "python",
     "metadata": {},
     "outputs": [
      {
       "html": [
        "<div style=\"max-height:1000px;max-width:1500px;overflow:auto;\">\n",
        "<table border=\"1\" class=\"dataframe\">\n",
        "  <thead>\n",
        "    <tr style=\"text-align: right;\">\n",
        "      <th></th>\n",
        "      <th>0</th>\n",
        "    </tr>\n",
        "  </thead>\n",
        "  <tbody>\n",
        "    <tr>\n",
        "      <th>count</th>\n",
        "      <td>        67680</td>\n",
        "    </tr>\n",
        "    <tr>\n",
        "      <th>mean</th>\n",
        "      <td> 0.0009751773</td>\n",
        "    </tr>\n",
        "    <tr>\n",
        "      <th>std</th>\n",
        "      <td>   0.03121283</td>\n",
        "    </tr>\n",
        "    <tr>\n",
        "      <th>min</th>\n",
        "      <td>        False</td>\n",
        "    </tr>\n",
        "    <tr>\n",
        "      <th>25%</th>\n",
        "      <td>            0</td>\n",
        "    </tr>\n",
        "    <tr>\n",
        "      <th>50%</th>\n",
        "      <td>            0</td>\n",
        "    </tr>\n",
        "    <tr>\n",
        "      <th>75%</th>\n",
        "      <td>            0</td>\n",
        "    </tr>\n",
        "    <tr>\n",
        "      <th>max</th>\n",
        "      <td>         True</td>\n",
        "    </tr>\n",
        "  </tbody>\n",
        "</table>\n",
        "<p>8 rows \u00d7 1 columns</p>\n",
        "</div>"
       ],
       "metadata": {},
       "output_type": "pyout",
       "prompt_number": 56,
       "text": [
        "                  0\n",
        "count         67680\n",
        "mean   0.0009751773\n",
        "std      0.03121283\n",
        "min           False\n",
        "25%               0\n",
        "50%               0\n",
        "75%               0\n",
        "max            True\n",
        "\n",
        "[8 rows x 1 columns]"
       ]
      }
     ],
     "prompt_number": 56
    },
    {
     "cell_type": "raw",
     "metadata": {},
     "source": [
      "Try lin reg again AFTER changing:\n",
      "-Use threshold for MP (10) -- DONE\n",
      "-Transform classYear groupings into Boolean UpperClassman field\n",
      "-Transform all stat categories to Per40 (40min/game)"
     ]
    },
    {
     "cell_type": "code",
     "collapsed": false,
     "input": [
      "tm_gm_p[tm_gm_p.MP >= 10].groupby('Major').Player.count()"
     ],
     "language": "python",
     "metadata": {},
     "outputs": [
      {
       "metadata": {},
       "output_type": "pyout",
       "prompt_number": 57,
       "text": [
        "Major\n",
        "False    54271\n",
        "True     14944\n",
        "dtype: int64"
       ]
      }
     ],
     "prompt_number": 57
    },
    {
     "cell_type": "code",
     "collapsed": false,
     "input": [
      "cats = ['Ht','C','G','SR','FR','SO','GR','JR','2P','2PA','3PA','ORB','DRB','TRB','BLK','TOV','PF']\n",
      "X_train_minLimit, X_test_minLimit, y_train_minLimit, y_test_minLimit = train_test_split(tm_gm_p[tm_gm_p.MP >= 10][cats].values, tm_gm_p[tm_gm_p.MP >= 10]['Major'].values, test_size=0.25)\n",
      "print len(X_train_minLimit)\n",
      "print len(X_test_minLimit)\n",
      "print len(y_train_minLimit)\n",
      "print len(y_test_minLimit)\n",
      "\n",
      "linfit_minLimit = LinearRegression()\n",
      "linfit_minLimit.fit(X_train_minLimit, y_train_minLimit)\n",
      "score = linfit_minLimit.score(X_train_minLimit, y_train_minLimit)\n",
      "print \"Intercept: \",linfit_minLimit.intercept_\n",
      "print \"R^2: \", round(score, 4)\n",
      "\n",
      "for i, coef in enumerate(linfit_minLimit.coef_):\n",
      "    print cats[i],\": \",coef\n",
      "\n",
      "# R^2 is improved (low-minute players are likely fringe-roster guys who could be on either kind of team\n",
      "\n",
      "#NOTES ABOUT BELOW COEFFICIENTS:\n",
      "#Positive Ht Coefficient makes sense (more height => better chance of Major = True)\n",
      "    #because Major Conference have a mean height of 1\" more than Mid-Majors\n",
      "#Same as above for other 'positive' categories (ORB, DRB) but weirdly not for TRB (which is ORB+DRB)\n",
      "    #and negative coefficients for 'negative' categories (PF, TOV)"
     ],
     "language": "python",
     "metadata": {},
     "outputs": []
    },
    {
     "cell_type": "code",
     "collapsed": false,
     "input": [
      "y_train_predict_minLimit = linfit_minLimit.predict(X_train_minLimit)\n",
      "y_predict_minLimit = []\n",
      "for y in y_train_predict_minLimit:\n",
      "    y_predict_minLimit.append((y >=0.5))\n",
      "\n",
      "#print y_predict\n",
      "\n",
      "print \"Accuracy:{0:.3f}\".format(metrics.accuracy_score(y_train_minLimit,y_predict_minLimit))\n",
      "#This is the same issue I had with the BadBuy classifier:\n",
      "#  All but ~90 are being assigned False and the accuracy ~= the % of observations that are True \n",
      "#Need to find more categories that distinguish players in Major Conferences "
     ],
     "language": "python",
     "metadata": {},
     "outputs": [
      {
       "output_type": "stream",
       "stream": "stdout",
       "text": [
        "Accuracy:0.784\n"
       ]
      }
     ],
     "prompt_number": 59
    },
    {
     "cell_type": "heading",
     "level": 3,
     "metadata": {},
     "source": [
      "Decision Tree Classification"
     ]
    },
    {
     "cell_type": "code",
     "collapsed": false,
     "input": [
      "from sklearn import tree\n",
      "from sklearn.ensemble import RandomForestClassifier\n",
      "\n",
      "from sklearn.cross_validation import cross_val_score, LeaveOneOut, KFold\n",
      "from sklearn import metrics\n",
      "from scipy.stats import sem"
     ],
     "language": "python",
     "metadata": {},
     "outputs": [],
     "prompt_number": 66
    },
    {
     "cell_type": "code",
     "collapsed": false,
     "input": [
      "#swoop city, again, on validation\n",
      "#not using it, too costly.\n",
      "# using kfolds instead\n",
      "    \n",
      "def kfold_cv(X_train,y_train,clf,n=3):\n",
      "    kfold = KFold(X_train[:].shape[0],n_folds=n)\n",
      "    scores=np.zeros(X_train[:].shape[0])\n",
      "    for train_index,test_index in kfold:\n",
      "        X_train_cv, X_test_cv= X_train[train_index], X_train[test_index]\n",
      "        y_train_cv, y_test_cv= y_train[train_index], y_train[test_index]\n",
      "        clf = clf.fit(X_train_cv,y_train_cv)\n",
      "        y_pred=clf.predict(X_test_cv)\n",
      "        scores[test_index]=metrics.accuracy_score(y_test_cv.astype(int), y_pred.astype(int))\n",
      "    print (\"Mean score: {0:.3f} (+/-{1:.3f})\").format(np.mean(scores), sem(scores))"
     ],
     "language": "python",
     "metadata": {},
     "outputs": [],
     "prompt_number": 72
    },
    {
     "cell_type": "heading",
     "level": 4,
     "metadata": {},
     "source": [
      "Find best performing max_depth and min_samples_leaf"
     ]
    },
    {
     "cell_type": "code",
     "collapsed": true,
     "input": [
      "depth = arange(5,32)\n",
      "#leaves = arange(5,51,5)\n",
      "leaves = [5]\n",
      "trees = []\n",
      "acc = []\n",
      "for d in depth:\n",
      "    for l in leaves:\n",
      "        tree_clf = tree.DecisionTreeClassifier(criterion='gini', max_depth=d, min_samples_leaf=l)\n",
      "        tree_fit = tree_clf.fit(X_train_minLimit, y_train_minLimit)\n",
      "        print \"%i Deep and %i Leaves:\" % (d, l)\n",
      "        print measure_performance(X_train_minLimit, y_train_minLimit, tree_fit)\n",
      "        trees.append(\"%i Deep and %i Leaves:\" % (d, l))\n",
      "        acc.append(measure_performance(X_train_minLimit, y_train_minLimit, tree_fit))\n",
      "        \n",
      "df_acc = pd.DataFrame(acc)\n",
      "print \" \"\n",
      "print \"Best Tree: %s\" % trees[df_acc[df_acc[0] ==df_acc[0].max()].index[0]]"
     ],
     "language": "python",
     "metadata": {},
     "outputs": []
    },
    {
     "cell_type": "code",
     "collapsed": false,
     "input": [
      "# As seen above, 5 leaves is consistently the best accuracy for a given depth\n",
      "# So, graph accuracies by depth \n",
      "the_depths = []\n",
      "\n",
      "for t in trees:\n",
      "    if \" and 5 Leaves:\" in t:\n",
      "        the_depths.append(int(t[:2]))"
     ],
     "language": "python",
     "metadata": {},
     "outputs": []
    },
    {
     "cell_type": "code",
     "collapsed": false,
     "input": [
      "plt.plot(the_depths,acc)\n",
      "# I'm choosing depth = 25, since that is where the plot really flats out"
     ],
     "language": "python",
     "metadata": {},
     "outputs": []
    },
    {
     "cell_type": "code",
     "collapsed": false,
     "input": [
      "tree_clf = tree.DecisionTreeClassifier(criterion='gini', max_depth=25, min_samples_leaf=5)\n",
      "tree_fit = tree_clf.fit(X_train_minLimit, y_train_minLimit)\n",
      "\n",
      "print \"Training: \",measure_performance(X_train_minLimit, y_train_minLimit, tree_fit)"
     ],
     "language": "python",
     "metadata": {},
     "outputs": [
      {
       "output_type": "stream",
       "stream": "stdout",
       "text": [
        "Training:  [0.86305407331779393]\n"
       ]
      }
     ],
     "prompt_number": 223
    },
    {
     "cell_type": "code",
     "collapsed": false,
     "input": [
      "print \"Test: \",measure_performance(X_test_minLimit, y_test_minLimit, tree_fit)"
     ],
     "language": "python",
     "metadata": {},
     "outputs": [
      {
       "output_type": "stream",
       "stream": "stdout",
       "text": [
        "Test:  0.746648173833\n"
       ]
      }
     ],
     "prompt_number": 76
    },
    {
     "cell_type": "code",
     "collapsed": false,
     "input": [
      "fig = plt.figure()\n",
      "fig.set_figwidth(10)\n",
      "fig.suptitle('AUC for Decision Tree Classifier Based Only 10 MP Threshold')\n",
      "\n",
      "fpr, tpr, thresholds = metrics.roc_curve(y_train_minLimit,tree_clf.predict(X_train_minLimit))\n",
      "ax2 = plt.subplot(1, 1,1)\n",
      "ax2.set_xlabel('false positive rate')\n",
      "ax2.set_ylabel('true positive rate')\n",
      "ax2.plot(fpr, tpr)\n",
      "\n",
      "\n",
      "print \"False-positive rate:\", fpr\n",
      "print \"True-positive rate: \", tpr\n",
      "print \"Thresholds:         \", thresholds\n",
      "\n",
      "print fig"
     ],
     "language": "python",
     "metadata": {},
     "outputs": [
      {
       "output_type": "stream",
       "stream": "stdout",
       "text": [
        "False-positive rate: [ 0.          0.05019893  1.        ]\n",
        "True-positive rate:  [ 0.          0.54748504  1.        ]\n",
        "Thresholds:          [2 1 0]\n",
        "Figure(800x320)\n"
       ]
      },
      {
       "metadata": {},
       "output_type": "display_data",
       "png": "[encoded data removed]",
       "text": [
        "<matplotlib.figure.Figure at 0x22a8fd10>"
       ]
      }
     ],
     "prompt_number": 225
    },
    {
     "cell_type": "code",
     "collapsed": false,
     "input": [
      "kfold_cv(X_train_minLimit, y_train_minLimit, tree_clf,10)\n",
      "kfold_cv(X_test_minLimit, y_test_minLimit, tree_clf,10)"
     ],
     "language": "python",
     "metadata": {},
     "outputs": [
      {
       "output_type": "stream",
       "stream": "stdout",
       "text": [
        "Mean score: 0.748 (+/-0.000)\n",
        "Mean score: 0.739 (+/-0.000)"
       ]
      },
      {
       "output_type": "stream",
       "stream": "stdout",
       "text": [
        "\n"
       ]
      }
     ],
     "prompt_number": 94
    },
    {
     "cell_type": "code",
     "collapsed": false,
     "input": [
      "rf_clf = RandomForestClassifier(n_estimators=75,random_state=102317)\n",
      "rf_fit = rf_clf.fit(X_train_minLimit, y_train_minLimit)\n",
      "kfold_cv(X_train_minLimit, y_train_minLimit,rf_clf)\n",
      "kfold_cv(X_test_minLimit, y_test_minLimit,rf_clf)"
     ],
     "language": "python",
     "metadata": {},
     "outputs": [
      {
       "output_type": "stream",
       "stream": "stdout",
       "text": [
        "Mean score: 0.788 (+/-0.000)\n",
        "Mean score: 0.784 (+/-0.000)"
       ]
      },
      {
       "output_type": "stream",
       "stream": "stdout",
       "text": [
        "\n"
       ]
      }
     ],
     "prompt_number": 95
    },
    {
     "cell_type": "heading",
     "level": 3,
     "metadata": {},
     "source": [
      "NB Classification"
     ]
    },
    {
     "cell_type": "code",
     "collapsed": false,
     "input": [
      "from sklearn.naive_bayes import MultinomialNB"
     ],
     "language": "python",
     "metadata": {},
     "outputs": [],
     "prompt_number": 90
    },
    {
     "cell_type": "code",
     "collapsed": false,
     "input": [
      "#Regular sets including all players\n",
      "nb_clf = MultinomialNB()\n",
      "nb_fit = nb_clf.fit(X_train, y_train)\n",
      "print \"Training Accuracy: \", nb_fit.score(X_train, y_train)\n",
      "print \"Test Accuracy: \", nb_fit.score(X_test, y_test)"
     ],
     "language": "python",
     "metadata": {},
     "outputs": [
      {
       "output_type": "stream",
       "stream": "stdout",
       "text": [
        "Training Accuracy:  "
       ]
      },
      {
       "output_type": "stream",
       "stream": "stdout",
       "text": [
        "0.781973995272\n",
        "Test Accuracy:  "
       ]
      },
      {
       "output_type": "stream",
       "stream": "stdout",
       "text": [
        "0.782446808511\n"
       ]
      }
     ],
     "prompt_number": 97
    },
    {
     "cell_type": "code",
     "collapsed": false,
     "input": [
      "#Sets enforcing a threshold of 10 MP\n",
      "nb_clf = MultinomialNB()\n",
      "nb_fit = nb_clf.fit(X_train_minLimit, y_train_minLimit)\n",
      "print \"Training Accuracy: \", nb_fit.score(X_train_minLimit, y_train_minLimit)\n",
      "print \"Test Accuracy: \", nb_fit.score(X_test_minLimit, y_test_minLimit)"
     ],
     "language": "python",
     "metadata": {},
     "outputs": [
      {
       "output_type": "stream",
       "stream": "stdout",
       "text": [
        "Training Accuracy:  "
       ]
      },
      {
       "output_type": "stream",
       "stream": "stdout",
       "text": [
        "0.782801333051\n",
        "Test Accuracy:  0.780513176144\n"
       ]
      }
     ],
     "prompt_number": 96
    },
    {
     "cell_type": "heading",
     "level": 3,
     "metadata": {},
     "source": [
      "Logistic Regression Classification"
     ]
    },
    {
     "cell_type": "code",
     "collapsed": false,
     "input": [
      "from sklearn import linear_model"
     ],
     "language": "python",
     "metadata": {},
     "outputs": [],
     "prompt_number": 98
    },
    {
     "cell_type": "code",
     "collapsed": false,
     "input": [
      "log_clf = linear_model.LogisticRegression()\n",
      "log_fit = log_clf.fit(X_train_minLimit, y_train_minLimit)\n",
      "\n",
      "print \"Training Accuracy: \", log_fit.score(X_train_minLimit, y_train_minLimit)\n",
      "print \"Test Accuracy: \", log_fit.score(X_test_minLimit, y_test_minLimit)"
     ],
     "language": "python",
     "metadata": {},
     "outputs": [
      {
       "output_type": "stream",
       "stream": "stdout",
       "text": [
        " Training Accuracy:  "
       ]
      },
      {
       "output_type": "stream",
       "stream": "stdout",
       "text": [
        "0.784111267361\n",
        "Test Accuracy:  0.782651410079\n"
       ]
      }
     ],
     "prompt_number": 100
    },
    {
     "cell_type": "code",
     "collapsed": false,
     "input": [
      "## PLOT JUST THE TEST SET WITH TRAINING BOUNDARIES\n",
      "h = .01 # step size in the mesh for visualizing\n",
      "\n",
      "## PLOT JUST THE TRAINING SET\n",
      "def makeplot_train(classifier):\n",
      "        # Plot the decision boundary. For that, we will assign a color to each\n",
      "        # point in the mesh [x_min, m_max]x[y_min, y_max].\n",
      "    #Using only the training data\n",
      "    x_min, x_max = X_train[:, 0].min() - .5, X_train[:, 0].max() + .5\n",
      "    y_min, y_max = X_train[:, 1].min() - .5, X_train[:, 1].max() + .5\n",
      "    \n",
      "    # Create a meshgrid -- see what happens when h is smaller...\n",
      "    xx, yy = np.meshgrid(np.arange(x_min, x_max, h), np.arange(y_min, y_max, h))\n",
      "    \n",
      "    # Use classifier predictions for our point color\n",
      "    Z = classifier.predict(np.c_[xx.ravel(), yy.ravel()])\n",
      "   \n",
      "    # Put the result into a color plot for our background \n",
      "    Z = Z.reshape(xx.shape)\n",
      "    pl.figure(1, figsize=(15, 11))\n",
      "    pl.pcolormesh(xx, yy, Z, cmap=pl.cm.Paired)\n",
      "    \n",
      "\n",
      "   \n",
      "    \n",
      "    # Plot the TRAINING points\n",
      "    pl.scatter(X_train[:, 0], X_train[:, 1], c=Y_train, edgecolors='k', s=100  , cmap=pl.cm.Paired)\n",
      "    pl.xlabel('Sepal length')\n",
      "    pl.ylabel('Sepal width')\n",
      "    \n",
      "     # Plot the TESTING points\n",
      "   # pl.scatter(X_test[:, 0], X_test[:, 1], c=Y_test, edgecolors='y', marker='v' ,s=100 ,cmap=pl.cm.Paired)\n",
      "    #pl.xlabel('Sepal length')\n",
      "   # pl.ylabel('Sepal width')\n",
      "\n",
      "    pl.xlim(xx.min(), xx.max())\n",
      "    pl.ylim(yy.min(), yy.max())\n",
      "    pl.xticks(())\n",
      "    pl.yticks(())\n",
      "    pl.title(classifier.__module__)\n",
      "    pl.size(5)\n",
      "\n",
      "    pl.show()\n",
      "    \n",
      "    \n",
      "def makeplot_test(classifier):\n",
      "        # Plot the decision boundary. For that, we will assign a color to each\n",
      "        # point in the mesh [x_min, m_max]x[y_min, y_max].\n",
      "    #Using only the training data\n",
      "    x_min, x_max = X_train[:, 0].min() - .5, X_train[:, 0].max() + .5\n",
      "    y_min, y_max = X_train[:, 1].min() - .5, X_train[:, 1].max() + .5\n",
      "    xx, yy = np.meshgrid(np.arange(x_min, x_max, h), np.arange(y_min, y_max, h))\n",
      "    Z = classifier.predict(np.c_[xx.ravel(), yy.ravel()])\n",
      "   \n",
      "    # Put the result into a color plot\n",
      "    Z = Z.reshape(xx.shape)\n",
      "    pl.figure(1, figsize=(15, 11))\n",
      "    pl.pcolormesh(xx, yy, Z, cmap=pl.cm.Paired)\n",
      "\n",
      "   \n",
      "    \n",
      "    # Plot the TRAINING points\n",
      "   # pl.scatter(X_train[:, 0], X_train[:, 1], c=Y_train, edgecolors='k', s=100  , cmap=pl.cm.Paired)\n",
      "    #pl.xlabel('Sepal length')\n",
      "    #pl.ylabel('Sepal width')\n",
      "    \n",
      "    #Plot the TESTING points\n",
      "    pl.scatter(X_test[:, 0], X_test[:, 1], c=Y_test, edgecolors='k', marker='v' ,s=100 ,cmap=pl.cm.Paired)\n",
      "    pl.xlabel('Sepal length')\n",
      "    pl.ylabel('Sepal width')\n",
      "\n",
      "    pl.xlim(xx.min(), xx.max())\n",
      "    pl.ylim(yy.min(), yy.max())\n",
      "    pl.xticks(())\n",
      "    pl.yticks(())\n",
      "    pl.title(classifier.__module__)\n",
      "    pl.size(5)\n",
      "\n",
      "    pl.show()"
     ],
     "language": "python",
     "metadata": {},
     "outputs": [],
     "prompt_number": 104
    },
    {
     "cell_type": "code",
     "collapsed": true,
     "input": [
      "makeplot_train(log_fit)"
     ],
     "language": "python",
     "metadata": {},
     "outputs": [
      {
       "ename": "ValueError",
       "evalue": "X has 2 features per sample; expecting 17",
       "output_type": "pyerr",
       "traceback": [
        "\u001b[1;31m---------------------------------------------------------------------------\u001b[0m\n\u001b[1;31mValueError\u001b[0m                                Traceback (most recent call last)",
        "\u001b[1;32m<ipython-input-105-a3ad6b499485>\u001b[0m in \u001b[0;36m<module>\u001b[1;34m()\u001b[0m\n\u001b[1;32m----> 1\u001b[1;33m \u001b[0mmakeplot_train\u001b[0m\u001b[1;33m(\u001b[0m\u001b[0mlog_fit\u001b[0m\u001b[1;33m)\u001b[0m\u001b[1;33m\u001b[0m\u001b[0m\n\u001b[0m",
        "\u001b[1;32m<ipython-input-104-a7e87ddbe44b>\u001b[0m in \u001b[0;36mmakeplot_train\u001b[1;34m(classifier)\u001b[0m\n\u001b[0;32m     14\u001b[0m \u001b[1;33m\u001b[0m\u001b[0m\n\u001b[0;32m     15\u001b[0m     \u001b[1;31m# Use classifier predictions for our point color\u001b[0m\u001b[1;33m\u001b[0m\u001b[1;33m\u001b[0m\u001b[0m\n\u001b[1;32m---> 16\u001b[1;33m     \u001b[0mZ\u001b[0m \u001b[1;33m=\u001b[0m \u001b[0mclassifier\u001b[0m\u001b[1;33m.\u001b[0m\u001b[0mpredict\u001b[0m\u001b[1;33m(\u001b[0m\u001b[0mnp\u001b[0m\u001b[1;33m.\u001b[0m\u001b[0mc_\u001b[0m\u001b[1;33m[\u001b[0m\u001b[0mxx\u001b[0m\u001b[1;33m.\u001b[0m\u001b[0mravel\u001b[0m\u001b[1;33m(\u001b[0m\u001b[1;33m)\u001b[0m\u001b[1;33m,\u001b[0m \u001b[0myy\u001b[0m\u001b[1;33m.\u001b[0m\u001b[0mravel\u001b[0m\u001b[1;33m(\u001b[0m\u001b[1;33m)\u001b[0m\u001b[1;33m]\u001b[0m\u001b[1;33m)\u001b[0m\u001b[1;33m\u001b[0m\u001b[0m\n\u001b[0m\u001b[0;32m     17\u001b[0m \u001b[1;33m\u001b[0m\u001b[0m\n\u001b[0;32m     18\u001b[0m     \u001b[1;31m# Put the result into a color plot for our background\u001b[0m\u001b[1;33m\u001b[0m\u001b[1;33m\u001b[0m\u001b[0m\n",
        "\u001b[1;32m/home/chris/anaconda/lib/python2.7/site-packages/sklearn/linear_model/base.pyc\u001b[0m in \u001b[0;36mpredict\u001b[1;34m(self, X)\u001b[0m\n\u001b[0;32m    221\u001b[0m             \u001b[0mPredicted\u001b[0m \u001b[1;32mclass\u001b[0m \u001b[0mlabel\u001b[0m \u001b[0mper\u001b[0m \u001b[0msample\u001b[0m\u001b[1;33m.\u001b[0m\u001b[1;33m\u001b[0m\u001b[0m\n\u001b[0;32m    222\u001b[0m         \"\"\"\n\u001b[1;32m--> 223\u001b[1;33m         \u001b[0mscores\u001b[0m \u001b[1;33m=\u001b[0m \u001b[0mself\u001b[0m\u001b[1;33m.\u001b[0m\u001b[0mdecision_function\u001b[0m\u001b[1;33m(\u001b[0m\u001b[0mX\u001b[0m\u001b[1;33m)\u001b[0m\u001b[1;33m\u001b[0m\u001b[0m\n\u001b[0m\u001b[0;32m    224\u001b[0m         \u001b[1;32mif\u001b[0m \u001b[0mlen\u001b[0m\u001b[1;33m(\u001b[0m\u001b[0mscores\u001b[0m\u001b[1;33m.\u001b[0m\u001b[0mshape\u001b[0m\u001b[1;33m)\u001b[0m \u001b[1;33m==\u001b[0m \u001b[1;36m1\u001b[0m\u001b[1;33m:\u001b[0m\u001b[1;33m\u001b[0m\u001b[0m\n\u001b[0;32m    225\u001b[0m             \u001b[0mindices\u001b[0m \u001b[1;33m=\u001b[0m \u001b[1;33m(\u001b[0m\u001b[0mscores\u001b[0m \u001b[1;33m>\u001b[0m \u001b[1;36m0\u001b[0m\u001b[1;33m)\u001b[0m\u001b[1;33m.\u001b[0m\u001b[0mastype\u001b[0m\u001b[1;33m(\u001b[0m\u001b[0mnp\u001b[0m\u001b[1;33m.\u001b[0m\u001b[0mint\u001b[0m\u001b[1;33m)\u001b[0m\u001b[1;33m\u001b[0m\u001b[0m\n",
        "\u001b[1;32m/home/chris/anaconda/lib/python2.7/site-packages/sklearn/linear_model/base.pyc\u001b[0m in \u001b[0;36mdecision_function\u001b[1;34m(self, X)\u001b[0m\n\u001b[0;32m    202\u001b[0m         \u001b[1;32mif\u001b[0m \u001b[0mX\u001b[0m\u001b[1;33m.\u001b[0m\u001b[0mshape\u001b[0m\u001b[1;33m[\u001b[0m\u001b[1;36m1\u001b[0m\u001b[1;33m]\u001b[0m \u001b[1;33m!=\u001b[0m \u001b[0mn_features\u001b[0m\u001b[1;33m:\u001b[0m\u001b[1;33m\u001b[0m\u001b[0m\n\u001b[0;32m    203\u001b[0m             raise ValueError(\"X has %d features per sample; expecting %d\"\n\u001b[1;32m--> 204\u001b[1;33m                              % (X.shape[1], n_features))\n\u001b[0m\u001b[0;32m    205\u001b[0m \u001b[1;33m\u001b[0m\u001b[0m\n\u001b[0;32m    206\u001b[0m         scores = safe_sparse_dot(X, self.coef_.T,\n",
        "\u001b[1;31mValueError\u001b[0m: X has 2 features per sample; expecting 17"
       ]
      }
     ],
     "prompt_number": 105
    },
    {
     "cell_type": "heading",
     "level": 2,
     "metadata": {},
     "source": [
      "Explore Results:\n",
      "    Need to fine-tune the features to get better accuracy."
     ]
    },
    {
     "cell_type": "heading",
     "level": 2,
     "metadata": {},
     "source": [
      "Re-Running CLF with UpperClass feature"
     ]
    },
    {
     "cell_type": "code",
     "collapsed": false,
     "input": [
      "cats_round2 = ['Ht','C','G','UpperClass','2P','2PA','3PA','ORB','DRB','TRB','BLK','TOV','PF']\n",
      "X_train_rd2, X_test_rd2, y_train_rd2, y_test_rd2 = train_test_split(tm_gm_p[tm_gm_p.MP >= 10][cats_round2].values, tm_gm_p[tm_gm_p.MP >= 10]['Major'].values, test_size=0.25)\n",
      "print len(X_train_rd2)\n",
      "print len(X_test_rd2)\n",
      "print len(y_train_rd2)\n",
      "print len(y_test_rd2)"
     ],
     "language": "python",
     "metadata": {},
     "outputs": [
      {
       "output_type": "stream",
       "stream": "stdout",
       "text": [
        "51911\n",
        "17304\n",
        "51911\n",
        "17304\n"
       ]
      }
     ],
     "prompt_number": 137
    },
    {
     "cell_type": "heading",
     "level": 3,
     "metadata": {},
     "source": [
      "Linear Regression CLF"
     ]
    },
    {
     "cell_type": "code",
     "collapsed": true,
     "input": [
      "linfit_rd2 = LinearRegression()\n",
      "linfit_rd2.fit(X_train_rd2, y_train_rd2)\n",
      "score = linfit_rd2.score(X_train_rd2, y_train_rd2)\n",
      "print \"Intercept: \",linfit_rd2.intercept_\n",
      "print \"R^2: \", round(score, 4)\n",
      "\n",
      "for i, coef in enumerate(linfit_rd2.coef_):\n",
      "    print cats_round2[i],\": \",coef\n",
      "\n",
      "# R^2 is improved (low-minute players are likely fringe-roster guys who could be on either kind of team\n",
      "\n",
      "#NOTES ABOUT BELOW COEFFICIENTS:\n",
      "#Positive Ht Coefficient makes sense (more height => better chance of Major = True)\n",
      "    #because Major Conference have a mean height of 1\" more than Mid-Majors\n",
      "#Same as above for other 'positive' categories (ORB, DRB) but weirdly not for TRB (which is ORB+DRB)\n",
      "    #and negative coefficients for 'negative' categories (PF, TOV)"
     ],
     "language": "python",
     "metadata": {},
     "outputs": [
      {
       "output_type": "stream",
       "stream": "stdout",
       "text": [
        "Intercept:  -2.01323157355\n",
        "R^2:  0.0387\n",
        "Ht :  0.0290144188588\n",
        "C :  -0.0663160201523\n",
        "G :  0.101158145942\n",
        "UpperClass :  -0.0976043875234\n",
        "2P :  -0.001386879404\n",
        "2PA :  0.00521415009734\n",
        "3PA :  0.00497481318154\n",
        "ORB :  0.0690926378191\n",
        "DRB :  0.0779745762018\n",
        "TRB :  -0.0761322785234\n",
        "BLK :  -9.55111507112e-05\n",
        "TOV :  -0.00437559639109\n",
        "PF :  -0.00957644678355\n"
       ]
      }
     ],
     "prompt_number": 138
    },
    {
     "cell_type": "heading",
     "level": 3,
     "metadata": {},
     "source": [
      "Decision Tree CLF"
     ]
    },
    {
     "cell_type": "code",
     "collapsed": true,
     "input": [
      "depth = arange(5,32)\n",
      "leaves = arange(5,51,5)\n",
      "leaves = [5]\n",
      "trees = []\n",
      "acc = []\n",
      "for d in depth:\n",
      "    for l in leaves:\n",
      "        tree_clf = tree.DecisionTreeClassifier(criterion='gini', max_depth=d, min_samples_leaf=l)\n",
      "        tree_fit = tree_clf.fit(X_train_rd2, y_train_rd2)\n",
      "        print \"%i Deep and %i Leaves:\" % (d, l)\n",
      "        print measure_performance(X_train_rd2, y_train_rd2, tree_fit)\n",
      "        trees.append(\"%i Deep and %i Leaves:\" % (d, l))\n",
      "        acc.append(measure_performance(X_train_rd2, y_train_rd2, tree_fit))\n",
      "        \n",
      "df_acc = pd.DataFrame(acc)\n",
      "print \" \"\n",
      "print \"Best Tree: %s\" % trees[df_acc[df_acc[0] ==df_acc[0].max()].index[0]]"
     ],
     "language": "python",
     "metadata": {},
     "outputs": [
      {
       "output_type": "stream",
       "stream": "stdout",
       "text": [
        "5 Deep and 5 Leaves:\n",
        "0.786885245902\n",
        "6 Deep and 5 Leaves:"
       ]
      },
      {
       "output_type": "stream",
       "stream": "stdout",
       "text": [
        "\n",
        "0.788330026391\n",
        "7 Deep and 5 Leaves:"
       ]
      },
      {
       "output_type": "stream",
       "stream": "stdout",
       "text": [
        "\n",
        "0.790660938915\n",
        "8 Deep and 5 Leaves:"
       ]
      },
      {
       "output_type": "stream",
       "stream": "stdout",
       "text": [
        "\n",
        "0.793357862495\n",
        "9 Deep and 5 Leaves:"
       ]
      },
      {
       "output_type": "stream",
       "stream": "stdout",
       "text": [
        "\n",
        "0.796266687215\n",
        "10 Deep and 5 Leaves:"
       ]
      },
      {
       "output_type": "stream",
       "stream": "stdout",
       "text": [
        "\n",
        "0.799194775674\n",
        "11 Deep and 5 Leaves:"
       ]
      },
      {
       "output_type": "stream",
       "stream": "stdout",
       "text": [
        "\n",
        "0.801544951937\n",
        "12 Deep and 5 Leaves:"
       ]
      },
      {
       "output_type": "stream",
       "stream": "stdout",
       "text": [
        "\n",
        "0.805802238447\n",
        "13 Deep and 5 Leaves:"
       ]
      },
      {
       "output_type": "stream",
       "stream": "stdout",
       "text": [
        "\n",
        "0.811080503169\n",
        "14 Deep and 5 Leaves:"
       ]
      },
      {
       "output_type": "stream",
       "stream": "stdout",
       "text": [
        "\n",
        "0.81655140529\n",
        "15 Deep and 5 Leaves:"
       ]
      },
      {
       "output_type": "stream",
       "stream": "stdout",
       "text": [
        "\n",
        "0.822022307411\n",
        "16 Deep and 5 Leaves:"
       ]
      },
      {
       "output_type": "stream",
       "stream": "stdout",
       "text": [
        "\n",
        "0.827839956849\n",
        "17 Deep and 5 Leaves:"
       ]
      },
      {
       "output_type": "stream",
       "stream": "stdout",
       "text": [
        "\n",
        "0.832482518156\n",
        "18 Deep and 5 Leaves:"
       ]
      },
      {
       "output_type": "stream",
       "stream": "stdout",
       "text": [
        "\n",
        "0.836739804666\n",
        "19 Deep and 5 Leaves:"
       ]
      },
      {
       "output_type": "stream",
       "stream": "stdout",
       "text": [
        "\n",
        "0.84034212402\n",
        "20 Deep and 5 Leaves:"
       ]
      },
      {
       "output_type": "stream",
       "stream": "stdout",
       "text": [
        "\n",
        "0.843636223536\n",
        "21 Deep and 5 Leaves:"
       ]
      },
      {
       "output_type": "stream",
       "stream": "stdout",
       "text": [
        "\n",
        "0.846217564678\n",
        "22 Deep and 5 Leaves:"
       ]
      },
      {
       "output_type": "stream",
       "stream": "stdout",
       "text": [
        "\n",
        "0.848432894762\n",
        "23 Deep and 5 Leaves:"
       ]
      },
      {
       "output_type": "stream",
       "stream": "stdout",
       "text": [
        "\n",
        "0.850417059968\n",
        "24 Deep and 5 Leaves:"
       ]
      },
      {
       "output_type": "stream",
       "stream": "stdout",
       "text": [
        "\n",
        "0.851206873302\n",
        "25 Deep and 5 Leaves:"
       ]
      },
      {
       "output_type": "stream",
       "stream": "stdout",
       "text": [
        "\n",
        "0.851688466799\n",
        "26 Deep and 5 Leaves:"
       ]
      },
      {
       "output_type": "stream",
       "stream": "stdout",
       "text": [
        "\n",
        "0.851996686637\n",
        "27 Deep and 5 Leaves:"
       ]
      },
      {
       "output_type": "stream",
       "stream": "stdout",
       "text": [
        "\n",
        "0.852189324035\n",
        "28 Deep and 5 Leaves:"
       ]
      },
      {
       "output_type": "stream",
       "stream": "stdout",
       "text": [
        "\n",
        "0.852401225174\n",
        "29 Deep and 5 Leaves:"
       ]
      },
      {
       "output_type": "stream",
       "stream": "stdout",
       "text": [
        "\n",
        "0.852497543873\n",
        "30 Deep and 5 Leaves:"
       ]
      },
      {
       "output_type": "stream",
       "stream": "stdout",
       "text": [
        "\n",
        "0.852805763711\n",
        "31 Deep and 5 Leaves:"
       ]
      },
      {
       "output_type": "stream",
       "stream": "stdout",
       "text": [
        "\n",
        "0.85292134615\n",
        " "
       ]
      },
      {
       "output_type": "stream",
       "stream": "stdout",
       "text": [
        "\n",
        "Best Tree: 31 Deep and 5 Leaves:\n"
       ]
      }
     ],
     "prompt_number": 139
    },
    {
     "cell_type": "code",
     "collapsed": false,
     "input": [
      "# As seen above, 5 leaves is consistently the best accuracy for a given depth\n",
      "# So, graph accuracies by depth \n",
      "the_depths = []\n",
      "\n",
      "for t in trees:\n",
      "    if \" and 5 Leaves:\" in t:\n",
      "        the_depths.append(int(t[:2]))\n",
      "        \n",
      "plt.plot(the_depths, acc)\n",
      "#25 again"
     ],
     "language": "python",
     "metadata": {},
     "outputs": [
      {
       "metadata": {},
       "output_type": "pyout",
       "prompt_number": 141,
       "text": [
        "[<matplotlib.lines.Line2D at 0xea4c4d0>]"
       ]
      },
      {
       "metadata": {},
       "output_type": "display_data",
       "png": "[encoded data removed]",
       "text": [
        "<matplotlib.figure.Figure at 0xea67050>"
       ]
      }
     ],
     "prompt_number": 141
    },
    {
     "cell_type": "code",
     "collapsed": false,
     "input": [
      "tree_clf = tree.DecisionTreeClassifier(criterion='gini', max_depth=25, min_samples_leaf=5)\n",
      "tree_fit = tree_clf.fit(X_train_rd2, y_train_rd2)\n",
      "\n",
      "print \"Training: \",measure_performance(X_train_rd2, y_train_rd2, tree_fit)\n",
      "print \"Test: \",measure_performance(X_test_rd2, y_test_rd2, tree_fit)"
     ],
     "language": "python",
     "metadata": {},
     "outputs": [
      {
       "output_type": "stream",
       "stream": "stdout",
       "text": [
        "Training:  [0.85166920305908189]\n",
        "Test:  [0.74034905224225611]\n"
       ]
      }
     ],
     "prompt_number": 218
    },
    {
     "cell_type": "code",
     "collapsed": false,
     "input": [
      "fig = plt.figure()\n",
      "fig.set_figwidth(10)\n",
      "fig.suptitle('AUC for Decision Tree Classifier Based on Round 2')\n",
      "\n",
      "fpr, tpr, thresholds = metrics.roc_curve(y_train_rd2,tree_clf.predict(X_train_rd2))\n",
      "ax2 = plt.subplot(1, 1,1)\n",
      "ax2.set_xlabel('false positive rate')\n",
      "ax2.set_ylabel('true positive rate')\n",
      "ax2.plot(fpr, tpr)\n",
      "\n",
      "\n",
      "print \"False-positive rate:\", fpr\n",
      "print \"True-positive rate: \", tpr\n",
      "print \"Thresholds:         \", thresholds\n",
      "\n",
      "print fig"
     ],
     "language": "python",
     "metadata": {},
     "outputs": [
      {
       "output_type": "stream",
       "stream": "stdout",
       "text": [
        "False-positive rate: [ 0.          0.05062731  1.        ]\n",
        "True-positive rate:  [ 0.          0.49897878  1.        ]\n",
        "Thresholds:          [2 1 0]\n",
        "Figure(800x320)\n"
       ]
      },
      {
       "metadata": {},
       "output_type": "display_data",
       "png": "[encoded data removed]",
       "text": [
        "<matplotlib.figure.Figure at 0x22a89290>"
       ]
      }
     ],
     "prompt_number": 220
    },
    {
     "cell_type": "code",
     "collapsed": false,
     "input": [
      "kfold_cv(X_train_rd2, y_train_rd2, tree_clf,10)\n",
      "kfold_cv(X_test_rd2, y_test_rd2, tree_clf,10)"
     ],
     "language": "python",
     "metadata": {},
     "outputs": [
      {
       "output_type": "stream",
       "stream": "stdout",
       "text": [
        "Mean score: 0.739 (+/-0.000)\n",
        "Mean score: 0.733 (+/-0.000)"
       ]
      },
      {
       "output_type": "stream",
       "stream": "stdout",
       "text": [
        "\n"
       ]
      }
     ],
     "prompt_number": 144
    },
    {
     "cell_type": "code",
     "collapsed": false,
     "input": [
      "rf_clf = RandomForestClassifier(n_estimators=75,random_state=102317)\n",
      "rf_fit = rf_clf.fit(X_train_rd2, y_train_rd2)\n",
      "kfold_cv(X_train_rd2, y_train_rd2,rf_clf)\n",
      "kfold_cv(X_test_rd2, y_test_rd2,rf_clf)"
     ],
     "language": "python",
     "metadata": {},
     "outputs": [
      {
       "output_type": "stream",
       "stream": "stdout",
       "text": [
        "Mean score: 0.779 (+/-0.000)\n",
        "Mean score: 0.783 (+/-0.000)"
       ]
      },
      {
       "output_type": "stream",
       "stream": "stdout",
       "text": [
        "\n"
       ]
      }
     ],
     "prompt_number": 145
    },
    {
     "cell_type": "heading",
     "level": 3,
     "metadata": {},
     "source": [
      "NB CLF"
     ]
    },
    {
     "cell_type": "code",
     "collapsed": false,
     "input": [
      "#Sets enforcing a threshold of 10 MP\n",
      "nb_clf = MultinomialNB()\n",
      "nb_fit = nb_clf.fit(X_train_rd2, y_train_rd2)\n",
      "print \"Training Accuracy: \", nb_fit.score(X_train_rd2, y_train_rd2)\n",
      "print \"Test Accuracy: \", nb_fit.score(X_test_rd2, y_test_rd2)"
     ],
     "language": "python",
     "metadata": {},
     "outputs": [
      {
       "output_type": "stream",
       "stream": "stdout",
       "text": [
        "Training Accuracy:  "
       ]
      },
      {
       "output_type": "stream",
       "stream": "stdout",
       "text": [
        "0.78151066248\n",
        "Test Accuracy:  0.785887656033\n"
       ]
      }
     ],
     "prompt_number": 146
    },
    {
     "cell_type": "heading",
     "level": 3,
     "metadata": {},
     "source": [
      "Logistic Regression CLF"
     ]
    },
    {
     "cell_type": "code",
     "collapsed": false,
     "input": [
      "log_clf = linear_model.LogisticRegression()\n",
      "log_fit = log_clf.fit(X_train_rd2, y_train_rd2)\n",
      "\n",
      "print \"Training Accuracy: \", log_fit.score(X_train_rd2, y_train_rd2)\n",
      "print \"Test Accuracy: \", log_fit.score(X_test_rd2, y_test_rd2)"
     ],
     "language": "python",
     "metadata": {},
     "outputs": [
      {
       "output_type": "stream",
       "stream": "stdout",
       "text": [
        "Training Accuracy:  "
       ]
      },
      {
       "output_type": "stream",
       "stream": "stdout",
       "text": [
        "0.782589431912\n",
        "Test Accuracy:  0.786696717522\n"
       ]
      }
     ],
     "prompt_number": 147
    },
    {
     "cell_type": "code",
     "collapsed": false,
     "input": [
      "kfold_cv(X_train_rd2, y_train_rd2, log_clf,10)\n",
      "kfold_cv(X_test_rd2, y_test_rd2, log_clf,10)"
     ],
     "language": "python",
     "metadata": {},
     "outputs": [
      {
       "output_type": "stream",
       "stream": "stdout",
       "text": [
        "Mean score: 0.783 (+/-0.000)\n",
        "Mean score: 0.787 (+/-0.000)"
       ]
      },
      {
       "output_type": "stream",
       "stream": "stdout",
       "text": [
        "\n"
       ]
      }
     ],
     "prompt_number": 148
    },
    {
     "cell_type": "code",
     "collapsed": false,
     "input": [],
     "language": "python",
     "metadata": {},
     "outputs": []
    },
    {
     "cell_type": "heading",
     "level": 2,
     "metadata": {},
     "source": [
      "Re-Running Regression and CLF with UpperClass Using Per40Minute stats"
     ]
    },
    {
     "cell_type": "code",
     "collapsed": false,
     "input": [
      "#cats_round2 = ['Ht','C','G','UpperClass','2P','2PA','3PA','ORB','DRB','TRB','BLK','TOV','PF']\n",
      "X_train_per40, X_test_per40, y_train_per40, y_test_per40 = train_test_split(tm_gm_p[tm_gm_p.MP >= 10][cats_round2].values, tm_gm_p[tm_gm_p.MP >= 10]['Major'].values, test_size=0.25)\n",
      "print len(X_train_per40)\n",
      "print len(X_test_per40)\n",
      "print len(y_train_per40)\n",
      "print len(y_test_per40)"
     ],
     "language": "python",
     "metadata": {},
     "outputs": [
      {
       "output_type": "stream",
       "stream": "stdout",
       "text": [
        "51911\n",
        "17304\n",
        "51911\n",
        "17304\n"
       ]
      }
     ],
     "prompt_number": 197
    },
    {
     "cell_type": "heading",
     "level": 3,
     "metadata": {},
     "source": [
      "Linear Regression CLF"
     ]
    },
    {
     "cell_type": "code",
     "collapsed": false,
     "input": [
      "linfit_per40 = LinearRegression()\n",
      "linfit_per40.fit(X_train_per40, y_train_per40)\n",
      "score = linfit_per40.score(X_train_per40, y_train_per40)\n",
      "print \"Intercept: \",linfit_per40.intercept_\n",
      "print \"R^2: \", round(score, 4)\n",
      "\n",
      "for i, coef in enumerate(linfit_per40.coef_):\n",
      "    print cats_round2[i],\": \",coef\n",
      "\n",
      "# R^2 is improved (low-minute players are likely fringe-roster guys who could be on either kind of team\n",
      "\n",
      "#NOTES ABOUT BELOW COEFFICIENTS:\n",
      "#Positive Ht Coefficient makes sense (more height => better chance of Major = True)\n",
      "    #because Major Conference have a mean height of 1\" more than Mid-Majors\n",
      "#Same as above for other 'positive' categories (ORB, DRB) but weirdly not for TRB (which is ORB+DRB)\n",
      "    #and negative coefficients for 'negative' categories (PF, TOV)\n",
      "    \n",
      "    "
     ],
     "language": "python",
     "metadata": {},
     "outputs": [
      {
       "output_type": "stream",
       "stream": "stdout",
       "text": [
        "Intercept:  -2.0213140526\n",
        "R^2:  0.0391\n",
        "Ht :  0.0291398524908\n",
        "C :  -0.0692640620411\n",
        "G :  0.100554356032\n",
        "UpperClass :  -0.0977768196002\n",
        "2P :  -0.0016316827273\n",
        "2PA :  0.00522629010304\n",
        "3PA :  0.00427182681274\n",
        "ORB :  0.0264831781399\n",
        "DRB :  0.036151368482\n",
        "TRB :  -0.0338949243493\n",
        "BLK :  -0.000275620558666\n",
        "TOV :  -0.0042651831482\n",
        "PF :  -0.00983871172968\n"
       ]
      }
     ],
     "prompt_number": 198
    },
    {
     "cell_type": "heading",
     "level": 3,
     "metadata": {},
     "source": [
      "Decision Tree CLF"
     ]
    },
    {
     "cell_type": "code",
     "collapsed": true,
     "input": [
      "depth = arange(5,32)\n",
      "leaves = arange(5,51,5)\n",
      "leaves = [5]\n",
      "trees = []\n",
      "acc = []\n",
      "for d in depth:\n",
      "    for l in leaves:\n",
      "        tree_clf = tree.DecisionTreeClassifier(criterion='gini', max_depth=d, min_samples_leaf=l)\n",
      "        tree_fit = tree_clf.fit(X_train_rd2, y_train_rd2)\n",
      "        print \"%i Deep and %i Leaves:\" % (d, l)\n",
      "        print measure_performance(X_train_rd2, y_train_rd2, tree_fit)\n",
      "        trees.append(\"%i Deep and %i Leaves:\" % (d, l))\n",
      "        acc.append(measure_performance(X_train_rd2, y_train_rd2, tree_fit))\n",
      "        \n",
      "df_acc = pd.DataFrame(acc)\n",
      "print \" \"\n",
      "print \"Best Tree: %s\" % trees[df_acc[df_acc[0] ==df_acc[0].max()].index[0]]\n",
      "\n",
      "# As seen above, 5 leaves is consistently the best accuracy for a given depth\n",
      "# So, graph accuracies by depth \n",
      "the_depths = []\n",
      "\n",
      "for t in trees:\n",
      "    if \" and 5 Leaves:\" in t:\n",
      "        the_depths.append(int(t[:2]))\n",
      "        \n",
      "plt.plot(the_depths, acc)\n",
      "#25 again"
     ],
     "language": "python",
     "metadata": {},
     "outputs": [
      {
       "output_type": "stream",
       "stream": "stdout",
       "text": [
        "5 Deep and 5 Leaves:\n",
        "[0.78688524590163933]\n",
        "6 Deep and 5 Leaves:"
       ]
      },
      {
       "output_type": "stream",
       "stream": "stdout",
       "text": [
        "\n",
        "[0.78833002639132366]\n",
        "7 Deep and 5 Leaves:"
       ]
      },
      {
       "output_type": "stream",
       "stream": "stdout",
       "text": [
        "\n",
        "[0.79066093891468092]\n",
        "8 Deep and 5 Leaves:"
       ]
      },
      {
       "output_type": "stream",
       "stream": "stdout",
       "text": [
        "\n",
        "[0.79335786249542484]\n",
        "9 Deep and 5 Leaves:"
       ]
      },
      {
       "output_type": "stream",
       "stream": "stdout",
       "text": [
        "\n",
        "[0.79626668721465588]\n",
        "10 Deep and 5 Leaves:"
       ]
      },
      {
       "output_type": "stream",
       "stream": "stdout",
       "text": [
        "\n",
        "[0.7992140394136118]\n",
        "11 Deep and 5 Leaves:"
       ]
      },
      {
       "output_type": "stream",
       "stream": "stdout",
       "text": [
        "\n",
        "[0.80154495193696906]\n",
        "12 Deep and 5 Leaves:"
       ]
      },
      {
       "output_type": "stream",
       "stream": "stdout",
       "text": [
        "\n",
        "[0.80576371096684707]\n",
        "13 Deep and 5 Leaves:"
       ]
      },
      {
       "output_type": "stream",
       "stream": "stdout",
       "text": [
        "\n",
        "[0.81109976690874763]\n",
        "14 Deep and 5 Leaves:"
       ]
      },
      {
       "output_type": "stream",
       "stream": "stdout",
       "text": [
        "\n",
        "[0.81657066902968545]\n",
        "15 Deep and 5 Leaves:"
       ]
      },
      {
       "output_type": "stream",
       "stream": "stdout",
       "text": [
        "\n",
        "[0.82215715358979791]\n",
        "16 Deep and 5 Leaves:"
       ]
      },
      {
       "output_type": "stream",
       "stream": "stdout",
       "text": [
        "\n",
        "[0.82782069310936024]\n",
        "17 Deep and 5 Leaves:"
       ]
      },
      {
       "output_type": "stream",
       "stream": "stdout",
       "text": [
        "\n",
        "[0.83259810059524952]\n",
        "18 Deep and 5 Leaves:"
       ]
      },
      {
       "output_type": "stream",
       "stream": "stdout",
       "text": [
        "\n",
        "[0.83664348596636551]\n",
        "19 Deep and 5 Leaves:"
       ]
      },
      {
       "output_type": "stream",
       "stream": "stdout",
       "text": [
        "\n",
        "[0.84034212401995723]\n",
        "20 Deep and 5 Leaves:"
       ]
      },
      {
       "output_type": "stream",
       "stream": "stdout",
       "text": [
        "\n",
        "[0.84344358613781278]\n",
        "21 Deep and 5 Leaves:"
       ]
      },
      {
       "output_type": "stream",
       "stream": "stdout",
       "text": [
        "\n",
        "[0.84623682841786907]\n",
        "22 Deep and 5 Leaves:"
       ]
      },
      {
       "output_type": "stream",
       "stream": "stdout",
       "text": [
        "\n",
        "[0.84858700468108883]\n",
        "23 Deep and 5 Leaves:"
       ]
      },
      {
       "output_type": "stream",
       "stream": "stdout",
       "text": [
        "\n",
        "[0.85010884013022292]\n",
        "24 Deep and 5 Leaves:"
       ]
      },
      {
       "output_type": "stream",
       "stream": "stdout",
       "text": [
        "\n",
        "[0.85107202712334573]\n",
        "25 Deep and 5 Leaves:"
       ]
      },
      {
       "output_type": "stream",
       "stream": "stdout",
       "text": [
        "\n",
        "[0.85193889541715628]\n",
        "26 Deep and 5 Leaves:"
       ]
      },
      {
       "output_type": "stream",
       "stream": "stdout",
       "text": [
        "\n",
        "[0.85209300533605592]\n",
        "27 Deep and 5 Leaves:"
       ]
      },
      {
       "output_type": "stream",
       "stream": "stdout",
       "text": [
        "\n",
        "[0.85230490647454293]\n",
        "28 Deep and 5 Leaves:"
       ]
      },
      {
       "output_type": "stream",
       "stream": "stdout",
       "text": [
        "\n",
        "[0.85234343395426793]\n",
        "29 Deep and 5 Leaves:"
       ]
      },
      {
       "output_type": "stream",
       "stream": "stdout",
       "text": [
        "\n",
        "[0.85249754387316756]\n",
        "30 Deep and 5 Leaves:"
       ]
      },
      {
       "output_type": "stream",
       "stream": "stdout",
       "text": [
        "\n",
        "[0.85257459883261733]\n",
        "31 Deep and 5 Leaves:"
       ]
      },
      {
       "output_type": "stream",
       "stream": "stdout",
       "text": [
        "\n",
        "[0.85288281867041671]\n",
        " "
       ]
      },
      {
       "output_type": "stream",
       "stream": "stdout",
       "text": [
        "\n",
        "Best Tree: 31 Deep and 5 Leaves:\n"
       ]
      },
      {
       "metadata": {},
       "output_type": "pyout",
       "prompt_number": 226,
       "text": [
        "[<matplotlib.lines.Line2D at 0x162e1790>]"
       ]
      },
      {
       "metadata": {},
       "output_type": "display_data",
       "png": "[encoded data removed]",
       "text": [
        "<matplotlib.figure.Figure at 0x10101890>"
       ]
      }
     ],
     "prompt_number": 226
    },
    {
     "cell_type": "code",
     "collapsed": false,
     "input": [
      "# Going to use 25 depth again\n",
      "tree_clf = tree.DecisionTreeClassifier(criterion='gini', max_depth=25, min_samples_leaf=5)\n",
      "tree_fit = tree_clf.fit(X_train_per40, y_train_per40)\n",
      "\n",
      "print \"Training: \",measure_performance(X_train_per40, y_train_per40, tree_fit)\n",
      "print \"Test: \",measure_performance(X_test_per40, y_test_per40, tree_fit)\n",
      "\n",
      "print \" \"\n",
      "print \"Performance: \",measure_performance(X_test_per40, y_test_per40, tree_fit, show_confusion_matrix=True)"
     ],
     "language": "python",
     "metadata": {},
     "outputs": [
      {
       "output_type": "stream",
       "stream": "stdout",
       "text": [
        "Training:  [0.85220858777523067]\n",
        "Test:  [0.73832639852057325]\n",
        " \n",
        "Performance:  "
       ]
      },
      {
       "output_type": "stream",
       "stream": "stdout",
       "text": [
        "[0.73832639852057325, array([[11892,  1660],\n",
        "       [ 2868,   884]])]\n"
       ]
      }
     ],
     "prompt_number": 216
    },
    {
     "cell_type": "code",
     "collapsed": false,
     "input": [
      "fig = plt.figure()\n",
      "fig.set_figwidth(10)\n",
      "fig.suptitle('AUC for Decision Tree Classifier Based on Per40 Stats')\n",
      "\n",
      "fpr, tpr, thresholds = metrics.roc_curve(y_train_per40,tree_clf.predict(X_train_per40))\n",
      "ax2 = plt.subplot(1, 1,1)\n",
      "ax2.set_xlabel('false positive rate')\n",
      "ax2.set_ylabel('true positive rate')\n",
      "ax2.plot(fpr, tpr)\n",
      "\n",
      "\n",
      "print \"False-positive rate:\", fpr\n",
      "print \"True-positive rate: \", tpr\n",
      "print \"Thresholds:         \", thresholds\n",
      "\n",
      "print fig"
     ],
     "language": "python",
     "metadata": {},
     "outputs": [
      {
       "output_type": "stream",
       "stream": "stdout",
       "text": [
        "False-positive rate: [ 0.          0.06851838  1.        ]\n",
        "True-positive rate:  [ 0.          0.43709793  1.        ]\n",
        "Thresholds:          [2 1 0]\n",
        "Figure(800x320)\n"
       ]
      },
      {
       "metadata": {},
       "output_type": "display_data",
       "png": "[encoded data removed]",
       "text": [
        "<matplotlib.figure.Figure at 0x10136d10>"
       ]
      }
     ],
     "prompt_number": 221
    },
    {
     "cell_type": "code",
     "collapsed": false,
     "input": [
      "kfold_cv(X_train_per40, y_train_per40, tree_clf,10)\n",
      "kfold_cv(X_test_per40, y_test_per40, tree_clf,10)"
     ],
     "language": "python",
     "metadata": {},
     "outputs": [
      {
       "output_type": "stream",
       "stream": "stdout",
       "text": [
        "Mean score: 0.737 (+/-0.000)\n",
        "Mean score: 0.725 (+/-0.000)"
       ]
      },
      {
       "output_type": "stream",
       "stream": "stdout",
       "text": [
        "\n"
       ]
      }
     ],
     "prompt_number": 200
    },
    {
     "cell_type": "code",
     "collapsed": false,
     "input": [
      "rf_clf = RandomForestClassifier(n_estimators=75,random_state=102317)\n",
      "rf_fit = rf_clf.fit(X_train_per40, y_train_per40)\n",
      "kfold_cv(X_train_per40, y_train_per40,rf_clf)\n",
      "kfold_cv(X_test_per40, y_test_per40,rf_clf)"
     ],
     "language": "python",
     "metadata": {},
     "outputs": [
      {
       "output_type": "stream",
       "stream": "stdout",
       "text": [
        "Mean score: 0.780 (+/-0.000)\n",
        "Mean score: 0.777 (+/-0.000)"
       ]
      },
      {
       "output_type": "stream",
       "stream": "stdout",
       "text": [
        "\n"
       ]
      }
     ],
     "prompt_number": 201
    },
    {
     "cell_type": "heading",
     "level": 3,
     "metadata": {},
     "source": [
      "NB CLF"
     ]
    },
    {
     "cell_type": "code",
     "collapsed": false,
     "input": [
      "#Sets enforcing a threshold of 10 MP\n",
      "nb_clf = MultinomialNB()\n",
      "nb_fit = nb_clf.fit(X_train_per40, y_train_per40)\n",
      "print \"Training Accuracy: \", nb_fit.score(X_train_per40, y_train_per40)\n",
      "print \"Test Accuracy: \", nb_fit.score(X_test_per40, y_test_per40)"
     ],
     "language": "python",
     "metadata": {},
     "outputs": [
      {
       "output_type": "stream",
       "stream": "stdout",
       "text": [
        "Training Accuracy:  "
       ]
      },
      {
       "output_type": "stream",
       "stream": "stdout",
       "text": [
        "0.782377530774\n",
        "Test Accuracy:  0.781784558484\n"
       ]
      }
     ],
     "prompt_number": 202
    },
    {
     "cell_type": "heading",
     "level": 3,
     "metadata": {},
     "source": [
      "Logistic Regression CLF"
     ]
    },
    {
     "cell_type": "code",
     "collapsed": false,
     "input": [
      "log_clf = linear_model.LogisticRegression()\n",
      "log_fit = log_clf.fit(X_train_per40, y_train_per40)\n",
      "\n",
      "print \"Training Accuracy: \", log_fit.score(X_train_per40, y_train_per40)\n",
      "print \"Test Accuracy: \", log_fit.score(X_test_per40, y_test_per40)"
     ],
     "language": "python",
     "metadata": {},
     "outputs": [
      {
       "output_type": "stream",
       "stream": "stdout",
       "text": [
        "Training Accuracy:  "
       ]
      },
      {
       "output_type": "stream",
       "stream": "stdout",
       "text": [
        "0.783995684922\n",
        "Test Accuracy:  0.782593619972\n"
       ]
      }
     ],
     "prompt_number": 203
    },
    {
     "cell_type": "code",
     "collapsed": false,
     "input": [
      "kfold_cv(X_train_per40, y_train_per40, log_clf,10)\n",
      "kfold_cv(X_test_per40, y_test_per40, log_clf,10)"
     ],
     "language": "python",
     "metadata": {},
     "outputs": [
      {
       "output_type": "stream",
       "stream": "stdout",
       "text": [
        "Mean score: 0.784 (+/-0.000)\n",
        "Mean score: 0.783 (+/-0.000)"
       ]
      },
      {
       "output_type": "stream",
       "stream": "stdout",
       "text": [
        "\n"
       ]
      }
     ],
     "prompt_number": 204
    },
    {
     "cell_type": "code",
     "collapsed": false,
     "input": [],
     "language": "python",
     "metadata": {},
     "outputs": []
    },
    {
     "cell_type": "code",
     "collapsed": false,
     "input": [],
     "language": "python",
     "metadata": {},
     "outputs": []
    },
    {
     "cell_type": "code",
     "collapsed": false,
     "input": [],
     "language": "python",
     "metadata": {},
     "outputs": []
    },
    {
     "cell_type": "code",
     "collapsed": false,
     "input": [],
     "language": "python",
     "metadata": {},
     "outputs": []
    }
   ],
   "metadata": {}
  }
 ]
}