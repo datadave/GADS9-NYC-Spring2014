{
 "metadata": {
  "name": ""
 },
 "nbformat": 3,
 "nbformat_minor": 0,
 "worksheets": [
  {
   "cells": [
    {
     "cell_type": "markdown",
     "metadata": {
      "slideshow": {
       "slide_type": "slide"
      }
     },
     "source": [
      "## Agenda\n",
      "* Numpy\n",
      "* Pandas\n",
      "* Lab\n"
     ]
    },
    {
     "cell_type": "markdown",
     "metadata": {
      "slideshow": {
       "slide_type": "slide"
      }
     },
     "source": [
      "## Introduction"
     ]
    },
    {
     "cell_type": "code",
     "collapsed": false,
     "input": [],
     "language": "python",
     "metadata": {},
     "outputs": []
    },
    {
     "cell_type": "markdown",
     "metadata": {
      "slideshow": {
       "slide_type": "slide"
      }
     },
     "source": [
      "## Numpy Overview\n",
      "\n",
      "* ndarray\n",
      "* Indexing and Slicing\n",
      "\n",
      "More info: [NumPy Tutorial](http://wiki.scipy.org/Tentative_NumPy_Tutorial#head-6a1bc005bd80e1b19f812e1e64e0d25d50f99fe2)\n"
     ]
    },
    {
     "cell_type": "code",
     "collapsed": false,
     "input": [
      "from numpy import *"
     ],
     "language": "python",
     "metadata": {
      "slideshow": {
       "slide_type": "subslide"
      }
     },
     "outputs": [],
     "prompt_number": 581
    },
    {
     "cell_type": "markdown",
     "metadata": {
      "slideshow": {
       "slide_type": "subslide"
      }
     },
     "source": [
      "### Creating ndarrays"
     ]
    },
    {
     "cell_type": "code",
     "collapsed": false,
     "input": [
      "a = zeros((3))\n",
      "b = ones((2,3))\n",
      "c = np.random.randint(1,10,(2,3,4))\n",
      "d = arange(0,11,1)"
     ],
     "language": "python",
     "metadata": {
      "slideshow": {
       "slide_type": "subslide"
      }
     },
     "outputs": [],
     "prompt_number": 131
    },
    {
     "cell_type": "code",
     "collapsed": true,
     "input": [
      "# Note the way each array is printed:\n",
      "a,b,c,d\n"
     ],
     "language": "python",
     "metadata": {
      "slideshow": {
       "slide_type": "fragment"
      }
     },
     "outputs": [
      {
       "metadata": {},
       "output_type": "pyout",
       "prompt_number": 132,
       "text": [
        "(array([ 0.,  0.,  0.]),\n",
        " array([[ 1.,  1.,  1.],\n",
        "       [ 1.,  1.,  1.]]),\n",
        " array([[[6, 9, 6, 3],\n",
        "        [2, 9, 4, 5],\n",
        "        [1, 3, 4, 4]],\n",
        "\n",
        "       [[3, 6, 5, 9],\n",
        "        [5, 2, 4, 4],\n",
        "        [7, 9, 2, 6]]]),\n",
        " array([ 0,  1,  2,  3,  4,  5,  6,  7,  8,  9, 10]))"
       ]
      }
     ],
     "prompt_number": 132
    },
    {
     "cell_type": "code",
     "collapsed": false,
     "input": [
      "# Arithmatic in arrays is element wise"
     ],
     "language": "python",
     "metadata": {
      "slideshow": {
       "slide_type": "fragment"
      }
     },
     "outputs": []
    },
    {
     "cell_type": "code",
     "collapsed": false,
     "input": [
      ">>> a = array( [20,30,40,50] )\n",
      ">>> b = arange( 4 )\n",
      ">>> b"
     ],
     "language": "python",
     "metadata": {
      "slideshow": {
       "slide_type": "fragment"
      }
     },
     "outputs": [
      {
       "metadata": {},
       "output_type": "pyout",
       "prompt_number": 74,
       "text": [
        "array([0, 1, 2, 3])"
       ]
      }
     ],
     "prompt_number": 74
    },
    {
     "cell_type": "code",
     "collapsed": false,
     "input": [
      ">>> c = a-b\n",
      ">>> c"
     ],
     "language": "python",
     "metadata": {
      "slideshow": {
       "slide_type": "fragment"
      }
     },
     "outputs": [
      {
       "metadata": {},
       "output_type": "pyout",
       "prompt_number": 75,
       "text": [
        "array([20, 29, 38, 47])"
       ]
      }
     ],
     "prompt_number": 75
    },
    {
     "cell_type": "code",
     "collapsed": false,
     "input": [
      ">>> b**2"
     ],
     "language": "python",
     "metadata": {
      "slideshow": {
       "slide_type": "fragment"
      }
     },
     "outputs": [
      {
       "metadata": {},
       "output_type": "pyout",
       "prompt_number": 73,
       "text": [
        "array([0, 1, 4, 9])"
       ]
      }
     ],
     "prompt_number": 73
    },
    {
     "cell_type": "markdown",
     "metadata": {
      "slideshow": {
       "slide_type": "subslide"
      }
     },
     "source": [
      "## Indexing, Slicing and Iterating"
     ]
    },
    {
     "cell_type": "code",
     "collapsed": false,
     "input": [
      "# one-dimensional arrays work like lists:\n",
      "a = arange(10)**2"
     ],
     "language": "python",
     "metadata": {
      "slideshow": {
       "slide_type": "fragment"
      }
     },
     "outputs": [],
     "prompt_number": 86
    },
    {
     "cell_type": "code",
     "collapsed": true,
     "input": [
      "a"
     ],
     "language": "python",
     "metadata": {
      "slideshow": {
       "slide_type": "slide"
      }
     },
     "outputs": [
      {
       "metadata": {},
       "output_type": "pyout",
       "prompt_number": 87,
       "text": [
        "array([ 0,  1,  4,  9, 16, 25, 36, 49, 64, 81])"
       ]
      }
     ],
     "prompt_number": 87
    },
    {
     "cell_type": "code",
     "collapsed": false,
     "input": [
      "a[2:5]"
     ],
     "language": "python",
     "metadata": {},
     "outputs": [
      {
       "metadata": {},
       "output_type": "pyout",
       "prompt_number": 90,
       "text": [
        "array([ 4,  9, 16])"
       ]
      }
     ],
     "prompt_number": 90
    },
    {
     "cell_type": "code",
     "collapsed": false,
     "input": [
      "# Multidimensional arrays use tuples with commas for indexing"
     ],
     "language": "python",
     "metadata": {},
     "outputs": [],
     "prompt_number": 91
    },
    {
     "cell_type": "code",
     "collapsed": false,
     "input": [
      "b = randint(1,100,(4,4))"
     ],
     "language": "python",
     "metadata": {},
     "outputs": [],
     "prompt_number": 139
    },
    {
     "cell_type": "code",
     "collapsed": false,
     "input": [
      "b"
     ],
     "language": "python",
     "metadata": {},
     "outputs": [
      {
       "metadata": {},
       "output_type": "pyout",
       "prompt_number": 140,
       "text": [
        "array([[88, 90,  5, 76],\n",
        "       [69, 91, 35, 72],\n",
        "       [80, 85, 59, 15],\n",
        "       [50, 68, 22, 97]])"
       ]
      }
     ],
     "prompt_number": 140
    },
    {
     "cell_type": "code",
     "collapsed": false,
     "input": [
      "b[2,3]\n"
     ],
     "language": "python",
     "metadata": {},
     "outputs": [
      {
       "metadata": {},
       "output_type": "pyout",
       "prompt_number": 146,
       "text": [
        "15"
       ]
      }
     ],
     "prompt_number": 146
    },
    {
     "cell_type": "code",
     "collapsed": false,
     "input": [
      "b[0:5,1]"
     ],
     "language": "python",
     "metadata": {},
     "outputs": [
      {
       "metadata": {},
       "output_type": "pyout",
       "prompt_number": 148,
       "text": [
        "array([90, 91, 85, 68])"
       ]
      }
     ],
     "prompt_number": 148
    },
    {
     "cell_type": "code",
     "collapsed": false,
     "input": [
      "b[ :,1]"
     ],
     "language": "python",
     "metadata": {},
     "outputs": [
      {
       "metadata": {},
       "output_type": "pyout",
       "prompt_number": 149,
       "text": [
        "array([90, 91, 85, 68])"
       ]
      }
     ],
     "prompt_number": 149
    },
    {
     "cell_type": "code",
     "collapsed": false,
     "input": [
      "b[1:3,:]"
     ],
     "language": "python",
     "metadata": {},
     "outputs": [
      {
       "metadata": {},
       "output_type": "pyout",
       "prompt_number": 150,
       "text": [
        "array([[69, 91, 35, 72],\n",
        "       [80, 85, 59, 15]])"
       ]
      }
     ],
     "prompt_number": 150
    },
    {
     "cell_type": "markdown",
     "metadata": {},
     "source": [
      "## Pandas\n",
      "\n",
      "* Object Creation\n",
      "* Viewing data\n",
      "* Selection\n",
      "* Missing data\n",
      "* Grouping\n",
      "* Reshaping\n",
      "* Time series\n",
      "* Plotting\n",
      "* i/o\n",
      " \n",
      "\n",
      "_pandas.pydata.org_"
     ]
    },
    {
     "cell_type": "markdown",
     "metadata": {},
     "source": [
      "## Pandas Overview\n",
      "\n",
      "_Source: [pandas.pydata.org](http://pandas.pydata.org/pandas-docs/stable/10min.html)_"
     ]
    },
    {
     "cell_type": "code",
     "collapsed": false,
     "input": [
      "import pandas as pd\n",
      "import numpy as np\n",
      "import matplotlib.pyplot as plt"
     ],
     "language": "python",
     "metadata": {},
     "outputs": [],
     "prompt_number": 151
    },
    {
     "cell_type": "code",
     "collapsed": false,
     "input": [
      "dates = pd.date_range('20140101',periods=6)"
     ],
     "language": "python",
     "metadata": {},
     "outputs": [],
     "prompt_number": 280
    },
    {
     "cell_type": "code",
     "collapsed": false,
     "input": [
      "df = pd.DataFrame(np.random.randn(6,4),index=dates,columns=list('ABCD'))"
     ],
     "language": "python",
     "metadata": {},
     "outputs": [],
     "prompt_number": 334
    },
    {
     "cell_type": "code",
     "collapsed": false,
     "input": [
      "# Index, columns, underlying numpy data\n",
      "df"
     ],
     "language": "python",
     "metadata": {},
     "outputs": [
      {
       "html": [
        "<div style=\"max-height:1000px;max-width:1500px;overflow:auto;\">\n",
        "<table border=\"1\" class=\"dataframe\">\n",
        "  <thead>\n",
        "    <tr style=\"text-align: right;\">\n",
        "      <th></th>\n",
        "      <th>A</th>\n",
        "      <th>B</th>\n",
        "      <th>C</th>\n",
        "      <th>D</th>\n",
        "    </tr>\n",
        "  </thead>\n",
        "  <tbody>\n",
        "    <tr>\n",
        "      <th>2014-01-01</th>\n",
        "      <td>-1.638768</td>\n",
        "      <td>-0.153302</td>\n",
        "      <td>-0.638902</td>\n",
        "      <td>-0.633716</td>\n",
        "    </tr>\n",
        "    <tr>\n",
        "      <th>2014-01-02</th>\n",
        "      <td>-1.171046</td>\n",
        "      <td>-2.794309</td>\n",
        "      <td> 1.024830</td>\n",
        "      <td>-0.072379</td>\n",
        "    </tr>\n",
        "    <tr>\n",
        "      <th>2014-01-03</th>\n",
        "      <td> 0.593254</td>\n",
        "      <td>-0.956257</td>\n",
        "      <td> 0.635809</td>\n",
        "      <td>-1.456324</td>\n",
        "    </tr>\n",
        "    <tr>\n",
        "      <th>2014-01-04</th>\n",
        "      <td>-0.986547</td>\n",
        "      <td>-0.397837</td>\n",
        "      <td>-1.974811</td>\n",
        "      <td> 0.193707</td>\n",
        "    </tr>\n",
        "    <tr>\n",
        "      <th>2014-01-05</th>\n",
        "      <td>-1.045425</td>\n",
        "      <td>-1.702407</td>\n",
        "      <td>-0.771558</td>\n",
        "      <td> 1.127067</td>\n",
        "    </tr>\n",
        "    <tr>\n",
        "      <th>2014-01-06</th>\n",
        "      <td> 1.707446</td>\n",
        "      <td>-0.803166</td>\n",
        "      <td> 1.841624</td>\n",
        "      <td>-0.287171</td>\n",
        "    </tr>\n",
        "  </tbody>\n",
        "</table>\n",
        "</div>"
       ],
       "metadata": {},
       "output_type": "pyout",
       "prompt_number": 287,
       "text": [
        "                   A         B         C         D\n",
        "2014-01-01 -1.638768 -0.153302 -0.638902 -0.633716\n",
        "2014-01-02 -1.171046 -2.794309  1.024830 -0.072379\n",
        "2014-01-03  0.593254 -0.956257  0.635809 -1.456324\n",
        "2014-01-04 -0.986547 -0.397837 -1.974811  0.193707\n",
        "2014-01-05 -1.045425 -1.702407 -0.771558  1.127067\n",
        "2014-01-06  1.707446 -0.803166  1.841624 -0.287171"
       ]
      }
     ],
     "prompt_number": 287
    },
    {
     "cell_type": "code",
     "collapsed": false,
     "input": [
      "df2 = pd.DataFrame({ 'A' : 1.,\n",
      "                         'B' : pd.Timestamp('20130102'),\n",
      "                         'C' : pd.Series(1,index=list(range(4)),dtype='float32'),\n",
      "                         'D' : np.array([3] * 4,dtype='int32'),\n",
      "                         'E' : 'foo' })\n",
      "    \n",
      "\n",
      "df2"
     ],
     "language": "python",
     "metadata": {},
     "outputs": [
      {
       "html": [
        "<div style=\"max-height:1000px;max-width:1500px;overflow:auto;\">\n",
        "<table border=\"1\" class=\"dataframe\">\n",
        "  <thead>\n",
        "    <tr style=\"text-align: right;\">\n",
        "      <th></th>\n",
        "      <th>A</th>\n",
        "      <th>B</th>\n",
        "      <th>C</th>\n",
        "      <th>D</th>\n",
        "      <th>E</th>\n",
        "    </tr>\n",
        "  </thead>\n",
        "  <tbody>\n",
        "    <tr>\n",
        "      <th>0</th>\n",
        "      <td> 1</td>\n",
        "      <td>2013-01-02 00:00:00</td>\n",
        "      <td> 1</td>\n",
        "      <td> 3</td>\n",
        "      <td> foo</td>\n",
        "    </tr>\n",
        "    <tr>\n",
        "      <th>1</th>\n",
        "      <td> 1</td>\n",
        "      <td>2013-01-02 00:00:00</td>\n",
        "      <td> 1</td>\n",
        "      <td> 3</td>\n",
        "      <td> foo</td>\n",
        "    </tr>\n",
        "    <tr>\n",
        "      <th>2</th>\n",
        "      <td> 1</td>\n",
        "      <td>2013-01-02 00:00:00</td>\n",
        "      <td> 1</td>\n",
        "      <td> 3</td>\n",
        "      <td> foo</td>\n",
        "    </tr>\n",
        "    <tr>\n",
        "      <th>3</th>\n",
        "      <td> 1</td>\n",
        "      <td>2013-01-02 00:00:00</td>\n",
        "      <td> 1</td>\n",
        "      <td> 3</td>\n",
        "      <td> foo</td>\n",
        "    </tr>\n",
        "  </tbody>\n",
        "</table>\n",
        "</div>"
       ],
       "metadata": {},
       "output_type": "pyout",
       "prompt_number": 283,
       "text": [
        "   A                   B  C  D    E\n",
        "0  1 2013-01-02 00:00:00  1  3  foo\n",
        "1  1 2013-01-02 00:00:00  1  3  foo\n",
        "2  1 2013-01-02 00:00:00  1  3  foo\n",
        "3  1 2013-01-02 00:00:00  1  3  foo"
       ]
      }
     ],
     "prompt_number": 283
    },
    {
     "cell_type": "code",
     "collapsed": false,
     "input": [
      "# With specific dtypes\n",
      "df2.dtypes"
     ],
     "language": "python",
     "metadata": {},
     "outputs": [
      {
       "metadata": {},
       "output_type": "pyout",
       "prompt_number": 284,
       "text": [
        "A           float64\n",
        "B    datetime64[ns]\n",
        "C           float32\n",
        "D             int32\n",
        "E            object\n",
        "dtype: object"
       ]
      }
     ],
     "prompt_number": 284
    },
    {
     "cell_type": "markdown",
     "metadata": {},
     "source": [
      "#### Viewing Data"
     ]
    },
    {
     "cell_type": "code",
     "collapsed": false,
     "input": [
      "df.head()"
     ],
     "language": "python",
     "metadata": {},
     "outputs": [
      {
       "html": [
        "<div style=\"max-height:1000px;max-width:1500px;overflow:auto;\">\n",
        "<table border=\"1\" class=\"dataframe\">\n",
        "  <thead>\n",
        "    <tr style=\"text-align: right;\">\n",
        "      <th></th>\n",
        "      <th>A</th>\n",
        "      <th>B</th>\n",
        "      <th>C</th>\n",
        "      <th>D</th>\n",
        "    </tr>\n",
        "  </thead>\n",
        "  <tbody>\n",
        "    <tr>\n",
        "      <th>2014-01-01</th>\n",
        "      <td>-1.638768</td>\n",
        "      <td>-0.153302</td>\n",
        "      <td>-0.638902</td>\n",
        "      <td>-0.633716</td>\n",
        "    </tr>\n",
        "    <tr>\n",
        "      <th>2014-01-02</th>\n",
        "      <td>-1.171046</td>\n",
        "      <td>-2.794309</td>\n",
        "      <td> 1.024830</td>\n",
        "      <td>-0.072379</td>\n",
        "    </tr>\n",
        "    <tr>\n",
        "      <th>2014-01-03</th>\n",
        "      <td> 0.593254</td>\n",
        "      <td>-0.956257</td>\n",
        "      <td> 0.635809</td>\n",
        "      <td>-1.456324</td>\n",
        "    </tr>\n",
        "    <tr>\n",
        "      <th>2014-01-04</th>\n",
        "      <td>-0.986547</td>\n",
        "      <td>-0.397837</td>\n",
        "      <td>-1.974811</td>\n",
        "      <td> 0.193707</td>\n",
        "    </tr>\n",
        "    <tr>\n",
        "      <th>2014-01-05</th>\n",
        "      <td>-1.045425</td>\n",
        "      <td>-1.702407</td>\n",
        "      <td>-0.771558</td>\n",
        "      <td> 1.127067</td>\n",
        "    </tr>\n",
        "  </tbody>\n",
        "</table>\n",
        "</div>"
       ],
       "metadata": {},
       "output_type": "pyout",
       "prompt_number": 292,
       "text": [
        "                   A         B         C         D\n",
        "2014-01-01 -1.638768 -0.153302 -0.638902 -0.633716\n",
        "2014-01-02 -1.171046 -2.794309  1.024830 -0.072379\n",
        "2014-01-03  0.593254 -0.956257  0.635809 -1.456324\n",
        "2014-01-04 -0.986547 -0.397837 -1.974811  0.193707\n",
        "2014-01-05 -1.045425 -1.702407 -0.771558  1.127067"
       ]
      }
     ],
     "prompt_number": 292
    },
    {
     "cell_type": "code",
     "collapsed": false,
     "input": [
      "df.tail()"
     ],
     "language": "python",
     "metadata": {},
     "outputs": [
      {
       "html": [
        "<div style=\"max-height:1000px;max-width:1500px;overflow:auto;\">\n",
        "<table border=\"1\" class=\"dataframe\">\n",
        "  <thead>\n",
        "    <tr style=\"text-align: right;\">\n",
        "      <th></th>\n",
        "      <th>A</th>\n",
        "      <th>B</th>\n",
        "      <th>C</th>\n",
        "      <th>D</th>\n",
        "    </tr>\n",
        "  </thead>\n",
        "  <tbody>\n",
        "    <tr>\n",
        "      <th>2014-01-02</th>\n",
        "      <td>-1.171046</td>\n",
        "      <td>-2.794309</td>\n",
        "      <td> 1.024830</td>\n",
        "      <td>-0.072379</td>\n",
        "    </tr>\n",
        "    <tr>\n",
        "      <th>2014-01-03</th>\n",
        "      <td> 0.593254</td>\n",
        "      <td>-0.956257</td>\n",
        "      <td> 0.635809</td>\n",
        "      <td>-1.456324</td>\n",
        "    </tr>\n",
        "    <tr>\n",
        "      <th>2014-01-04</th>\n",
        "      <td>-0.986547</td>\n",
        "      <td>-0.397837</td>\n",
        "      <td>-1.974811</td>\n",
        "      <td> 0.193707</td>\n",
        "    </tr>\n",
        "    <tr>\n",
        "      <th>2014-01-05</th>\n",
        "      <td>-1.045425</td>\n",
        "      <td>-1.702407</td>\n",
        "      <td>-0.771558</td>\n",
        "      <td> 1.127067</td>\n",
        "    </tr>\n",
        "    <tr>\n",
        "      <th>2014-01-06</th>\n",
        "      <td> 1.707446</td>\n",
        "      <td>-0.803166</td>\n",
        "      <td> 1.841624</td>\n",
        "      <td>-0.287171</td>\n",
        "    </tr>\n",
        "  </tbody>\n",
        "</table>\n",
        "</div>"
       ],
       "metadata": {},
       "output_type": "pyout",
       "prompt_number": 293,
       "text": [
        "                   A         B         C         D\n",
        "2014-01-02 -1.171046 -2.794309  1.024830 -0.072379\n",
        "2014-01-03  0.593254 -0.956257  0.635809 -1.456324\n",
        "2014-01-04 -0.986547 -0.397837 -1.974811  0.193707\n",
        "2014-01-05 -1.045425 -1.702407 -0.771558  1.127067\n",
        "2014-01-06  1.707446 -0.803166  1.841624 -0.287171"
       ]
      }
     ],
     "prompt_number": 293
    },
    {
     "cell_type": "code",
     "collapsed": false,
     "input": [],
     "language": "python",
     "metadata": {},
     "outputs": []
    },
    {
     "cell_type": "code",
     "collapsed": false,
     "input": [
      "df.tail()"
     ],
     "language": "python",
     "metadata": {},
     "outputs": [
      {
       "html": [
        "<div style=\"max-height:1000px;max-width:1500px;overflow:auto;\">\n",
        "<table border=\"1\" class=\"dataframe\">\n",
        "  <thead>\n",
        "    <tr style=\"text-align: right;\">\n",
        "      <th></th>\n",
        "      <th>A</th>\n",
        "      <th>B</th>\n",
        "      <th>C</th>\n",
        "      <th>D</th>\n",
        "    </tr>\n",
        "  </thead>\n",
        "  <tbody>\n",
        "    <tr>\n",
        "      <th>2014-01-02</th>\n",
        "      <td>-1.171046</td>\n",
        "      <td>-2.794309</td>\n",
        "      <td> 1.024830</td>\n",
        "      <td>-0.072379</td>\n",
        "    </tr>\n",
        "    <tr>\n",
        "      <th>2014-01-03</th>\n",
        "      <td> 0.593254</td>\n",
        "      <td>-0.956257</td>\n",
        "      <td> 0.635809</td>\n",
        "      <td>-1.456324</td>\n",
        "    </tr>\n",
        "    <tr>\n",
        "      <th>2014-01-04</th>\n",
        "      <td>-0.986547</td>\n",
        "      <td>-0.397837</td>\n",
        "      <td>-1.974811</td>\n",
        "      <td> 0.193707</td>\n",
        "    </tr>\n",
        "    <tr>\n",
        "      <th>2014-01-05</th>\n",
        "      <td>-1.045425</td>\n",
        "      <td>-1.702407</td>\n",
        "      <td>-0.771558</td>\n",
        "      <td> 1.127067</td>\n",
        "    </tr>\n",
        "    <tr>\n",
        "      <th>2014-01-06</th>\n",
        "      <td> 1.707446</td>\n",
        "      <td>-0.803166</td>\n",
        "      <td> 1.841624</td>\n",
        "      <td>-0.287171</td>\n",
        "    </tr>\n",
        "  </tbody>\n",
        "</table>\n",
        "</div>"
       ],
       "metadata": {},
       "output_type": "pyout",
       "prompt_number": 290,
       "text": [
        "                   A         B         C         D\n",
        "2014-01-02 -1.171046 -2.794309  1.024830 -0.072379\n",
        "2014-01-03  0.593254 -0.956257  0.635809 -1.456324\n",
        "2014-01-04 -0.986547 -0.397837 -1.974811  0.193707\n",
        "2014-01-05 -1.045425 -1.702407 -0.771558  1.127067\n",
        "2014-01-06  1.707446 -0.803166  1.841624 -0.287171"
       ]
      }
     ],
     "prompt_number": 290
    },
    {
     "cell_type": "code",
     "collapsed": false,
     "input": [
      "df.index"
     ],
     "language": "python",
     "metadata": {},
     "outputs": [
      {
       "metadata": {},
       "output_type": "pyout",
       "prompt_number": 294,
       "text": [
        "<class 'pandas.tseries.index.DatetimeIndex'>\n",
        "[2014-01-01 00:00:00, ..., 2014-01-06 00:00:00]\n",
        "Length: 6, Freq: D, Timezone: None"
       ]
      }
     ],
     "prompt_number": 294
    },
    {
     "cell_type": "code",
     "collapsed": false,
     "input": [
      "df.describe()"
     ],
     "language": "python",
     "metadata": {},
     "outputs": [
      {
       "html": [
        "<div style=\"max-height:1000px;max-width:1500px;overflow:auto;\">\n",
        "<table border=\"1\" class=\"dataframe\">\n",
        "  <thead>\n",
        "    <tr style=\"text-align: right;\">\n",
        "      <th></th>\n",
        "      <th>A</th>\n",
        "      <th>B</th>\n",
        "      <th>C</th>\n",
        "      <th>D</th>\n",
        "    </tr>\n",
        "  </thead>\n",
        "  <tbody>\n",
        "    <tr>\n",
        "      <th>count</th>\n",
        "      <td> 6.000000</td>\n",
        "      <td> 6.000000</td>\n",
        "      <td> 6.000000</td>\n",
        "      <td> 6.000000</td>\n",
        "    </tr>\n",
        "    <tr>\n",
        "      <th>mean</th>\n",
        "      <td>-0.423514</td>\n",
        "      <td>-1.134546</td>\n",
        "      <td> 0.019499</td>\n",
        "      <td>-0.188136</td>\n",
        "    </tr>\n",
        "    <tr>\n",
        "      <th>std</th>\n",
        "      <td> 1.289514</td>\n",
        "      <td> 0.972056</td>\n",
        "      <td> 1.396224</td>\n",
        "      <td> 0.860885</td>\n",
        "    </tr>\n",
        "    <tr>\n",
        "      <th>min</th>\n",
        "      <td>-1.638768</td>\n",
        "      <td>-2.794309</td>\n",
        "      <td>-1.974811</td>\n",
        "      <td>-1.456324</td>\n",
        "    </tr>\n",
        "    <tr>\n",
        "      <th>25%</th>\n",
        "      <td>-1.139641</td>\n",
        "      <td>-1.515870</td>\n",
        "      <td>-0.738394</td>\n",
        "      <td>-0.547080</td>\n",
        "    </tr>\n",
        "    <tr>\n",
        "      <th>50%</th>\n",
        "      <td>-1.015986</td>\n",
        "      <td>-0.879712</td>\n",
        "      <td>-0.001546</td>\n",
        "      <td>-0.179775</td>\n",
        "    </tr>\n",
        "    <tr>\n",
        "      <th>75%</th>\n",
        "      <td> 0.198304</td>\n",
        "      <td>-0.499169</td>\n",
        "      <td> 0.927575</td>\n",
        "      <td> 0.127185</td>\n",
        "    </tr>\n",
        "    <tr>\n",
        "      <th>max</th>\n",
        "      <td> 1.707446</td>\n",
        "      <td>-0.153302</td>\n",
        "      <td> 1.841624</td>\n",
        "      <td> 1.127067</td>\n",
        "    </tr>\n",
        "  </tbody>\n",
        "</table>\n",
        "</div>"
       ],
       "metadata": {},
       "output_type": "pyout",
       "prompt_number": 297,
       "text": [
        "              A         B         C         D\n",
        "count  6.000000  6.000000  6.000000  6.000000\n",
        "mean  -0.423514 -1.134546  0.019499 -0.188136\n",
        "std    1.289514  0.972056  1.396224  0.860885\n",
        "min   -1.638768 -2.794309 -1.974811 -1.456324\n",
        "25%   -1.139641 -1.515870 -0.738394 -0.547080\n",
        "50%   -1.015986 -0.879712 -0.001546 -0.179775\n",
        "75%    0.198304 -0.499169  0.927575  0.127185\n",
        "max    1.707446 -0.153302  1.841624  1.127067"
       ]
      }
     ],
     "prompt_number": 297
    },
    {
     "cell_type": "code",
     "collapsed": false,
     "input": [
      "df.sort(columns='B')"
     ],
     "language": "python",
     "metadata": {},
     "outputs": [
      {
       "html": [
        "<div style=\"max-height:1000px;max-width:1500px;overflow:auto;\">\n",
        "<table border=\"1\" class=\"dataframe\">\n",
        "  <thead>\n",
        "    <tr style=\"text-align: right;\">\n",
        "      <th></th>\n",
        "      <th>A</th>\n",
        "      <th>B</th>\n",
        "      <th>C</th>\n",
        "      <th>D</th>\n",
        "    </tr>\n",
        "  </thead>\n",
        "  <tbody>\n",
        "    <tr>\n",
        "      <th>2014-01-02</th>\n",
        "      <td>-1.171046</td>\n",
        "      <td>-2.794309</td>\n",
        "      <td> 1.024830</td>\n",
        "      <td>-0.072379</td>\n",
        "    </tr>\n",
        "    <tr>\n",
        "      <th>2014-01-05</th>\n",
        "      <td>-1.045425</td>\n",
        "      <td>-1.702407</td>\n",
        "      <td>-0.771558</td>\n",
        "      <td> 1.127067</td>\n",
        "    </tr>\n",
        "    <tr>\n",
        "      <th>2014-01-03</th>\n",
        "      <td> 0.593254</td>\n",
        "      <td>-0.956257</td>\n",
        "      <td> 0.635809</td>\n",
        "      <td>-1.456324</td>\n",
        "    </tr>\n",
        "    <tr>\n",
        "      <th>2014-01-06</th>\n",
        "      <td> 1.707446</td>\n",
        "      <td>-0.803166</td>\n",
        "      <td> 1.841624</td>\n",
        "      <td>-0.287171</td>\n",
        "    </tr>\n",
        "    <tr>\n",
        "      <th>2014-01-04</th>\n",
        "      <td>-0.986547</td>\n",
        "      <td>-0.397837</td>\n",
        "      <td>-1.974811</td>\n",
        "      <td> 0.193707</td>\n",
        "    </tr>\n",
        "    <tr>\n",
        "      <th>2014-01-01</th>\n",
        "      <td>-1.638768</td>\n",
        "      <td>-0.153302</td>\n",
        "      <td>-0.638902</td>\n",
        "      <td>-0.633716</td>\n",
        "    </tr>\n",
        "  </tbody>\n",
        "</table>\n",
        "</div>"
       ],
       "metadata": {},
       "output_type": "pyout",
       "prompt_number": 298,
       "text": [
        "                   A         B         C         D\n",
        "2014-01-02 -1.171046 -2.794309  1.024830 -0.072379\n",
        "2014-01-05 -1.045425 -1.702407 -0.771558  1.127067\n",
        "2014-01-03  0.593254 -0.956257  0.635809 -1.456324\n",
        "2014-01-06  1.707446 -0.803166  1.841624 -0.287171\n",
        "2014-01-04 -0.986547 -0.397837 -1.974811  0.193707\n",
        "2014-01-01 -1.638768 -0.153302 -0.638902 -0.633716"
       ]
      }
     ],
     "prompt_number": 298
    },
    {
     "cell_type": "markdown",
     "metadata": {},
     "source": [
      "### Selection"
     ]
    },
    {
     "cell_type": "code",
     "collapsed": false,
     "input": [
      "df['A']"
     ],
     "language": "python",
     "metadata": {},
     "outputs": [
      {
       "metadata": {},
       "output_type": "pyout",
       "prompt_number": 299,
       "text": [
        "2014-01-01   -1.638768\n",
        "2014-01-02   -1.171046\n",
        "2014-01-03    0.593254\n",
        "2014-01-04   -0.986547\n",
        "2014-01-05   -1.045425\n",
        "2014-01-06    1.707446\n",
        "Freq: D, Name: A, dtype: float64"
       ]
      }
     ],
     "prompt_number": 299
    },
    {
     "cell_type": "code",
     "collapsed": false,
     "input": [
      "df[0:3]"
     ],
     "language": "python",
     "metadata": {},
     "outputs": [
      {
       "html": [
        "<div style=\"max-height:1000px;max-width:1500px;overflow:auto;\">\n",
        "<table border=\"1\" class=\"dataframe\">\n",
        "  <thead>\n",
        "    <tr style=\"text-align: right;\">\n",
        "      <th></th>\n",
        "      <th>A</th>\n",
        "      <th>B</th>\n",
        "      <th>C</th>\n",
        "      <th>D</th>\n",
        "    </tr>\n",
        "  </thead>\n",
        "  <tbody>\n",
        "    <tr>\n",
        "      <th>2014-01-01</th>\n",
        "      <td>-1.638768</td>\n",
        "      <td>-0.153302</td>\n",
        "      <td>-0.638902</td>\n",
        "      <td>-0.633716</td>\n",
        "    </tr>\n",
        "    <tr>\n",
        "      <th>2014-01-02</th>\n",
        "      <td>-1.171046</td>\n",
        "      <td>-2.794309</td>\n",
        "      <td> 1.024830</td>\n",
        "      <td>-0.072379</td>\n",
        "    </tr>\n",
        "    <tr>\n",
        "      <th>2014-01-03</th>\n",
        "      <td> 0.593254</td>\n",
        "      <td>-0.956257</td>\n",
        "      <td> 0.635809</td>\n",
        "      <td>-1.456324</td>\n",
        "    </tr>\n",
        "  </tbody>\n",
        "</table>\n",
        "</div>"
       ],
       "metadata": {},
       "output_type": "pyout",
       "prompt_number": 300,
       "text": [
        "                   A         B         C         D\n",
        "2014-01-01 -1.638768 -0.153302 -0.638902 -0.633716\n",
        "2014-01-02 -1.171046 -2.794309  1.024830 -0.072379\n",
        "2014-01-03  0.593254 -0.956257  0.635809 -1.456324"
       ]
      }
     ],
     "prompt_number": 300
    },
    {
     "cell_type": "code",
     "collapsed": false,
     "input": [
      "# By label\n",
      "df.loc[dates[0]]"
     ],
     "language": "python",
     "metadata": {},
     "outputs": [
      {
       "metadata": {},
       "output_type": "pyout",
       "prompt_number": 301,
       "text": [
        "A   -1.638768\n",
        "B   -0.153302\n",
        "C   -0.638902\n",
        "D   -0.633716\n",
        "Name: 2014-01-01 00:00:00, dtype: float64"
       ]
      }
     ],
     "prompt_number": 301
    },
    {
     "cell_type": "code",
     "collapsed": false,
     "input": [
      "# multi-axis by label\n",
      "df.loc[:,['A','B']]"
     ],
     "language": "python",
     "metadata": {},
     "outputs": [
      {
       "html": [
        "<div style=\"max-height:1000px;max-width:1500px;overflow:auto;\">\n",
        "<table border=\"1\" class=\"dataframe\">\n",
        "  <thead>\n",
        "    <tr style=\"text-align: right;\">\n",
        "      <th></th>\n",
        "      <th>A</th>\n",
        "      <th>B</th>\n",
        "    </tr>\n",
        "  </thead>\n",
        "  <tbody>\n",
        "    <tr>\n",
        "      <th>2014-01-01</th>\n",
        "      <td>-1.638768</td>\n",
        "      <td>-0.153302</td>\n",
        "    </tr>\n",
        "    <tr>\n",
        "      <th>2014-01-02</th>\n",
        "      <td>-1.171046</td>\n",
        "      <td>-2.794309</td>\n",
        "    </tr>\n",
        "    <tr>\n",
        "      <th>2014-01-03</th>\n",
        "      <td> 0.593254</td>\n",
        "      <td>-0.956257</td>\n",
        "    </tr>\n",
        "    <tr>\n",
        "      <th>2014-01-04</th>\n",
        "      <td>-0.986547</td>\n",
        "      <td>-0.397837</td>\n",
        "    </tr>\n",
        "    <tr>\n",
        "      <th>2014-01-05</th>\n",
        "      <td>-1.045425</td>\n",
        "      <td>-1.702407</td>\n",
        "    </tr>\n",
        "    <tr>\n",
        "      <th>2014-01-06</th>\n",
        "      <td> 1.707446</td>\n",
        "      <td>-0.803166</td>\n",
        "    </tr>\n",
        "  </tbody>\n",
        "</table>\n",
        "</div>"
       ],
       "metadata": {},
       "output_type": "pyout",
       "prompt_number": 303,
       "text": [
        "                   A         B\n",
        "2014-01-01 -1.638768 -0.153302\n",
        "2014-01-02 -1.171046 -2.794309\n",
        "2014-01-03  0.593254 -0.956257\n",
        "2014-01-04 -0.986547 -0.397837\n",
        "2014-01-05 -1.045425 -1.702407\n",
        "2014-01-06  1.707446 -0.803166"
       ]
      }
     ],
     "prompt_number": 303
    },
    {
     "cell_type": "code",
     "collapsed": false,
     "input": [
      "# Date Range\n",
      "df.loc['20140102':'20140104',['B']]"
     ],
     "language": "python",
     "metadata": {},
     "outputs": [
      {
       "html": [
        "<div style=\"max-height:1000px;max-width:1500px;overflow:auto;\">\n",
        "<table border=\"1\" class=\"dataframe\">\n",
        "  <thead>\n",
        "    <tr style=\"text-align: right;\">\n",
        "      <th></th>\n",
        "      <th>B</th>\n",
        "    </tr>\n",
        "  </thead>\n",
        "  <tbody>\n",
        "    <tr>\n",
        "      <th>2014-01-02</th>\n",
        "      <td>-2.794309</td>\n",
        "    </tr>\n",
        "    <tr>\n",
        "      <th>2014-01-03</th>\n",
        "      <td>-0.956257</td>\n",
        "    </tr>\n",
        "    <tr>\n",
        "      <th>2014-01-04</th>\n",
        "      <td>-0.397837</td>\n",
        "    </tr>\n",
        "  </tbody>\n",
        "</table>\n",
        "</div>"
       ],
       "metadata": {},
       "output_type": "pyout",
       "prompt_number": 305,
       "text": [
        "                   B\n",
        "2014-01-02 -2.794309\n",
        "2014-01-03 -0.956257\n",
        "2014-01-04 -0.397837"
       ]
      }
     ],
     "prompt_number": 305
    },
    {
     "cell_type": "code",
     "collapsed": false,
     "input": [
      "# Fast access to scalar\n",
      "df.at[dates[1],'B']"
     ],
     "language": "python",
     "metadata": {},
     "outputs": [
      {
       "metadata": {},
       "output_type": "pyout",
       "prompt_number": 309,
       "text": [
        "-2.7943091291880706"
       ]
      }
     ],
     "prompt_number": 309
    },
    {
     "cell_type": "code",
     "collapsed": false,
     "input": [
      "# iloc provides integer locations similar to np style\n"
     ],
     "language": "python",
     "metadata": {},
     "outputs": []
    },
    {
     "cell_type": "markdown",
     "metadata": {},
     "source": [
      "#### Boolean Indexing"
     ]
    },
    {
     "cell_type": "code",
     "collapsed": false,
     "input": [
      "df[df.A < 0] # Basically a 'where' operation"
     ],
     "language": "python",
     "metadata": {},
     "outputs": [
      {
       "html": [
        "<div style=\"max-height:1000px;max-width:1500px;overflow:auto;\">\n",
        "<table border=\"1\" class=\"dataframe\">\n",
        "  <thead>\n",
        "    <tr style=\"text-align: right;\">\n",
        "      <th></th>\n",
        "      <th>A</th>\n",
        "      <th>B</th>\n",
        "      <th>C</th>\n",
        "      <th>D</th>\n",
        "    </tr>\n",
        "  </thead>\n",
        "  <tbody>\n",
        "    <tr>\n",
        "      <th>2014-01-05</th>\n",
        "      <td>-0.161297</td>\n",
        "      <td> 1.443703</td>\n",
        "      <td> 0.898231</td>\n",
        "      <td> 0.517640</td>\n",
        "    </tr>\n",
        "    <tr>\n",
        "      <th>2014-01-06</th>\n",
        "      <td>-1.946243</td>\n",
        "      <td>-0.373042</td>\n",
        "      <td> 0.283359</td>\n",
        "      <td> 1.172916</td>\n",
        "    </tr>\n",
        "  </tbody>\n",
        "</table>\n",
        "</div>"
       ],
       "metadata": {},
       "output_type": "pyout",
       "prompt_number": 339,
       "text": [
        "                   A         B         C         D\n",
        "2014-01-05 -0.161297  1.443703  0.898231  0.517640\n",
        "2014-01-06 -1.946243 -0.373042  0.283359  1.172916"
       ]
      }
     ],
     "prompt_number": 339
    },
    {
     "cell_type": "markdown",
     "metadata": {},
     "source": [
      "#### Setting"
     ]
    },
    {
     "cell_type": "code",
     "collapsed": false,
     "input": [
      "df_posA = df.copy() # Without \"copy\" it would act on the dataset\n",
      "df_posA[df_posA.A < 0] = -1*df_posA"
     ],
     "language": "python",
     "metadata": {},
     "outputs": [],
     "prompt_number": 336
    },
    {
     "cell_type": "code",
     "collapsed": false,
     "input": [
      "df_posA"
     ],
     "language": "python",
     "metadata": {},
     "outputs": [
      {
       "html": [
        "<div style=\"max-height:1000px;max-width:1500px;overflow:auto;\">\n",
        "<table border=\"1\" class=\"dataframe\">\n",
        "  <thead>\n",
        "    <tr style=\"text-align: right;\">\n",
        "      <th></th>\n",
        "      <th>A</th>\n",
        "      <th>B</th>\n",
        "      <th>C</th>\n",
        "      <th>D</th>\n",
        "    </tr>\n",
        "  </thead>\n",
        "  <tbody>\n",
        "    <tr>\n",
        "      <th>2014-01-01</th>\n",
        "      <td> 0.092012</td>\n",
        "      <td> 0.289425</td>\n",
        "      <td>-1.446330</td>\n",
        "      <td>-1.054168</td>\n",
        "    </tr>\n",
        "    <tr>\n",
        "      <th>2014-01-02</th>\n",
        "      <td> 0.425924</td>\n",
        "      <td> 0.054468</td>\n",
        "      <td>-0.841952</td>\n",
        "      <td>-1.847320</td>\n",
        "    </tr>\n",
        "    <tr>\n",
        "      <th>2014-01-03</th>\n",
        "      <td> 0.896311</td>\n",
        "      <td> 0.812587</td>\n",
        "      <td> 1.315605</td>\n",
        "      <td> 1.122973</td>\n",
        "    </tr>\n",
        "    <tr>\n",
        "      <th>2014-01-04</th>\n",
        "      <td> 2.156206</td>\n",
        "      <td> 2.616102</td>\n",
        "      <td>-1.952430</td>\n",
        "      <td>-0.583147</td>\n",
        "    </tr>\n",
        "    <tr>\n",
        "      <th>2014-01-05</th>\n",
        "      <td> 0.161297</td>\n",
        "      <td>-1.443703</td>\n",
        "      <td>-0.898231</td>\n",
        "      <td>-0.517640</td>\n",
        "    </tr>\n",
        "    <tr>\n",
        "      <th>2014-01-06</th>\n",
        "      <td> 1.946243</td>\n",
        "      <td> 0.373042</td>\n",
        "      <td>-0.283359</td>\n",
        "      <td>-1.172916</td>\n",
        "    </tr>\n",
        "  </tbody>\n",
        "</table>\n",
        "</div>"
       ],
       "metadata": {},
       "output_type": "pyout",
       "prompt_number": 338,
       "text": [
        "                   A         B         C         D\n",
        "2014-01-01  0.092012  0.289425 -1.446330 -1.054168\n",
        "2014-01-02  0.425924  0.054468 -0.841952 -1.847320\n",
        "2014-01-03  0.896311  0.812587  1.315605  1.122973\n",
        "2014-01-04  2.156206  2.616102 -1.952430 -0.583147\n",
        "2014-01-05  0.161297 -1.443703 -0.898231 -0.517640\n",
        "2014-01-06  1.946243  0.373042 -0.283359 -1.172916"
       ]
      }
     ],
     "prompt_number": 338
    },
    {
     "cell_type": "code",
     "collapsed": false,
     "input": [
      "#Setting new column aligns data by index\n",
      "s1 = pd.Series([1,2,3,4,5,6],index=pd.date_range('20140102',periods=6))"
     ],
     "language": "python",
     "metadata": {},
     "outputs": [],
     "prompt_number": 350
    },
    {
     "cell_type": "code",
     "collapsed": false,
     "input": [
      "s1"
     ],
     "language": "python",
     "metadata": {},
     "outputs": [
      {
       "metadata": {},
       "output_type": "pyout",
       "prompt_number": 351,
       "text": [
        "2014-01-02    1\n",
        "2014-01-03    2\n",
        "2014-01-04    3\n",
        "2014-01-05    4\n",
        "2014-01-06    5\n",
        "2014-01-07    6\n",
        "Freq: D, dtype: int64"
       ]
      }
     ],
     "prompt_number": 351
    },
    {
     "cell_type": "code",
     "collapsed": false,
     "input": [
      "df['F'] = s1"
     ],
     "language": "python",
     "metadata": {},
     "outputs": [],
     "prompt_number": 352
    },
    {
     "cell_type": "code",
     "collapsed": false,
     "input": [
      "df"
     ],
     "language": "python",
     "metadata": {},
     "outputs": [
      {
       "html": [
        "<div style=\"max-height:1000px;max-width:1500px;overflow:auto;\">\n",
        "<table border=\"1\" class=\"dataframe\">\n",
        "  <thead>\n",
        "    <tr style=\"text-align: right;\">\n",
        "      <th></th>\n",
        "      <th>A</th>\n",
        "      <th>B</th>\n",
        "      <th>C</th>\n",
        "      <th>D</th>\n",
        "      <th>F</th>\n",
        "    </tr>\n",
        "  </thead>\n",
        "  <tbody>\n",
        "    <tr>\n",
        "      <th>2014-01-01</th>\n",
        "      <td> 0.092012</td>\n",
        "      <td> 0.289425</td>\n",
        "      <td>-1.446330</td>\n",
        "      <td>-1.054168</td>\n",
        "      <td>NaN</td>\n",
        "    </tr>\n",
        "    <tr>\n",
        "      <th>2014-01-02</th>\n",
        "      <td> 0.425924</td>\n",
        "      <td> 0.054468</td>\n",
        "      <td>-0.841952</td>\n",
        "      <td>-1.847320</td>\n",
        "      <td>  1</td>\n",
        "    </tr>\n",
        "    <tr>\n",
        "      <th>2014-01-03</th>\n",
        "      <td> 0.896311</td>\n",
        "      <td> 0.812587</td>\n",
        "      <td> 1.315605</td>\n",
        "      <td> 1.122973</td>\n",
        "      <td>  2</td>\n",
        "    </tr>\n",
        "    <tr>\n",
        "      <th>2014-01-04</th>\n",
        "      <td> 2.156206</td>\n",
        "      <td> 2.616102</td>\n",
        "      <td>-1.952430</td>\n",
        "      <td>-0.583147</td>\n",
        "      <td>  3</td>\n",
        "    </tr>\n",
        "    <tr>\n",
        "      <th>2014-01-05</th>\n",
        "      <td>-0.161297</td>\n",
        "      <td> 1.443703</td>\n",
        "      <td> 0.898231</td>\n",
        "      <td> 0.517640</td>\n",
        "      <td>  4</td>\n",
        "    </tr>\n",
        "    <tr>\n",
        "      <th>2014-01-06</th>\n",
        "      <td>-1.946243</td>\n",
        "      <td>-0.373042</td>\n",
        "      <td> 0.283359</td>\n",
        "      <td> 1.172916</td>\n",
        "      <td>  5</td>\n",
        "    </tr>\n",
        "  </tbody>\n",
        "</table>\n",
        "</div>"
       ],
       "metadata": {},
       "output_type": "pyout",
       "prompt_number": 353,
       "text": [
        "                   A         B         C         D   F\n",
        "2014-01-01  0.092012  0.289425 -1.446330 -1.054168 NaN\n",
        "2014-01-02  0.425924  0.054468 -0.841952 -1.847320   1\n",
        "2014-01-03  0.896311  0.812587  1.315605  1.122973   2\n",
        "2014-01-04  2.156206  2.616102 -1.952430 -0.583147   3\n",
        "2014-01-05 -0.161297  1.443703  0.898231  0.517640   4\n",
        "2014-01-06 -1.946243 -0.373042  0.283359  1.172916   5"
       ]
      }
     ],
     "prompt_number": 353
    },
    {
     "cell_type": "markdown",
     "metadata": {},
     "source": [
      "### Missing Data"
     ]
    },
    {
     "cell_type": "code",
     "collapsed": false,
     "input": [],
     "language": "python",
     "metadata": {},
     "outputs": []
    },
    {
     "cell_type": "code",
     "collapsed": false,
     "input": [
      "# Add a column with missing data\n",
      "df1 = df.reindex(index=dates[0:4],columns=list(df.columns) + ['E'])"
     ],
     "language": "python",
     "metadata": {},
     "outputs": [],
     "prompt_number": 354
    },
    {
     "cell_type": "code",
     "collapsed": false,
     "input": [
      "df1.loc[dates[0]:dates[1],'E'] = 1"
     ],
     "language": "python",
     "metadata": {},
     "outputs": [],
     "prompt_number": 355
    },
    {
     "cell_type": "code",
     "collapsed": false,
     "input": [
      "df1"
     ],
     "language": "python",
     "metadata": {},
     "outputs": [
      {
       "html": [
        "<div style=\"max-height:1000px;max-width:1500px;overflow:auto;\">\n",
        "<table border=\"1\" class=\"dataframe\">\n",
        "  <thead>\n",
        "    <tr style=\"text-align: right;\">\n",
        "      <th></th>\n",
        "      <th>A</th>\n",
        "      <th>B</th>\n",
        "      <th>C</th>\n",
        "      <th>D</th>\n",
        "      <th>F</th>\n",
        "      <th>E</th>\n",
        "    </tr>\n",
        "  </thead>\n",
        "  <tbody>\n",
        "    <tr>\n",
        "      <th>2014-01-01</th>\n",
        "      <td> 0.092012</td>\n",
        "      <td> 0.289425</td>\n",
        "      <td>-1.446330</td>\n",
        "      <td>-1.054168</td>\n",
        "      <td>NaN</td>\n",
        "      <td>  1</td>\n",
        "    </tr>\n",
        "    <tr>\n",
        "      <th>2014-01-02</th>\n",
        "      <td> 0.425924</td>\n",
        "      <td> 0.054468</td>\n",
        "      <td>-0.841952</td>\n",
        "      <td>-1.847320</td>\n",
        "      <td>  1</td>\n",
        "      <td>  1</td>\n",
        "    </tr>\n",
        "    <tr>\n",
        "      <th>2014-01-03</th>\n",
        "      <td> 0.896311</td>\n",
        "      <td> 0.812587</td>\n",
        "      <td> 1.315605</td>\n",
        "      <td> 1.122973</td>\n",
        "      <td>  2</td>\n",
        "      <td>NaN</td>\n",
        "    </tr>\n",
        "    <tr>\n",
        "      <th>2014-01-04</th>\n",
        "      <td> 2.156206</td>\n",
        "      <td> 2.616102</td>\n",
        "      <td>-1.952430</td>\n",
        "      <td>-0.583147</td>\n",
        "      <td>  3</td>\n",
        "      <td>NaN</td>\n",
        "    </tr>\n",
        "  </tbody>\n",
        "</table>\n",
        "</div>"
       ],
       "metadata": {},
       "output_type": "pyout",
       "prompt_number": 356,
       "text": [
        "                   A         B         C         D   F   E\n",
        "2014-01-01  0.092012  0.289425 -1.446330 -1.054168 NaN   1\n",
        "2014-01-02  0.425924  0.054468 -0.841952 -1.847320   1   1\n",
        "2014-01-03  0.896311  0.812587  1.315605  1.122973   2 NaN\n",
        "2014-01-04  2.156206  2.616102 -1.952430 -0.583147   3 NaN"
       ]
      }
     ],
     "prompt_number": 356
    },
    {
     "cell_type": "code",
     "collapsed": false,
     "input": [
      "# find where values are null\n",
      "pd.isnull(df1)"
     ],
     "language": "python",
     "metadata": {},
     "outputs": [
      {
       "html": [
        "<div style=\"max-height:1000px;max-width:1500px;overflow:auto;\">\n",
        "<table border=\"1\" class=\"dataframe\">\n",
        "  <thead>\n",
        "    <tr style=\"text-align: right;\">\n",
        "      <th></th>\n",
        "      <th>A</th>\n",
        "      <th>B</th>\n",
        "      <th>C</th>\n",
        "      <th>D</th>\n",
        "      <th>F</th>\n",
        "      <th>E</th>\n",
        "    </tr>\n",
        "  </thead>\n",
        "  <tbody>\n",
        "    <tr>\n",
        "      <th>2014-01-01</th>\n",
        "      <td> False</td>\n",
        "      <td> False</td>\n",
        "      <td> False</td>\n",
        "      <td> False</td>\n",
        "      <td>  True</td>\n",
        "      <td> False</td>\n",
        "    </tr>\n",
        "    <tr>\n",
        "      <th>2014-01-02</th>\n",
        "      <td> False</td>\n",
        "      <td> False</td>\n",
        "      <td> False</td>\n",
        "      <td> False</td>\n",
        "      <td> False</td>\n",
        "      <td> False</td>\n",
        "    </tr>\n",
        "    <tr>\n",
        "      <th>2014-01-03</th>\n",
        "      <td> False</td>\n",
        "      <td> False</td>\n",
        "      <td> False</td>\n",
        "      <td> False</td>\n",
        "      <td> False</td>\n",
        "      <td>  True</td>\n",
        "    </tr>\n",
        "    <tr>\n",
        "      <th>2014-01-04</th>\n",
        "      <td> False</td>\n",
        "      <td> False</td>\n",
        "      <td> False</td>\n",
        "      <td> False</td>\n",
        "      <td> False</td>\n",
        "      <td>  True</td>\n",
        "    </tr>\n",
        "  </tbody>\n",
        "</table>\n",
        "</div>"
       ],
       "metadata": {},
       "output_type": "pyout",
       "prompt_number": 357,
       "text": [
        "                A      B      C      D      F      E\n",
        "2014-01-01  False  False  False  False   True  False\n",
        "2014-01-02  False  False  False  False  False  False\n",
        "2014-01-03  False  False  False  False  False   True\n",
        "2014-01-04  False  False  False  False  False   True"
       ]
      }
     ],
     "prompt_number": 357
    },
    {
     "cell_type": "markdown",
     "metadata": {},
     "source": [
      "### Operations"
     ]
    },
    {
     "cell_type": "code",
     "collapsed": false,
     "input": [
      "df.describe()"
     ],
     "language": "python",
     "metadata": {},
     "outputs": [
      {
       "html": [
        "<div style=\"max-height:1000px;max-width:1500px;overflow:auto;\">\n",
        "<table border=\"1\" class=\"dataframe\">\n",
        "  <thead>\n",
        "    <tr style=\"text-align: right;\">\n",
        "      <th></th>\n",
        "      <th>A</th>\n",
        "      <th>B</th>\n",
        "      <th>C</th>\n",
        "      <th>D</th>\n",
        "      <th>F</th>\n",
        "    </tr>\n",
        "  </thead>\n",
        "  <tbody>\n",
        "    <tr>\n",
        "      <th>count</th>\n",
        "      <td> 6.000000</td>\n",
        "      <td> 6.000000</td>\n",
        "      <td> 6.000000</td>\n",
        "      <td> 6.000000</td>\n",
        "      <td> 5.000000</td>\n",
        "    </tr>\n",
        "    <tr>\n",
        "      <th>mean</th>\n",
        "      <td> 0.243819</td>\n",
        "      <td> 0.807207</td>\n",
        "      <td>-0.290586</td>\n",
        "      <td>-0.111851</td>\n",
        "      <td> 3.000000</td>\n",
        "    </tr>\n",
        "    <tr>\n",
        "      <th>std</th>\n",
        "      <td> 1.349049</td>\n",
        "      <td> 1.086734</td>\n",
        "      <td> 1.320910</td>\n",
        "      <td> 1.240452</td>\n",
        "      <td> 1.581139</td>\n",
        "    </tr>\n",
        "    <tr>\n",
        "      <th>min</th>\n",
        "      <td>-1.946243</td>\n",
        "      <td>-0.373042</td>\n",
        "      <td>-1.952430</td>\n",
        "      <td>-1.847320</td>\n",
        "      <td> 1.000000</td>\n",
        "    </tr>\n",
        "    <tr>\n",
        "      <th>25%</th>\n",
        "      <td>-0.097970</td>\n",
        "      <td> 0.113208</td>\n",
        "      <td>-1.295236</td>\n",
        "      <td>-0.936412</td>\n",
        "      <td> 2.000000</td>\n",
        "    </tr>\n",
        "    <tr>\n",
        "      <th>50%</th>\n",
        "      <td> 0.258968</td>\n",
        "      <td> 0.551006</td>\n",
        "      <td>-0.279296</td>\n",
        "      <td>-0.032753</td>\n",
        "      <td> 3.000000</td>\n",
        "    </tr>\n",
        "    <tr>\n",
        "      <th>75%</th>\n",
        "      <td> 0.778715</td>\n",
        "      <td> 1.285924</td>\n",
        "      <td> 0.744513</td>\n",
        "      <td> 0.971640</td>\n",
        "      <td> 4.000000</td>\n",
        "    </tr>\n",
        "    <tr>\n",
        "      <th>max</th>\n",
        "      <td> 2.156206</td>\n",
        "      <td> 2.616102</td>\n",
        "      <td> 1.315605</td>\n",
        "      <td> 1.172916</td>\n",
        "      <td> 5.000000</td>\n",
        "    </tr>\n",
        "  </tbody>\n",
        "</table>\n",
        "</div>"
       ],
       "metadata": {},
       "output_type": "pyout",
       "prompt_number": 358,
       "text": [
        "              A         B         C         D         F\n",
        "count  6.000000  6.000000  6.000000  6.000000  5.000000\n",
        "mean   0.243819  0.807207 -0.290586 -0.111851  3.000000\n",
        "std    1.349049  1.086734  1.320910  1.240452  1.581139\n",
        "min   -1.946243 -0.373042 -1.952430 -1.847320  1.000000\n",
        "25%   -0.097970  0.113208 -1.295236 -0.936412  2.000000\n",
        "50%    0.258968  0.551006 -0.279296 -0.032753  3.000000\n",
        "75%    0.778715  1.285924  0.744513  0.971640  4.000000\n",
        "max    2.156206  2.616102  1.315605  1.172916  5.000000"
       ]
      }
     ],
     "prompt_number": 358
    },
    {
     "cell_type": "code",
     "collapsed": false,
     "input": [
      "df.mean(),df.mean(1) # Operation on two different axes"
     ],
     "language": "python",
     "metadata": {},
     "outputs": [
      {
       "metadata": {},
       "output_type": "pyout",
       "prompt_number": 359,
       "text": [
        "(A    0.243819\n",
        "B    0.807207\n",
        "C   -0.290586\n",
        "D   -0.111851\n",
        "F    3.000000\n",
        "dtype: float64,\n",
        " 2014-01-01   -0.529765\n",
        "2014-01-02   -0.241776\n",
        "2014-01-03    1.229495\n",
        "2014-01-04    1.047346\n",
        "2014-01-05    1.339656\n",
        "2014-01-06    0.827398\n",
        "Freq: D, dtype: float64)"
       ]
      }
     ],
     "prompt_number": 359
    },
    {
     "cell_type": "markdown",
     "metadata": {},
     "source": [
      "### Applying functions"
     ]
    },
    {
     "cell_type": "code",
     "collapsed": false,
     "input": [
      "df"
     ],
     "language": "python",
     "metadata": {},
     "outputs": [
      {
       "html": [
        "<div style=\"max-height:1000px;max-width:1500px;overflow:auto;\">\n",
        "<table border=\"1\" class=\"dataframe\">\n",
        "  <thead>\n",
        "    <tr style=\"text-align: right;\">\n",
        "      <th></th>\n",
        "      <th>A</th>\n",
        "      <th>B</th>\n",
        "      <th>C</th>\n",
        "      <th>D</th>\n",
        "      <th>F</th>\n",
        "    </tr>\n",
        "  </thead>\n",
        "  <tbody>\n",
        "    <tr>\n",
        "      <th>2014-01-01</th>\n",
        "      <td> 0.092012</td>\n",
        "      <td> 0.289425</td>\n",
        "      <td>-1.446330</td>\n",
        "      <td>-1.054168</td>\n",
        "      <td>NaN</td>\n",
        "    </tr>\n",
        "    <tr>\n",
        "      <th>2014-01-02</th>\n",
        "      <td> 0.425924</td>\n",
        "      <td> 0.054468</td>\n",
        "      <td>-0.841952</td>\n",
        "      <td>-1.847320</td>\n",
        "      <td>  1</td>\n",
        "    </tr>\n",
        "    <tr>\n",
        "      <th>2014-01-03</th>\n",
        "      <td> 0.896311</td>\n",
        "      <td> 0.812587</td>\n",
        "      <td> 1.315605</td>\n",
        "      <td> 1.122973</td>\n",
        "      <td>  2</td>\n",
        "    </tr>\n",
        "    <tr>\n",
        "      <th>2014-01-04</th>\n",
        "      <td> 2.156206</td>\n",
        "      <td> 2.616102</td>\n",
        "      <td>-1.952430</td>\n",
        "      <td>-0.583147</td>\n",
        "      <td>  3</td>\n",
        "    </tr>\n",
        "    <tr>\n",
        "      <th>2014-01-05</th>\n",
        "      <td>-0.161297</td>\n",
        "      <td> 1.443703</td>\n",
        "      <td> 0.898231</td>\n",
        "      <td> 0.517640</td>\n",
        "      <td>  4</td>\n",
        "    </tr>\n",
        "    <tr>\n",
        "      <th>2014-01-06</th>\n",
        "      <td>-1.946243</td>\n",
        "      <td>-0.373042</td>\n",
        "      <td> 0.283359</td>\n",
        "      <td> 1.172916</td>\n",
        "      <td>  5</td>\n",
        "    </tr>\n",
        "  </tbody>\n",
        "</table>\n",
        "</div>"
       ],
       "metadata": {},
       "output_type": "pyout",
       "prompt_number": 361,
       "text": [
        "                   A         B         C         D   F\n",
        "2014-01-01  0.092012  0.289425 -1.446330 -1.054168 NaN\n",
        "2014-01-02  0.425924  0.054468 -0.841952 -1.847320   1\n",
        "2014-01-03  0.896311  0.812587  1.315605  1.122973   2\n",
        "2014-01-04  2.156206  2.616102 -1.952430 -0.583147   3\n",
        "2014-01-05 -0.161297  1.443703  0.898231  0.517640   4\n",
        "2014-01-06 -1.946243 -0.373042  0.283359  1.172916   5"
       ]
      }
     ],
     "prompt_number": 361
    },
    {
     "cell_type": "code",
     "collapsed": false,
     "input": [
      "df.apply(np.cumsum)"
     ],
     "language": "python",
     "metadata": {},
     "outputs": [
      {
       "html": [
        "<div style=\"max-height:1000px;max-width:1500px;overflow:auto;\">\n",
        "<table border=\"1\" class=\"dataframe\">\n",
        "  <thead>\n",
        "    <tr style=\"text-align: right;\">\n",
        "      <th></th>\n",
        "      <th>A</th>\n",
        "      <th>B</th>\n",
        "      <th>C</th>\n",
        "      <th>D</th>\n",
        "      <th>F</th>\n",
        "    </tr>\n",
        "  </thead>\n",
        "  <tbody>\n",
        "    <tr>\n",
        "      <th>2014-01-01</th>\n",
        "      <td> 0.092012</td>\n",
        "      <td> 0.289425</td>\n",
        "      <td>-1.446330</td>\n",
        "      <td>-1.054168</td>\n",
        "      <td>NaN</td>\n",
        "    </tr>\n",
        "    <tr>\n",
        "      <th>2014-01-02</th>\n",
        "      <td> 0.517936</td>\n",
        "      <td> 0.343894</td>\n",
        "      <td>-2.288282</td>\n",
        "      <td>-2.901488</td>\n",
        "      <td>  1</td>\n",
        "    </tr>\n",
        "    <tr>\n",
        "      <th>2014-01-03</th>\n",
        "      <td> 1.414247</td>\n",
        "      <td> 1.156481</td>\n",
        "      <td>-0.972677</td>\n",
        "      <td>-1.778515</td>\n",
        "      <td>  3</td>\n",
        "    </tr>\n",
        "    <tr>\n",
        "      <th>2014-01-04</th>\n",
        "      <td> 3.570453</td>\n",
        "      <td> 3.772583</td>\n",
        "      <td>-2.925107</td>\n",
        "      <td>-2.361662</td>\n",
        "      <td>  6</td>\n",
        "    </tr>\n",
        "    <tr>\n",
        "      <th>2014-01-05</th>\n",
        "      <td> 3.409156</td>\n",
        "      <td> 5.216286</td>\n",
        "      <td>-2.026876</td>\n",
        "      <td>-1.844021</td>\n",
        "      <td> 10</td>\n",
        "    </tr>\n",
        "    <tr>\n",
        "      <th>2014-01-06</th>\n",
        "      <td> 1.462913</td>\n",
        "      <td> 4.843244</td>\n",
        "      <td>-1.743517</td>\n",
        "      <td>-0.671105</td>\n",
        "      <td> 15</td>\n",
        "    </tr>\n",
        "  </tbody>\n",
        "</table>\n",
        "</div>"
       ],
       "metadata": {},
       "output_type": "pyout",
       "prompt_number": 360,
       "text": [
        "                   A         B         C         D   F\n",
        "2014-01-01  0.092012  0.289425 -1.446330 -1.054168 NaN\n",
        "2014-01-02  0.517936  0.343894 -2.288282 -2.901488   1\n",
        "2014-01-03  1.414247  1.156481 -0.972677 -1.778515   3\n",
        "2014-01-04  3.570453  3.772583 -2.925107 -2.361662   6\n",
        "2014-01-05  3.409156  5.216286 -2.026876 -1.844021  10\n",
        "2014-01-06  1.462913  4.843244 -1.743517 -0.671105  15"
       ]
      }
     ],
     "prompt_number": 360
    },
    {
     "cell_type": "code",
     "collapsed": false,
     "input": [
      "df.apply(lambda x: x.max() - x.min())"
     ],
     "language": "python",
     "metadata": {},
     "outputs": [
      {
       "metadata": {},
       "output_type": "pyout",
       "prompt_number": 364,
       "text": [
        "A    4.102449\n",
        "B    2.989144\n",
        "C    3.268035\n",
        "D    3.020236\n",
        "F    4.000000\n",
        "dtype: float64"
       ]
      }
     ],
     "prompt_number": 364
    },
    {
     "cell_type": "code",
     "collapsed": false,
     "input": [
      "# Built in string methods\n",
      "s = pd.Series(['A', 'B', 'C', 'Aaba', 'Baca', np.nan, 'CABA', 'dog', 'cat'])\n",
      "s.str.lower()"
     ],
     "language": "python",
     "metadata": {},
     "outputs": [
      {
       "metadata": {},
       "output_type": "pyout",
       "prompt_number": 366,
       "text": [
        "0       a\n",
        "1       b\n",
        "2       c\n",
        "3    aaba\n",
        "4    baca\n",
        "5     NaN\n",
        "6    caba\n",
        "7     dog\n",
        "8     cat\n",
        "dtype: object"
       ]
      }
     ],
     "prompt_number": 366
    },
    {
     "cell_type": "markdown",
     "metadata": {},
     "source": [
      "###Merge"
     ]
    },
    {
     "cell_type": "code",
     "collapsed": false,
     "input": [
      "np.random.randn(10,4)"
     ],
     "language": "python",
     "metadata": {},
     "outputs": [
      {
       "metadata": {},
       "output_type": "pyout",
       "prompt_number": 369,
       "text": [
        "array([[ 1.06756343, -0.27750476,  0.09007151,  0.85741846],\n",
        "       [ 0.67555253,  0.26868297,  1.05907513,  0.3255796 ],\n",
        "       [-1.60406388, -1.0549946 ,  0.18161779,  0.54924829],\n",
        "       [-0.04703764,  1.37497326, -0.85127029, -1.16847953],\n",
        "       [ 1.03051451, -0.69434066,  0.15950188, -0.10308175],\n",
        "       [-1.25378243,  0.47951947,  0.2400603 , -0.42187864],\n",
        "       [ 2.35718768, -0.16294095, -1.69670385, -0.96915588],\n",
        "       [-1.71428535,  1.73814213, -0.61513275,  0.58989624],\n",
        "       [-0.65082505,  0.29139859,  0.55302535, -0.5790225 ],\n",
        "       [ 0.07373155, -0.29606363, -0.75085047,  1.23123096]])"
       ]
      }
     ],
     "prompt_number": 369
    },
    {
     "cell_type": "code",
     "collapsed": false,
     "input": [
      "#Concatenating pandas objects together\n",
      "df = pd.DataFrame(np.random.randn(10,4))\n",
      "df"
     ],
     "language": "python",
     "metadata": {},
     "outputs": [
      {
       "html": [
        "<div style=\"max-height:1000px;max-width:1500px;overflow:auto;\">\n",
        "<table border=\"1\" class=\"dataframe\">\n",
        "  <thead>\n",
        "    <tr style=\"text-align: right;\">\n",
        "      <th></th>\n",
        "      <th>0</th>\n",
        "      <th>1</th>\n",
        "      <th>2</th>\n",
        "      <th>3</th>\n",
        "    </tr>\n",
        "  </thead>\n",
        "  <tbody>\n",
        "    <tr>\n",
        "      <th>0</th>\n",
        "      <td> 0.860264</td>\n",
        "      <td> 1.531629</td>\n",
        "      <td> 1.618960</td>\n",
        "      <td>-0.192698</td>\n",
        "    </tr>\n",
        "    <tr>\n",
        "      <th>1</th>\n",
        "      <td> 2.936288</td>\n",
        "      <td>-0.008326</td>\n",
        "      <td>-0.723860</td>\n",
        "      <td> 1.969129</td>\n",
        "    </tr>\n",
        "    <tr>\n",
        "      <th>2</th>\n",
        "      <td>-0.691792</td>\n",
        "      <td>-1.220787</td>\n",
        "      <td> 0.894371</td>\n",
        "      <td> 1.341702</td>\n",
        "    </tr>\n",
        "    <tr>\n",
        "      <th>3</th>\n",
        "      <td> 0.338781</td>\n",
        "      <td> 0.160171</td>\n",
        "      <td>-0.070925</td>\n",
        "      <td>-1.074752</td>\n",
        "    </tr>\n",
        "    <tr>\n",
        "      <th>4</th>\n",
        "      <td> 0.684064</td>\n",
        "      <td>-1.634736</td>\n",
        "      <td>-1.565297</td>\n",
        "      <td>-0.937975</td>\n",
        "    </tr>\n",
        "    <tr>\n",
        "      <th>5</th>\n",
        "      <td>-0.685243</td>\n",
        "      <td> 0.195303</td>\n",
        "      <td> 0.596349</td>\n",
        "      <td> 0.668734</td>\n",
        "    </tr>\n",
        "    <tr>\n",
        "      <th>6</th>\n",
        "      <td> 0.946935</td>\n",
        "      <td> 0.416892</td>\n",
        "      <td>-0.241881</td>\n",
        "      <td> 1.272820</td>\n",
        "    </tr>\n",
        "    <tr>\n",
        "      <th>7</th>\n",
        "      <td>-1.135232</td>\n",
        "      <td>-2.264413</td>\n",
        "      <td>-0.697223</td>\n",
        "      <td> 0.421088</td>\n",
        "    </tr>\n",
        "    <tr>\n",
        "      <th>8</th>\n",
        "      <td>-0.262929</td>\n",
        "      <td> 0.160822</td>\n",
        "      <td> 0.031552</td>\n",
        "      <td> 0.735418</td>\n",
        "    </tr>\n",
        "    <tr>\n",
        "      <th>9</th>\n",
        "      <td> 0.409260</td>\n",
        "      <td> 0.493537</td>\n",
        "      <td>-1.226903</td>\n",
        "      <td>-1.375639</td>\n",
        "    </tr>\n",
        "  </tbody>\n",
        "</table>\n",
        "</div>"
       ],
       "metadata": {},
       "output_type": "pyout",
       "prompt_number": 367,
       "text": [
        "          0         1         2         3\n",
        "0  0.860264  1.531629  1.618960 -0.192698\n",
        "1  2.936288 -0.008326 -0.723860  1.969129\n",
        "2 -0.691792 -1.220787  0.894371  1.341702\n",
        "3  0.338781  0.160171 -0.070925 -1.074752\n",
        "4  0.684064 -1.634736 -1.565297 -0.937975\n",
        "5 -0.685243  0.195303  0.596349  0.668734\n",
        "6  0.946935  0.416892 -0.241881  1.272820\n",
        "7 -1.135232 -2.264413 -0.697223  0.421088\n",
        "8 -0.262929  0.160822  0.031552  0.735418\n",
        "9  0.409260  0.493537 -1.226903 -1.375639"
       ]
      }
     ],
     "prompt_number": 367
    },
    {
     "cell_type": "code",
     "collapsed": false,
     "input": [
      "# Break it into pieces\n",
      "pieces = [df[:3], df[3:7],df[7:]]"
     ],
     "language": "python",
     "metadata": {},
     "outputs": [],
     "prompt_number": 371
    },
    {
     "cell_type": "code",
     "collapsed": false,
     "input": [
      "pd.concat(pieces)"
     ],
     "language": "python",
     "metadata": {},
     "outputs": [
      {
       "html": [
        "<div style=\"max-height:1000px;max-width:1500px;overflow:auto;\">\n",
        "<table border=\"1\" class=\"dataframe\">\n",
        "  <thead>\n",
        "    <tr style=\"text-align: right;\">\n",
        "      <th></th>\n",
        "      <th>0</th>\n",
        "      <th>1</th>\n",
        "      <th>2</th>\n",
        "      <th>3</th>\n",
        "    </tr>\n",
        "  </thead>\n",
        "  <tbody>\n",
        "    <tr>\n",
        "      <th>0</th>\n",
        "      <td> 0.860264</td>\n",
        "      <td> 1.531629</td>\n",
        "      <td> 1.618960</td>\n",
        "      <td>-0.192698</td>\n",
        "    </tr>\n",
        "    <tr>\n",
        "      <th>1</th>\n",
        "      <td> 2.936288</td>\n",
        "      <td>-0.008326</td>\n",
        "      <td>-0.723860</td>\n",
        "      <td> 1.969129</td>\n",
        "    </tr>\n",
        "    <tr>\n",
        "      <th>2</th>\n",
        "      <td>-0.691792</td>\n",
        "      <td>-1.220787</td>\n",
        "      <td> 0.894371</td>\n",
        "      <td> 1.341702</td>\n",
        "    </tr>\n",
        "    <tr>\n",
        "      <th>3</th>\n",
        "      <td> 0.338781</td>\n",
        "      <td> 0.160171</td>\n",
        "      <td>-0.070925</td>\n",
        "      <td>-1.074752</td>\n",
        "    </tr>\n",
        "    <tr>\n",
        "      <th>4</th>\n",
        "      <td> 0.684064</td>\n",
        "      <td>-1.634736</td>\n",
        "      <td>-1.565297</td>\n",
        "      <td>-0.937975</td>\n",
        "    </tr>\n",
        "    <tr>\n",
        "      <th>5</th>\n",
        "      <td>-0.685243</td>\n",
        "      <td> 0.195303</td>\n",
        "      <td> 0.596349</td>\n",
        "      <td> 0.668734</td>\n",
        "    </tr>\n",
        "    <tr>\n",
        "      <th>6</th>\n",
        "      <td> 0.946935</td>\n",
        "      <td> 0.416892</td>\n",
        "      <td>-0.241881</td>\n",
        "      <td> 1.272820</td>\n",
        "    </tr>\n",
        "    <tr>\n",
        "      <th>7</th>\n",
        "      <td>-1.135232</td>\n",
        "      <td>-2.264413</td>\n",
        "      <td>-0.697223</td>\n",
        "      <td> 0.421088</td>\n",
        "    </tr>\n",
        "    <tr>\n",
        "      <th>8</th>\n",
        "      <td>-0.262929</td>\n",
        "      <td> 0.160822</td>\n",
        "      <td> 0.031552</td>\n",
        "      <td> 0.735418</td>\n",
        "    </tr>\n",
        "    <tr>\n",
        "      <th>9</th>\n",
        "      <td> 0.409260</td>\n",
        "      <td> 0.493537</td>\n",
        "      <td>-1.226903</td>\n",
        "      <td>-1.375639</td>\n",
        "    </tr>\n",
        "  </tbody>\n",
        "</table>\n",
        "</div>"
       ],
       "metadata": {},
       "output_type": "pyout",
       "prompt_number": 373,
       "text": [
        "          0         1         2         3\n",
        "0  0.860264  1.531629  1.618960 -0.192698\n",
        "1  2.936288 -0.008326 -0.723860  1.969129\n",
        "2 -0.691792 -1.220787  0.894371  1.341702\n",
        "3  0.338781  0.160171 -0.070925 -1.074752\n",
        "4  0.684064 -1.634736 -1.565297 -0.937975\n",
        "5 -0.685243  0.195303  0.596349  0.668734\n",
        "6  0.946935  0.416892 -0.241881  1.272820\n",
        "7 -1.135232 -2.264413 -0.697223  0.421088\n",
        "8 -0.262929  0.160822  0.031552  0.735418\n",
        "9  0.409260  0.493537 -1.226903 -1.375639"
       ]
      }
     ],
     "prompt_number": 373
    },
    {
     "cell_type": "code",
     "collapsed": false,
     "input": [
      "# Also can \"Join\" and \"Append\""
     ],
     "language": "python",
     "metadata": {},
     "outputs": []
    },
    {
     "cell_type": "markdown",
     "metadata": {},
     "source": [
      "###Grouping\n"
     ]
    },
    {
     "cell_type": "code",
     "collapsed": false,
     "input": [
      "df = pd.DataFrame({'A' : ['foo', 'bar', 'foo', 'bar',\n",
      "                       'foo', 'bar', 'foo', 'foo'],\n",
      "                       'B' : ['one', 'one', 'two', 'three',\n",
      "                             'two', 'two', 'one', 'three'],\n",
      "                       'C' : np.random.randn(8),\n",
      "                       'D' : np.random.randn(8)})"
     ],
     "language": "python",
     "metadata": {},
     "outputs": [],
     "prompt_number": 374
    },
    {
     "cell_type": "code",
     "collapsed": false,
     "input": [
      "df"
     ],
     "language": "python",
     "metadata": {},
     "outputs": [
      {
       "html": [
        "<div style=\"max-height:1000px;max-width:1500px;overflow:auto;\">\n",
        "<table border=\"1\" class=\"dataframe\">\n",
        "  <thead>\n",
        "    <tr style=\"text-align: right;\">\n",
        "      <th></th>\n",
        "      <th>A</th>\n",
        "      <th>B</th>\n",
        "      <th>C</th>\n",
        "      <th>D</th>\n",
        "    </tr>\n",
        "  </thead>\n",
        "  <tbody>\n",
        "    <tr>\n",
        "      <th>0</th>\n",
        "      <td> foo</td>\n",
        "      <td>   one</td>\n",
        "      <td>-1.833377</td>\n",
        "      <td>-0.768752</td>\n",
        "    </tr>\n",
        "    <tr>\n",
        "      <th>1</th>\n",
        "      <td> bar</td>\n",
        "      <td>   one</td>\n",
        "      <td> 1.218340</td>\n",
        "      <td>-1.337382</td>\n",
        "    </tr>\n",
        "    <tr>\n",
        "      <th>2</th>\n",
        "      <td> foo</td>\n",
        "      <td>   two</td>\n",
        "      <td> 2.178073</td>\n",
        "      <td>-1.229835</td>\n",
        "    </tr>\n",
        "    <tr>\n",
        "      <th>3</th>\n",
        "      <td> bar</td>\n",
        "      <td> three</td>\n",
        "      <td>-1.080278</td>\n",
        "      <td>-0.654565</td>\n",
        "    </tr>\n",
        "    <tr>\n",
        "      <th>4</th>\n",
        "      <td> foo</td>\n",
        "      <td>   two</td>\n",
        "      <td>-0.585868</td>\n",
        "      <td>-1.255072</td>\n",
        "    </tr>\n",
        "    <tr>\n",
        "      <th>5</th>\n",
        "      <td> bar</td>\n",
        "      <td>   two</td>\n",
        "      <td> 0.269542</td>\n",
        "      <td> 0.854115</td>\n",
        "    </tr>\n",
        "    <tr>\n",
        "      <th>6</th>\n",
        "      <td> foo</td>\n",
        "      <td>   one</td>\n",
        "      <td> 1.260813</td>\n",
        "      <td> 0.284625</td>\n",
        "    </tr>\n",
        "    <tr>\n",
        "      <th>7</th>\n",
        "      <td> foo</td>\n",
        "      <td> three</td>\n",
        "      <td>-0.971674</td>\n",
        "      <td> 1.326227</td>\n",
        "    </tr>\n",
        "  </tbody>\n",
        "</table>\n",
        "</div>"
       ],
       "metadata": {},
       "output_type": "pyout",
       "prompt_number": 375,
       "text": [
        "     A      B         C         D\n",
        "0  foo    one -1.833377 -0.768752\n",
        "1  bar    one  1.218340 -1.337382\n",
        "2  foo    two  2.178073 -1.229835\n",
        "3  bar  three -1.080278 -0.654565\n",
        "4  foo    two -0.585868 -1.255072\n",
        "5  bar    two  0.269542  0.854115\n",
        "6  foo    one  1.260813  0.284625\n",
        "7  foo  three -0.971674  1.326227"
       ]
      }
     ],
     "prompt_number": 375
    },
    {
     "cell_type": "code",
     "collapsed": false,
     "input": [
      "df.groupby(['A','B']).sum()"
     ],
     "language": "python",
     "metadata": {},
     "outputs": [
      {
       "html": [
        "<div style=\"max-height:1000px;max-width:1500px;overflow:auto;\">\n",
        "<table border=\"1\" class=\"dataframe\">\n",
        "  <thead>\n",
        "    <tr style=\"text-align: right;\">\n",
        "      <th></th>\n",
        "      <th></th>\n",
        "      <th>C</th>\n",
        "      <th>D</th>\n",
        "    </tr>\n",
        "    <tr>\n",
        "      <th>A</th>\n",
        "      <th>B</th>\n",
        "      <th></th>\n",
        "      <th></th>\n",
        "    </tr>\n",
        "  </thead>\n",
        "  <tbody>\n",
        "    <tr>\n",
        "      <th rowspan=\"3\" valign=\"top\">bar</th>\n",
        "      <th>one</th>\n",
        "      <td> 1.218340</td>\n",
        "      <td>-1.337382</td>\n",
        "    </tr>\n",
        "    <tr>\n",
        "      <th>three</th>\n",
        "      <td>-1.080278</td>\n",
        "      <td>-0.654565</td>\n",
        "    </tr>\n",
        "    <tr>\n",
        "      <th>two</th>\n",
        "      <td> 0.269542</td>\n",
        "      <td> 0.854115</td>\n",
        "    </tr>\n",
        "    <tr>\n",
        "      <th rowspan=\"3\" valign=\"top\">foo</th>\n",
        "      <th>one</th>\n",
        "      <td>-0.572564</td>\n",
        "      <td>-0.484127</td>\n",
        "    </tr>\n",
        "    <tr>\n",
        "      <th>three</th>\n",
        "      <td>-0.971674</td>\n",
        "      <td> 1.326227</td>\n",
        "    </tr>\n",
        "    <tr>\n",
        "      <th>two</th>\n",
        "      <td> 1.592205</td>\n",
        "      <td>-2.484907</td>\n",
        "    </tr>\n",
        "  </tbody>\n",
        "</table>\n",
        "</div>"
       ],
       "metadata": {},
       "output_type": "pyout",
       "prompt_number": 390,
       "text": [
        "                  C         D\n",
        "A   B                        \n",
        "bar one    1.218340 -1.337382\n",
        "    three -1.080278 -0.654565\n",
        "    two    0.269542  0.854115\n",
        "foo one   -0.572564 -0.484127\n",
        "    three -0.971674  1.326227\n",
        "    two    1.592205 -2.484907"
       ]
      }
     ],
     "prompt_number": 390
    },
    {
     "cell_type": "markdown",
     "metadata": {},
     "source": [
      "###Reshaping"
     ]
    },
    {
     "cell_type": "code",
     "collapsed": false,
     "input": [
      "# You can also stack or unstack levels"
     ],
     "language": "python",
     "metadata": {},
     "outputs": [
      {
       "metadata": {},
       "output_type": "pyout",
       "prompt_number": 383,
       "text": [
        "{'one': [0, 1, 6], 'three': [3, 7], 'two': [2, 4, 5]}"
       ]
      }
     ],
     "prompt_number": 383
    },
    {
     "cell_type": "code",
     "collapsed": false,
     "input": [
      "a = df.groupby(['A','B']).sum()"
     ],
     "language": "python",
     "metadata": {},
     "outputs": [],
     "prompt_number": 391
    },
    {
     "cell_type": "code",
     "collapsed": false,
     "input": [
      "# Pivot Tables\n",
      "pd.pivot_table(df,values=['C','D'],rows=['A'],cols=['B'])"
     ],
     "language": "python",
     "metadata": {},
     "outputs": [
      {
       "html": [
        "<div style=\"max-height:1000px;max-width:1500px;overflow:auto;\">\n",
        "<table border=\"1\" class=\"dataframe\">\n",
        "  <thead>\n",
        "    <tr>\n",
        "      <th></th>\n",
        "      <th colspan=\"3\" halign=\"left\">C</th>\n",
        "      <th colspan=\"3\" halign=\"left\">D</th>\n",
        "    </tr>\n",
        "    <tr>\n",
        "      <th>B</th>\n",
        "      <th>one</th>\n",
        "      <th>three</th>\n",
        "      <th>two</th>\n",
        "      <th>one</th>\n",
        "      <th>three</th>\n",
        "      <th>two</th>\n",
        "    </tr>\n",
        "    <tr>\n",
        "      <th>A</th>\n",
        "      <th></th>\n",
        "      <th></th>\n",
        "      <th></th>\n",
        "      <th></th>\n",
        "      <th></th>\n",
        "      <th></th>\n",
        "    </tr>\n",
        "  </thead>\n",
        "  <tbody>\n",
        "    <tr>\n",
        "      <th>bar</th>\n",
        "      <td> 1.218340</td>\n",
        "      <td>-1.080278</td>\n",
        "      <td> 0.269542</td>\n",
        "      <td>-1.337382</td>\n",
        "      <td>-0.654565</td>\n",
        "      <td> 0.854115</td>\n",
        "    </tr>\n",
        "    <tr>\n",
        "      <th>foo</th>\n",
        "      <td>-0.286282</td>\n",
        "      <td>-0.971674</td>\n",
        "      <td> 0.796102</td>\n",
        "      <td>-0.242063</td>\n",
        "      <td> 1.326227</td>\n",
        "      <td>-1.242454</td>\n",
        "    </tr>\n",
        "  </tbody>\n",
        "</table>\n",
        "</div>"
       ],
       "metadata": {},
       "output_type": "pyout",
       "prompt_number": 407,
       "text": [
        "            C                             D                    \n",
        "B         one     three       two       one     three       two\n",
        "A                                                              \n",
        "bar  1.218340 -1.080278  0.269542 -1.337382 -0.654565  0.854115\n",
        "foo -0.286282 -0.971674  0.796102 -0.242063  1.326227 -1.242454"
       ]
      }
     ],
     "prompt_number": 407
    },
    {
     "cell_type": "markdown",
     "metadata": {},
     "source": [
      "### Time Series\n"
     ]
    },
    {
     "cell_type": "code",
     "collapsed": false,
     "input": [
      "# 100 Seconds starting on January 1st\n",
      "rng = pd.date_range('1/1/2014', periods=100, freq='S')"
     ],
     "language": "python",
     "metadata": {},
     "outputs": [],
     "prompt_number": 444
    },
    {
     "cell_type": "code",
     "collapsed": false,
     "input": [],
     "language": "python",
     "metadata": {},
     "outputs": [
      {
       "metadata": {},
       "output_type": "pyout",
       "prompt_number": 426,
       "text": [
        "100"
       ]
      }
     ],
     "prompt_number": 426
    },
    {
     "cell_type": "code",
     "collapsed": false,
     "input": [
      "# Give each second a random value\n",
      "ts = pd.Series(np.random.randint(0, 500, len(rng)), index=rng)"
     ],
     "language": "python",
     "metadata": {},
     "outputs": [],
     "prompt_number": 529
    },
    {
     "cell_type": "code",
     "collapsed": true,
     "input": [
      "ts"
     ],
     "language": "python",
     "metadata": {},
     "outputs": [
      {
       "metadata": {},
       "output_type": "pyout",
       "prompt_number": 449,
       "text": [
        "2014-01-01 00:00:00    311\n",
        "2014-01-01 00:00:01    341\n",
        "2014-01-01 00:00:02    150\n",
        "2014-01-01 00:00:03     25\n",
        "2014-01-01 00:00:04     40\n",
        "2014-01-01 00:00:05     28\n",
        "2014-01-01 00:00:06    373\n",
        "2014-01-01 00:00:07     68\n",
        "2014-01-01 00:00:08    306\n",
        "2014-01-01 00:00:09    372\n",
        "2014-01-01 00:00:10    305\n",
        "2014-01-01 00:00:11    141\n",
        "2014-01-01 00:00:12    266\n",
        "2014-01-01 00:00:13    121\n",
        "2014-01-01 00:00:14    296\n",
        "...\n",
        "2014-01-01 00:01:25    303\n",
        "2014-01-01 00:01:26    329\n",
        "2014-01-01 00:01:27    218\n",
        "2014-01-01 00:01:28    269\n",
        "2014-01-01 00:01:29    227\n",
        "2014-01-01 00:01:30    417\n",
        "2014-01-01 00:01:31    376\n",
        "2014-01-01 00:01:32    256\n",
        "2014-01-01 00:01:33    293\n",
        "2014-01-01 00:01:34    156\n",
        "2014-01-01 00:01:35    482\n",
        "2014-01-01 00:01:36    207\n",
        "2014-01-01 00:01:37    255\n",
        "2014-01-01 00:01:38     84\n",
        "2014-01-01 00:01:39    321\n",
        "Freq: S, Length: 100, dtype: int64"
       ]
      }
     ],
     "prompt_number": 449
    },
    {
     "cell_type": "code",
     "collapsed": false,
     "input": [
      "# Built in resampling\n",
      "ts.resample('1Min',how='mean') # Resample secondly to 1Minutely"
     ],
     "language": "python",
     "metadata": {},
     "outputs": [
      {
       "metadata": {},
       "output_type": "pyout",
       "prompt_number": 448,
       "text": [
        "2014-01-01 00:00:00    235.300\n",
        "2014-01-01 00:01:00    260.125\n",
        "Freq: T, dtype: float64"
       ]
      }
     ],
     "prompt_number": 448
    },
    {
     "cell_type": "code",
     "collapsed": false,
     "input": [
      "# Many additional time series features\n",
      "ts. #use tab"
     ],
     "language": "python",
     "metadata": {},
     "outputs": []
    },
    {
     "cell_type": "markdown",
     "metadata": {},
     "source": [
      "###Plotting\n"
     ]
    },
    {
     "cell_type": "code",
     "collapsed": false,
     "input": [
      "ts.plot()"
     ],
     "language": "python",
     "metadata": {},
     "outputs": [
      {
       "metadata": {},
       "output_type": "pyout",
       "prompt_number": 528,
       "text": [
        "<matplotlib.axes.AxesSubplot at 0x111a9b0d0>"
       ]
      },
      {
       "metadata": {},
       "output_type": "display_data",
       "png": "[encoded data removed]",
       "text": [
        "<matplotlib.figure.Figure at 0x111c8ff90>"
       ]
      }
     ],
     "prompt_number": 528
    },
    {
     "cell_type": "code",
     "collapsed": false,
     "input": [
      "def randwalk(startdate,points):\n",
      "    ts = pd.Series(np.random.randn(points), index=pd.date_range(startdate, periods=points))\n",
      "    ts=ts.cumsum()\n",
      "    ts.plot()\n",
      "    return(ts)"
     ],
     "language": "python",
     "metadata": {},
     "outputs": [],
     "prompt_number": 515
    },
    {
     "cell_type": "code",
     "collapsed": false,
     "input": [
      "# Using pandas to make a simple random walker by repeatedly running:\n",
      "a=randwalk('1/1/2012',1000)"
     ],
     "language": "python",
     "metadata": {},
     "outputs": [
      {
       "metadata": {},
       "output_type": "display_data",
       "png": "[encoded data removed]",
       "text": [
        "<matplotlib.figure.Figure at 0x113285490>"
       ]
      }
     ],
     "prompt_number": 580
    },
    {
     "cell_type": "code",
     "collapsed": false,
     "input": [
      "# Pandas plot function will print with labels as default"
     ],
     "language": "python",
     "metadata": {},
     "outputs": [],
     "prompt_number": 573
    },
    {
     "cell_type": "code",
     "collapsed": false,
     "input": [
      "df = pd.DataFrame(np.random.randn(100, 4), index=ts.index,columns=['A', 'B', 'C', 'D'])\n",
      "df = df.cumsum()\n",
      "plt.figure();df.plot();plt.legend(loc='best') #"
     ],
     "language": "python",
     "metadata": {},
     "outputs": [
      {
       "metadata": {},
       "output_type": "pyout",
       "prompt_number": 576,
       "text": [
        "<matplotlib.legend.Legend at 0x111cb4d50>"
       ]
      },
      {
       "metadata": {},
       "output_type": "display_data",
       "text": [
        "<matplotlib.figure.Figure at 0x112216dd0>"
       ]
      },
      {
       "metadata": {},
       "output_type": "display_data",
       "png": "[encoded data removed]",
       "text": [
        "<matplotlib.figure.Figure at 0x1122c8dd0>"
       ]
      }
     ],
     "prompt_number": 576
    },
    {
     "cell_type": "markdown",
     "metadata": {},
     "source": [
      "###I/O\n",
      "I/O is straightforward with, for example, pd.read_csv or df.to_csv"
     ]
    },
    {
     "cell_type": "markdown",
     "metadata": {},
     "source": [
      "#Lab"
     ]
    },
    {
     "cell_type": "markdown",
     "metadata": {},
     "source": [
      "# Next Steps\n",
      "\n",
      "**Recommended Resources**\n",
      "\n",
      "Name | Description\n",
      "--- | ---\n",
      "[Official Pandas Tutorials](http://pandas.pydata.org/pandas-docs/stable/tutorials.html) | Wes & Company's selection of tutorials and lectures\n",
      "[Julia Evans Pandas Cookbook](https://github.com/jvns/pandas-cookbook) | Great resource with examples from weather, bikes and 311 calls\n",
      "[Learn Pandas Tutorials](https://bitbucket.org/hrojas/learn-pandas) | A great series of Pandas tutorials from Dave Rojas\n",
      "[Research Computing Python Data PYNBs](https://github.com/ResearchComputing/Meetup-Fall-2013/tree/master/python) | A super awesome set of python notebooks from a meetup-based course exclusively devoted to pandas"
     ]
    }
   ],
   "metadata": {}
  }
 ]
}